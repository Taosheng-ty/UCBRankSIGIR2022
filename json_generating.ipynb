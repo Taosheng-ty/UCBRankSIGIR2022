{
 "cells": [
  {
   "cell_type": "code",
   "execution_count": 12,
   "metadata": {},
   "outputs": [],
   "source": [
    "import json\n",
    "import os\n",
    "import numpy as np\n",
    "# intervene_strategy_list=[\"direct\",\"gumbel\",\"dropout\"]\n",
    "# intervene_strategy_list=[\"direct\",\"plackettluce\",\"dropout\",\"dropout_shuffle\"]\n",
    "# n_updates_list=[0,1,10]\n",
    "# intervene_strategy_list=[\"random\"]\n",
    "n_updates_list=[20]\n",
    "# n_updates_list=[10]\n",
    "# intervene_strategy_list=[\"random_tradeoff\",\"ucb\",\"portfolio\",\"portfolio_v1\"]\n",
    "# tradeoff_param_name=[\"random_param_c\",\"ucb_param_c\",\"risk_averse_param\",\"risk_averse_param_v1\"]\n",
    "\n",
    "intervene_strategy_list=[\"random_tradeoff\",\"ucb\",\"std_proposional\",\"ucb_std\",\"portfolio_proposional\"]\n",
    "intervene_strategy_list=[\"random_tradeoff\",\"ucb\",\"ucb_std\",\"std_proposional\",\"portfolio_proposional\"]\n",
    "intervene_strategy_list=[\"random_tradeoff\",\"ucb\",\"ucb_std\",\"std_proposional\"]\n",
    "tradeoff_param_name=[\"tradeoff_param\",\"tradeoff_param\",\"tradeoff_param\",\"tradeoff_param\",\"tradeoff_param\"]\n",
    "# intervene_strategy_list=[\"random_tradeoff\",\"std_proposional\",\"ucb\",\"ucb_std\",\\\n",
    "#                          \"merge_ucb\",\"merge_random_tradeoff\",\"ips_ucb\",\"ips_random_tradeoff\"]\n",
    "intervene_strategy_list=[\"random_tradeoff\",\"std_proposional\",\"PDGD\"]\n",
    "intervene_strategy_list=[\"random_tradeoff\",\"merge_ucb\",\"PDGD\",\"ips_ucb\",\"std_proposional\",\"ips_random_tradeoff\",\"merge_random_tradeoff\"]\n",
    "intervene_strategy_list=[\"merge_ucb\",\"merge_random_tradeoff\",\"ips_ucb\",\"ips_random_tradeoff\"]\n",
    "\n",
    "tradeoff_stra=tuple(zip(intervene_strategy_list,tradeoff_param_name))\n",
    "n_updates_list=[20]\n",
    "# n_updates_list=[0,10]\n",
    "\n",
    "num_trials=5\n",
    "# root_path=\"local_output/settings_sigmoid_1000000/loss_session_obliv/cutoff_5\"\n",
    "# root_path=\"addbehaviour_coldstart/no_behav/\"\n",
    "# root_path=\"addbehaviour_coldstart/add_ips/\"\n",
    "# root_path=\"addbehaviour_coldstart/add_click/\"\n",
    "\n",
    "root_path=\"addbehaviour_cold_29oct_fair1/show_prob5/no_behav/\"\n",
    "# root_path=\"addbehaviour_cold_29oct_fair/show_prob5/add_click/\"\n",
    "# root_path=\"addbehaviour_cold_29oct_fair/show_prob5/add_ips/\"\n",
    "# root_path=\"addbehaviour_cold_29oct_fair/show_prob5/add_ctr/\"\n",
    "# root_path=\"addbehaviour_NP/no_behav/\"\n",
    "# root_path=\"addbehaviour_NP/add_click/\"\n",
    "# root_path=\"addbehaviour_NP/add_ips/\"\n",
    "# root_path=\"addbehaviour_20k/add_ips/\"\n",
    "# root_path=\"addbehaviour_cold_20k/add_click/\"\n",
    "# root_path=\"addbehaviour_cold_20k/add_ips/\"\n",
    "# root_path=\"addbehaviour_cold_20k/no_behav/\"\n",
    "# root_path=\"addbehaviour/no_behav/\"\n",
    "# root_path=\"local_output_point_wise_test_query_cutoff/\"\n",
    "cutoff=5\n",
    "shown_prob=0.5\n",
    "settings_base={\n",
    "          \"n_eval\":100,\n",
    "#             \"n_eval\":20,\n",
    "#           \"n_iteration\":8*10**4,\n",
    "            \"shown_prob\":shown_prob,\n",
    "#           \"n_iteration\":400,\n",
    "          \"cutoff\":cutoff,\n",
    "          \"epochs\":100,\n",
    "        \"session_aware\":\"True\",\n",
    "        \"query_least_size\":5,\n",
    "          # \"single_training\":\"True\",\n",
    "          \"optimizer\":\"Adam\",\n",
    "          \"use_GPU\":\"True\",\n",
    "#           \"early_stop_patience\":5,\n",
    "         \"batch_size\":2**12,\n",
    "          \"cold_start\":\"True\",\n",
    "#     \"add_one_dim\":\"True\",\n",
    "    \"linspace_sampling\":\"True\",\n",
    "#     \"add_behavior\":\"True\",\n",
    "#     \"add_ips\":\"True\",\n",
    "#     \"add_ctr\":\"True\"\n",
    "            \n",
    "}\n",
    "# query_least_sizes=[0,10,20,30,40]\n",
    "# query_least_sizes=[0]\n",
    "# query_least_sizes=[30]\n",
    "# for query_least_size in query_least_sizes:\n",
    "# tradeoff_params=np.arange(11)/10\n",
    "tradeoff_params={}\n",
    "# [0.0,0.01,0.1,1.0,10.0,100.0,500.0,1000.0]\n",
    "tradeoff_params[\"random_tradeoff\"]=[-0.01,-0.1,-1.0,-10.0,-100.0,0.0,0.001,0.005,0.01,0.02,0.05,0.08,0.1,0.2,0.5,0.8,1.0,10.0,100.0]\n",
    "tradeoff_params[\"ips_ucb\"]=[0.0,0.001,0.005,0.01,0.02,0.05,0.08,0.1,0.2,0.5,0.8,1.0,10.0,100.0,1000.0]\n",
    "tradeoff_params[\"ips_random_tradeoff\"]=[0.0,0.001,0.005,0.01,0.02,0.05,0.08,0.1,0.2,0.5,0.8,1.0,10.0,100.0,1000.0]\n",
    "tradeoff_params[\"merge_ucb\"]=[-0.01,-0.1,-1.0,-10.0,-100.0,0.0,0.001,0.005,0.01,0.02,0.05,0.08,0.1,0.2,0.5,0.8,1.0,10.0,100.0,1000.0]\n",
    "tradeoff_params[\"merge_random_tradeoff\"]=tradeoff_params[\"merge_ucb\"]\n",
    "tradeoff_params[\"ucb\"]=[-0.01,-0.1,-1.0,-10.0,-100.0,0.0,0.001,0.005,0.01,0.02,0.05,0.08,0.1,0.2,0.5,0.8,1.0,10.0,100.0]\n",
    "tradeoff_params[\"portfolio_proposional\"]=[-0.01,-0.1,-1.0,-10.0,-100.0,0.0,0.001,0.005,0.01,0.02,0.05,0.08,0.1,0.2,0.5,0.8,1.0,10.0,100.0,1000.0,10000.0]\n",
    "tradeoff_params[\"ucb_std\"]=[0.0,0.1,1.0,10.0,100.0,1000.0,10000.0]\n",
    "tradeoff_params[\"std_proposional\"]=[-0.01,-0.1,-1.0,-10.0,-100.0,0.0,0.001,0.005,0.01,0.02,0.05,0.08,0.1,0.2,0.5,0.8,1.0,10.0,100.0,1000.0,10000.0]\n",
    "tradeoff_params[\"risk_averse_param_v1\"]=[5.0,1.0,0.0,-1.0,-5.0,10.0,-100.0]\n",
    "tradeoff_params[\"tradeoff_param\"]=[-0.01,-0.1,-1.0,-10.0,0.0,0.01,0.02,0.05,0.1,0.2,0.5,1.0,5.0,8.0,10.0,15.0,20.0,30.0,40.0,50.0,100.0,1000,5000,10000]\n",
    "tradeoff_params[\"PDGD\"]=[1.0]\n",
    "\n",
    "datasets=[\"istella-s\",\"Webscope_C14_Set1\",\"MSLR-WEB30k\",\"MSLR-WEB30k_beh_rm1%\",\"MSLR-WEB30k_beh_rm10%\"]\n",
    "# datasets=[\"istella-s\",\"Webscope_C14_Set1\",\"MSLR-WEB30k_beh_rm\"]\n",
    "# datasets=[\"MQ2007\",\"MQ2008\"]\n",
    "datasets=[\"NP2003\",\"NP2004\",\"MQ2007\",\"MQ2008\",\"MSLR-WEB30k_beh_rm\",\"MSLR-WEB10k_beh_rm\"]\n",
    "# datasets=[\"NP2003\",\"NP2004\"]\n",
    "# datasets=[\"MSLR-WEB30k_beh_rm\",\"MSLR-WEB10k_beh_rm\",\"MQ2007\"]\n",
    "datasets=[,\"MQ2007\",\"MQ2008\",\"MSLR-WEB30k_beh_rm\",\"MSLR-WEB10k_beh_rm\"\n",
    "         ]\n",
    "iterations_dict={\"MSLR-WEB30k_beh_rm\":3.8*10**6,\"MSLR-WEB10k_beh_rm\":1.2*10**6,\\\n",
    "                 \"MQ2007\":67*10**3,\"MQ2008\":15*10**3,\"istella-s\":10**6,\\\n",
    "                \"Webscope_C14_Set1\":10**6,\"MSLR-WEB30k_beh_rm1%\":2*10**4,\"NP2003\":146*10**3,\"NP2004\":71*10**3,}\n",
    "#                  \"MQ2007\":10**5,\"MQ2008\":2*10**4,\"istella-s\":6*10**6,\\\n",
    "#                 \"Webscope_C14_Set1\":10**6,\"MSLR-WEB30k_beh_rm1%\":6*10**6,\"NP2003\":10**5,\"NP2004\":5*10**4,}\n",
    "# datasets=[\"MSLR-WEB30k_beh_rm\",\"MSLR-WEB10k_beh_rm\",\"istella-s\"]\n",
    "early_stop_patience_dict={\"MSLR-WEB30k_beh_rm\":5,\"MSLR-WEB10k_beh_rm\":5,\\\n",
    "                 \"MQ2007\":40,\"MQ2008\":40,\"istella-s\":5,\\\n",
    "                \"Webscope_C14_Set1\":5,\"MSLR-WEB30k_beh_rm1%\":5,\"NP2003\":50,\"NP2004\":20}\n",
    "\n",
    "for dataset in datasets:\n",
    "  for intervene_strategy in intervene_strategy_list:\n",
    "      for n_updates in n_updates_list:\n",
    "          for tradeoff_param in tradeoff_params[intervene_strategy]:\n",
    "            tradeoff_param=float(tradeoff_param)\n",
    "            if tradeoff_param<0:\n",
    "                continue\n",
    "            for trial in range(num_trials):\n",
    "                # output_path=os.path.join(root_path, \"query_least_size\"+str(query_least_size),intervene_strategy, \"n_updates_\"+str(n_updates), \"trial_\"+str(trial))\n",
    "                output_path=os.path.join(root_path,dataset,intervene_strategy, \"n_updates_\"+str(n_updates),\"tradeoff_\"+str(tradeoff_param), \"trial_\"+str(trial))\n",
    "                settings=dict(settings_base)\n",
    "                if not os.path.exists(output_path):\n",
    "                    os.makedirs(output_path)\n",
    "                settings[\"early_stop_patience\"]=early_stop_patience_dict[dataset]\n",
    "                settings[\"tradeoff_param\"]=tradeoff_param\n",
    "#                 settings[\"pretrained_model\"]=os.path.join(\"pretrained\",dataset,\"pretrained/trial0/model.h5\")\n",
    "#                 settings[\"supervised_model\"]=os.path.join(\"pretrained\",dataset,\"supervised/trial0/model.h5\")\n",
    "                settings[\"random_seed\"]=trial\n",
    "                setting_path=os.path.join(output_path,\"setting.json\") \n",
    "                settings[\"intervene_strategy\"]=intervene_strategy\n",
    "                settings[\"n_updates\"]=n_updates\n",
    "                settings[\"dataset\"]=dataset\n",
    "                if intervene_strategy==\"PDGD\":\n",
    "                    settings[\"pdgd_update\"]=\"True\"\n",
    "                settings[\"n_iteration\"]=int(iterations_dict[dataset]//shown_prob)\n",
    "                settings[\"output_path\"]=os.path.join(output_path,\"output.txt\") \n",
    "                # print(settings)\n",
    "                with open(setting_path, 'w+') as f:\n",
    "                    json.dump(settings, f)\n"
   ]
  },
  {
   "cell_type": "code",
   "execution_count": 13,
   "metadata": {},
   "outputs": [
    {
     "data": {
      "text/plain": [
       "24"
      ]
     },
     "execution_count": 13,
     "metadata": {},
     "output_type": "execute_result"
    }
   ],
   "source": [
    "len(tradeoff_params[\"tradeoff_param\"])"
   ]
  },
  {
   "cell_type": "code",
   "execution_count": 363,
   "metadata": {},
   "outputs": [],
   "source": [
    "d=[('/no_behav/MQ2007/merge_ucb/n_updates_20/tradeoff_0.005/trial_0', 'setting.json'), ('/no_behav/MQ2007/merge_ucb/n_updates_20/tradeoff_0.05/trial_2', 'setting.json'), ('/no_behav/MQ2007/merge_ucb/n_updates_20/tradeoff_0.005/trial_2', 'setting.json'),('/no_behav/MQ2007/merge_ucb/n_updates_20/tradeoff_0.5/trial_0', 'setting.json'), ('/no_behav/MQ2007/merge_ucb/n_updates_20/tradeoff_0.5/trial_1', 'setting.json'), ('/no_behav/MQ2007/merge_ucb/n_updates_20/tradeoff_1.0/trial_0', 'setting.json'), ('/no_behav/MQ2007/merge_ucb/n_updates_20/tradeoff_0.005/trial_1', 'setting.json'), ('/no_behav/MQ2007/merge_ucb/n_updates_20/tradeoff_1000.0/trial_0', 'setting.json'), ('/no_behav/MQ2007/merge_ucb/n_updates_20/tradeoff_10.0/trial_1', 'setting.json'), ('/no_behav/MQ2007/merge_ucb/n_updates_20/tradeoff_0.01/trial_2', 'setting.json'), ('/no_behav/MQ2007/merge_ucb/n_updates_20/tradeoff_0.2/trial_1', 'setting.json'), ('/no_behav/MQ2007/merge_ucb/n_updates_20/tradeoff_0.08/trial_2', 'setting.json'), ('/no_behav/MQ2007/merge_ucb/n_updates_20/tradeoff_0.0/trial_2', 'setting.json'), ('/no_behav/MQ2007/merge_ucb/n_updates_20/tradeoff_0.02/trial_0', 'setting.json'), ('/no_behav/MQ2007/merge_ucb/n_updates_20/tradeoff_0.01/trial_0', 'setting.json'), ('/no_behav/MQ2007/merge_ucb/n_updates_20/tradeoff_0.2/trial_0', 'setting.json'), ('/no_behav/MQ2007/merge_ucb/n_updates_20/tradeoff_0.001/trial_1', 'setting.json'), ('/no_behav/MQ2007/merge_ucb/n_updates_20/tradeoff_0.8/trial_1', 'setting.json'), ('/no_behav/MQ2007/merge_ucb/n_updates_20/tradeoff_0.02/trial_1', 'setting.json'), ('/no_behav/MQ2007/merge_ucb/n_updates_20/tradeoff_0.5/trial_2', 'setting.json'), ('/no_behav/MQ2007/merge_ucb/n_updates_20/tradeoff_100.0/trial_0', 'setting.json'), ('/no_behav/MQ2007/merge_ucb/n_updates_20/tradeoff_100.0/trial_1', 'setting.json'), ('/no_behav/MQ2007/merge_ucb/n_updates_20/tradeoff_10.0/trial_2', 'setting.json'), ('/no_behav/MQ2007/merge_ucb/n_updates_20/tradeoff_1000.0/trial_2', 'setting.json'), ('/no_behav/MQ2007/merge_ucb/n_updates_20/tradeoff_0.08/trial_0', 'setting.json'), ('/no_behav/MQ2007/merge_ucb/n_updates_20/tradeoff_0.08/trial_1', 'setting.json'), ('/no_behav/MQ2007/merge_ucb/n_updates_20/tradeoff_0.1/trial_2', 'setting.json'), ('/no_behav/MQ2007/merge_ucb/n_updates_20/tradeoff_0.0/trial_0', 'setting.json'), ('/no_behav/MQ2007/merge_ucb/n_updates_20/tradeoff_0.001/trial_0', 'setting.json'), ('/no_behav/MQ2007/merge_ucb/n_updates_20/tradeoff_0.1/trial_0', 'setting.json'), ('/no_behav/MQ2007/merge_ucb/n_updates_20/tradeoff_0.8/trial_2', 'setting.json'), ('/no_behav/MQ2007/merge_ucb/n_updates_20/tradeoff_10.0/trial_0', 'setting.json'), ('/no_behav/MQ2007/merge_ucb/n_updates_20/tradeoff_1.0/trial_1', 'setting.json'), ('/no_behav/MQ2007/merge_ucb/n_updates_20/tradeoff_0.02/trial_2', 'setting.json'), ('/no_behav/MQ2007/merge_ucb/n_updates_20/tradeoff_0.05/trial_0', 'setting.json'), ('/no_behav/MQ2007/merge_ucb/n_updates_20/tradeoff_0.0/trial_1', 'setting.json'), ('/no_behav/MQ2007/merge_ucb/n_updates_20/tradeoff_0.2/trial_2', 'setting.json'), ('/no_behav/MQ2007/merge_ucb/n_updates_20/tradeoff_0.1/trial_1', 'setting.json'),('/no_behav/MQ2007/merge_ucb/n_updates_20/tradeoff_0.8/trial_0', 'setting.json'), ('/no_behav/MQ2007/merge_ucb/n_updates_20/tradeoff_100.0/trial_2', 'setting.json'), ('/no_behav/MQ2007/merge_ucb/n_updates_20/tradeoff_1000.0/trial_1', 'setting.json'), ('/no_behav/MQ2007/merge_ucb/n_updates_20/tradeoff_0.05/trial_1', 'setting.json'), ('/no_behav/MQ2007/merge_ucb/n_updates_20/tradeoff_1.0/trial_2', 'setting.json'), ('/no_behav/MQ2007/merge_ucb/n_updates_20/tradeoff_0.001/trial_2', 'setting.json'), ('/no_behav/MQ2007/merge_ucb/n_updates_20/tradeoff_0.01/trial_1', 'setting.json')]"
   ]
  },
  {
   "cell_type": "code",
   "execution_count": 344,
   "metadata": {},
   "outputs": [],
   "source": [
    "dd=sorted(d,key=lambda x: int(x[0][-1]))"
   ]
  },
  {
   "cell_type": "code",
   "execution_count": 8,
   "metadata": {},
   "outputs": [],
   "source": [
    "# !rm -rf addbehaviour_cold_29oct_fair/"
   ]
  },
  {
   "cell_type": "code",
   "execution_count": 282,
   "metadata": {},
   "outputs": [],
   "source": [
    "# import json\n",
    "# import os\n",
    "# import numpy as np\n",
    "# # intervene_strategy_list=[\"direct\",\"gumbel\",\"dropout\"]\n",
    "# # intervene_strategy_list=[\"direct\",\"plackettluce\",\"dropout\",\"dropout_shuffle\"]\n",
    "# # n_updates_list=[0,1,10]\n",
    "# # intervene_strategy_list=[\"random\"]\n",
    "# n_updates_list=[20]\n",
    "# # n_updates_list=[10]\n",
    "# # intervene_strategy_list=[\"random_tradeoff\",\"ucb\",\"portfolio\",\"portfolio_v1\"]\n",
    "# # tradeoff_param_name=[\"random_param_c\",\"ucb_param_c\",\"risk_averse_param\",\"risk_averse_param_v1\"]\n",
    "\n",
    "# intervene_strategy_list=[\"random_tradeoff\",\"ucb\",\"std_proposional\",\"ucb_std\",\"portfolio_proposional\"]\n",
    "# intervene_strategy_list=[\"random_tradeoff\",\"ucb\",\"ucb_std\",\"std_proposional\",\"portfolio_proposional\"]\n",
    "# intervene_strategy_list=[\"random_tradeoff\",\"ucb\",\"ucb_std\",\"std_proposional\"]\n",
    "# tradeoff_param_name=[\"tradeoff_param\",\"tradeoff_param\",\"tradeoff_param\",\"tradeoff_param\",\"tradeoff_param\"]\n",
    "# # intervene_strategy_list=[\"random_tradeoff\",\"std_proposional\",\"ucb\",\"ucb_std\",\\\n",
    "# #                          \"merge_ucb\",\"merge_random_tradeoff\",\"ips_ucb\",\"ips_random_tradeoff\"]\n",
    "# # intervene_strategy_list=[\"random_tradeoff\",\"std_proposional\",\"ips_ucb\"]\n",
    "# # intervene_strategy_list=[\"pdgd\"]\n",
    "# intervene_strategy_list=[\"random_tradeoff\",\"merge_ucb\",\"ips_ucb\",\"std_proposional\",\"merge_random_tradeoff\"]\n",
    "# tradeoff_stra=tuple(zip(intervene_strategy_list,tradeoff_param_name))\n",
    "# n_updates_list=[20]\n",
    "# # n_updates_list=[0,10]\n",
    "\n",
    "# num_trials=5\n",
    "# # root_path=\"local_output/settings_sigmoid_1000000/loss_session_obliv/cutoff_5\"\n",
    "# # root_path=\"addbehaviour_coldstart/no_behav/\"\n",
    "# # root_path=\"addbehaviour_coldstart/add_ips/\"\n",
    "# # root_path=\"addbehaviour_coldstart/add_click/\"\n",
    "\n",
    "# # root_path=\"addbehaviour_full/no_behav/\"\n",
    "# # root_path=\"addbehaviour_full/add_click/\"\n",
    "# # root_path=\"addbehaviour_full//add_ips/\"\n",
    "# # root_path=\"addbehaviour_NP/add_ips_initialize-2/\"\n",
    "# # root_path=\"addbehaviour_20k/add_ips/\"\n",
    "# # root_path=\"addbehaviour_cold_20k/add_click/\"\n",
    "# # root_path=\"addbehaviour_cold_20k/add_ips/\"\n",
    "# # root_path=\"addbehaviour_cold_20k/no_behav/\"\n",
    "# # root_path=\"addbehaviour_cold_20k/add_ips_initialize-2/\"\n",
    "# root_path=\"addbehaviour_cold_14oct_linear/no_behav/\"\n",
    "# # root_path=\"addbehaviour_cold_14oct_linear/add_click/\"\n",
    "# # root_path=\"addbehaviour_cold_14oct_linear/add_ips/\"\n",
    "# # root_path=\"addbehaviour/no_behav/\"\n",
    "# # root_path=\"local_output_point_wise_test_query_cutoff/\"\n",
    "# cutoff=5\n",
    "\n",
    "# settings_base={\n",
    "#           \"n_eval\":20,\n",
    "# #           \"n_iteration\":8*10**4,\n",
    "#             \"shown_prob\":0.1,\n",
    "# #           \"n_iteration\":400,\n",
    "#           \"cutoff\":cutoff,\n",
    "# #           \"epochs\":20,\n",
    "#         \"session_aware\":\"True\",\n",
    "#         \"query_least_size\":5,\n",
    "#           # \"single_training\":\"True\",\n",
    "#           \"optimizer\":\"Adam\",\n",
    "#           \"use_GPU\":\"True\",\n",
    "#           \"early_stop_patience\":10,\n",
    "#          \"batch_size\":2**12,\n",
    "#           \"cold_start\":\"True\",\n",
    "# #     \"add_one_dim\":\"True\",\n",
    "# #     \"linspace_sampling\":\"True\",\n",
    "# #     \"add_behavior\":\"true\",\n",
    "# #     \"add_ips\":\"true\",\n",
    "# #     \"ips_initialize\":-2.0,\n",
    "            \n",
    "# }\n",
    "# # query_least_sizes=[0,10,20,30,40]\n",
    "# # query_least_sizes=[0]\n",
    "# # query_least_sizes=[30]\n",
    "# # for query_least_size in query_least_sizes:\n",
    "# # tradeoff_params=np.arange(11)/10\n",
    "# tradeoff_params={}\n",
    "# # [0.0,0.01,0.1,1.0,10.0,100.0,500.0,1000.0]\n",
    "# tradeoff_params[\"random_tradeoff\"]=[-0.01,-0.1,-1.0,-10.0,-100.0,0.0,0.01,0.1,1.0,10.0,100.0]\n",
    "# tradeoff_params[\"ips_ucb\"]=[0.0,0.01,0.1,1.0,10.0,100.0,1000.0]\n",
    "# tradeoff_params[\"ips_random_tradeoff\"]=[0.0,0.01,0.1,1.0,10.0,100.0,1000.0]\n",
    "# tradeoff_params[\"merge_ucb\"]=[-0.01,-0.1,-1.0,-10.0,-100.0,0.0,0.01,0.1,1.0,10.0,100.0,1000.0]\n",
    "# tradeoff_params[\"merge_random_tradeoff\"]=[-0.01,-0.1,-1.0,-10.0,-100.0,0.0,0.01,0.1,1.0,10.0,100.0,1000.0]\n",
    "# tradeoff_params[\"ucb\"]=[-0.01,-0.1,-1.0,-10.0,-100.0,0.0,0.01,0.1,1.0,10.0,100.0]\n",
    "# tradeoff_params[\"portfolio_proposional\"]=[-0.01,-0.1,-1.0,-10.0,-100.0,0.0,0.1,1.0,10.0,100.0,1000.0,10000.0]\n",
    "# tradeoff_params[\"ucb_std\"]=[0.0,0.1,1.0,10.0,100.0,1000.0,10000.0]\n",
    "# tradeoff_params[\"std_proposional\"]=[-0.01,-0.1,-1.0,-10.0,-100.0,0.0,0.1,1.0,10.0,100.0,1000.0,10000.0]\n",
    "# tradeoff_params[\"risk_averse_param_v1\"]=[5.0,1.0,0.0,-1.0,-5.0,10.0,-100.0]\n",
    "# tradeoff_params[\"tradeoff_param\"]=[-0.01,-0.1,-1.0,-10.0,0.0,0.01,0.02,0.05,0.1,0.2,0.5,1.0,5.0,8.0,10.0,15.0,20.0,30.0,40.0,50.0,100.0,1000,5000,10000]\n",
    "# tradeoff_params[\"pdgd\"]=[0.0]\n",
    "# datasets=[\"istella-s\",\"Webscope_C14_Set1\",\"MSLR-WEB30k\",\"MSLR-WEB30k_beh_rm1%\",\"MSLR-WEB30k_beh_rm10%\"]\n",
    "# # datasets=[\"istella-s\",\"Webscope_C14_Set1\",\"MSLR-WEB30k_beh_rm\"]\n",
    "# datasets=[\"MQ2007\",\"MQ2008\"]\n",
    "# datasets=[\"NP2003\",\"NP2004\"]\n",
    "# datasets=[\"NP2003\",\"NP2004\",\"MQ2007\",\"MQ2008\",\"MSLR-WEB30k_beh_rm\",\"MSLR-WEB10k_beh_rm\",\"istella-s\"]\n",
    "# # datasets=[\"MSLR-WEB30k_beh_rm\",\"MSLR-WEB10k_beh_rm\",\"MQ2007\"]\n",
    "# # datasets=[\"MQ2008\",\"MQ2007\"]\n",
    "# iterations_dict={\"MSLR-WEB30k_beh_rm\":3.8*10**6,\"MSLR-WEB10k_beh_rm\":1.2*10**6,\\\n",
    "#                  \"MQ2007\":67*10**3,\"MQ2008\":15*10**3,\"istella-s\":10**6,\\\n",
    "#                 \"Webscope_C14_Set1\":10**6,\"MSLR-WEB30k_beh_rm1%\":2*10**4,\"NP2003\":10**5,\"NP2004\":5*10**4,}\n",
    "# # datasets=[\"MSLR-WEB30k_beh_rm\",\"MSLR-WEB10k_beh_rm\",\"istella-s\"]\n",
    "# for dataset in datasets:\n",
    "#   for intervene_strategy in intervene_strategy_list:\n",
    "#       for n_updates in n_updates_list:\n",
    "#           for tradeoff_param in tradeoff_params[intervene_strategy]:\n",
    "#             tradeoff_param=float(tradeoff_param)\n",
    "#             if tradeoff_param<0:\n",
    "#                 continue\n",
    "#             for trial in range(num_trials):\n",
    "#                 # output_path=os.path.join(root_path, \"query_least_size\"+str(query_least_size),intervene_strategy, \"n_updates_\"+str(n_updates), \"trial_\"+str(trial))\n",
    "#                 output_path=os.path.join(root_path,dataset,intervene_strategy, \"n_updates_\"+str(n_updates),\"tradeoff_\"+str(tradeoff_param), \"trial_\"+str(trial))\n",
    "#                 settings=dict(settings_base)\n",
    "#                 if not os.path.exists(output_path):\n",
    "#                     os.makedirs(output_path)\n",
    "#                 settings[\"tradeoff_param\"]=tradeoff_param\n",
    "# #                 settings[\"pretrained_model\"]=os.path.join(\"pretrained\",dataset,\"pretrained/trial0/model.h5\")\n",
    "# #                 settings[\"supervised_model\"]=os.path.join(\"pretrained\",dataset,\"supervised/trial0/model.h5\")\n",
    "#                 settings[\"random_seed\"]=trial\n",
    "#                 setting_path=os.path.join(output_path,\"setting.json\") \n",
    "#                 settings[\"intervene_strategy\"]=intervene_strategy\n",
    "# #                 settings[\"n_updates\"]=n_updates\n",
    "#                 settings[\"dataset\"]=dataset\n",
    "#                 settings[\"n_iteration\"]=iterations_dict[dataset]\n",
    "#                 settings[\"output_path\"]=os.path.join(output_path,\"output.txt\") \n",
    "#                 # print(settings)\n",
    "#                 with open(setting_path, 'w+') as f:\n",
    "#                     json.dump(settings, f)\n"
   ]
  },
  {
   "cell_type": "code",
   "execution_count": 369,
   "metadata": {},
   "outputs": [],
   "source": [
    "# import json\n",
    "# import os\n",
    "# import numpy as np\n",
    "# # intervene_strategy_list=[\"direct\",\"gumbel\",\"dropout\"]\n",
    "# # intervene_strategy_list=[\"direct\",\"plackettluce\",\"dropout\",\"dropout_shuffle\"]\n",
    "# # n_updates_list=[0,1,10]\n",
    "# # intervene_strategy_list=[\"random\"]\n",
    "# n_updates_list=[20]\n",
    "# # n_updates_list=[10]\n",
    "# # intervene_strategy_list=[\"random_tradeoff\",\"ucb\",\"portfolio\",\"portfolio_v1\"]\n",
    "# # tradeoff_param_name=[\"random_param_c\",\"ucb_param_c\",\"risk_averse_param\",\"risk_averse_param_v1\"]\n",
    "\n",
    "# intervene_strategy_list=[\"random_tradeoff\",\"ucb\",\"std_proposional\",\"ucb_std\",\"portfolio_proposional\"]\n",
    "# intervene_strategy_list=[\"random_tradeoff\",\"ucb\",\"ucb_std\",\"std_proposional\",\"portfolio_proposional\"]\n",
    "# intervene_strategy_list=[\"random_tradeoff\",\"ucb\",\"ucb_std\",\"std_proposional\"]\n",
    "# tradeoff_param_name=[\"tradeoff_param\",\"tradeoff_param\",\"tradeoff_param\",\"tradeoff_param\",\"tradeoff_param\"]\n",
    "# # intervene_strategy_list=[\"random_tradeoff\",\"std_proposional\",\"ucb\",\"ucb_std\",\\\n",
    "# #                          \"merge_ucb\",\"merge_random_tradeoff\",\"ips_ucb\",\"ips_random_tradeoff\"]\n",
    "# intervene_strategy_list=[\"random_tradeoff\",\"std_proposional\",\"ips_ucb\"]\n",
    "# intervene_strategy_list=[\"pdgd\"]\n",
    "# # intervene_strategy_list=[\"random_tradeoff\",\"merge_ucb\",\"ips_ucb\",\"std_proposional\"]\n",
    "# tradeoff_stra=tuple(zip(intervene_strategy_list,tradeoff_param_name))\n",
    "# n_updates_list=[20]\n",
    "# # n_updates_list=[0,10]\n",
    "\n",
    "# num_trials=5\n",
    "# # root_path=\"local_output/settings_sigmoid_1000000/loss_session_obliv/cutoff_5\"\n",
    "# # root_path=\"addbehaviour_coldstart/no_behav/\"\n",
    "# # root_path=\"addbehaviour_coldstart/add_ips/\"\n",
    "# # root_path=\"addbehaviour_coldstart/add_click/\"\n",
    "# root_path=\"addbehaviour_cold_26oct_linear/no_behav/\"\n",
    "# root_path=\"addbehaviour_cold_26oct_linear/add_click/\"\n",
    "# root_path=\"addbehaviour_cold_26oct_linear/add_ips/\"\n",
    "# # root_path=\"addbehaviour_full/no_behav/\"\n",
    "# # root_path=\"addbehaviour_full/add_click/\"\n",
    "# # root_path=\"addbehaviour_full//add_ips/\"\n",
    "# # root_path=\"addbehaviour_NP/add_ips_initialize-2/\"\n",
    "# # root_path=\"addbehaviour_20k/add_ips/\"\n",
    "# # root_path=\"addbehaviour_cold_20k/add_click/\"\n",
    "# # root_path=\"addbehaviour_cold_20k/add_ips/\"\n",
    "# # root_path=\"addbehaviour_cold_20k/no_behav/\"\n",
    "# # root_path=\"addbehaviour_cold_20k/add_ips_initialize-2/\"\n",
    "# # root_path=\"addbehaviour/no_behav/\"\n",
    "# # root_path=\"local_output_point_wise_test_query_cutoff/\"\n",
    "# cutoff=5\n",
    "\n",
    "# settings_base={\n",
    "#           \"n_eval\":20,\n",
    "# #           \"n_iteration\":8*10**4,\n",
    "#             \"shown_prob\":1,\n",
    "# #           \"n_iteration\":400,\n",
    "#           \"cutoff\":cutoff,\n",
    "# #           \"epochs\":20,\n",
    "# #         \"session_aware\":\"True\",\n",
    "#         \"query_least_size\":5,\n",
    "#           # \"single_training\":\"True\",\n",
    "# #           \"optimizer\":\"Adam\",\n",
    "# #           \"use_GPU\":\"True\",\n",
    "# #           \"early_stop_patience\":5,\n",
    "# #          \"batch_size\":2**12,\n",
    "# #           \"cold_start\":\"True\",\n",
    "# #     \"add_one_dim\":\"True\",\n",
    "#     \"linspace_sampling\":\"True\",\n",
    "#     \"add_behavior\":\"true\",\n",
    "#     \"add_ips\":\"true\",\n",
    "            \n",
    "# }\n",
    "# # query_least_sizes=[0,10,20,30,40]\n",
    "# # query_least_sizes=[0]\n",
    "# # query_least_sizes=[30]\n",
    "# # for query_least_size in query_least_sizes:\n",
    "# # tradeoff_params=np.arange(11)/10\n",
    "# tradeoff_params={}\n",
    "# # [0.0,0.01,0.1,1.0,10.0,100.0,500.0,1000.0]\n",
    "# tradeoff_params[\"random_tradeoff\"]=[-0.01,-0.1,-1.0,-10.0,-100.0,0.0,0.01,0.1,1.0,10.0,100.0]\n",
    "# tradeoff_params[\"ips_ucb\"]=[0.0,0.01,0.1,1.0,10.0,100.0,1000.0]\n",
    "# tradeoff_params[\"ips_random_tradeoff\"]=[0.0,0.01,0.1,1.0,10.0,100.0,1000.0]\n",
    "# tradeoff_params[\"merge_ucb\"]=[-0.01,-0.1,-1.0,-10.0,-100.0,0.0,0.01,0.1,1.0,10.0,100.0,1000.0]\n",
    "# tradeoff_params[\"merge_random_tradeoff\"]=[-0.01,-0.1,-1.0,-10.0,-100.0,0.0,0.01,0.1,1.0,10.0,100.0,1000.0]\n",
    "# tradeoff_params[\"ucb\"]=[-0.01,-0.1,-1.0,-10.0,-100.0,0.0,0.01,0.1,1.0,10.0,100.0]\n",
    "# tradeoff_params[\"portfolio_proposional\"]=[-0.01,-0.1,-1.0,-10.0,-100.0,0.0,0.1,1.0,10.0,100.0,1000.0,10000.0]\n",
    "# tradeoff_params[\"ucb_std\"]=[0.0,0.1,1.0,10.0,100.0,1000.0,10000.0]\n",
    "# tradeoff_params[\"std_proposional\"]=[-0.01,-0.1,-1.0,-10.0,-100.0,0.0,0.1,1.0,10.0,100.0,1000.0,10000.0]\n",
    "# tradeoff_params[\"risk_averse_param_v1\"]=[5.0,1.0,0.0,-1.0,-5.0,10.0,-100.0]\n",
    "# tradeoff_params[\"tradeoff_param\"]=[-0.01,-0.1,-1.0,-10.0,0.0,0.01,0.02,0.05,0.1,0.2,0.5,1.0,5.0,8.0,10.0,15.0,20.0,30.0,40.0,50.0,100.0,1000,5000,10000]\n",
    "# tradeoff_params[\"pdgd\"]=[0.0]\n",
    "# datasets=[\"istella-s\",\"Webscope_C14_Set1\",\"MSLR-WEB30k\",\"MSLR-WEB30k_beh_rm1%\",\"MSLR-WEB30k_beh_rm10%\"]\n",
    "# # datasets=[\"istella-s\",\"Webscope_C14_Set1\",\"MSLR-WEB30k_beh_rm\"]\n",
    "# datasets=[\"MQ2007\",\"MQ2008\"]\n",
    "# datasets=[\"NP2003\",\"NP2004\"]\n",
    "# datasets=[\"NP2003\",\"NP2004\",\"MQ2007\",\"MQ2008\"]\n",
    "# datasets=[\"NP2003\",\"NP2004\",\"MQ2007\",\"MQ2008\",\"MSLR-WEB30k_beh_rm\",\"MSLR-WEB10k_beh_rm\"]\n",
    "# # datasets=[\"MSLR-WEB30k_beh_rm\",\"MSLR-WEB10k_beh_rm\",\"MQ2007\"]\n",
    "# # datasets=[\"MQ2008\",\"MQ2007\"]\n",
    "# iterations_dict={\"MSLR-WEB30k_beh_rm\":3.8*10**6,\"MSLR-WEB10k_beh_rm\":1.2*10**6,\\\n",
    "#                  \"MQ2007\":67*10**3,\"MQ2008\":15*10**3,\"istella-s\":10**6,\\\n",
    "#                 \"Webscope_C14_Set1\":10**6,\"MSLR-WEB30k_beh_rm1%\":2*10**4,\"NP2003\":10**5,\"NP2004\":5*10**4,}\n",
    "# # datasets=[\"MSLR-WEB30k_beh_rm\",\"MSLR-WEB10k_beh_rm\",\"istella-s\"]\n",
    "# for dataset in datasets:\n",
    "#   for intervene_strategy in intervene_strategy_list:\n",
    "#       for n_updates in n_updates_list:\n",
    "#           for tradeoff_param in tradeoff_params[intervene_strategy]:\n",
    "#             tradeoff_param=float(tradeoff_param)\n",
    "#             if tradeoff_param<0:\n",
    "#                 continue\n",
    "#             for trial in range(num_trials):\n",
    "#                 # output_path=os.path.join(root_path, \"query_least_size\"+str(query_least_size),intervene_strategy, \"n_updates_\"+str(n_updates), \"trial_\"+str(trial))\n",
    "#                 output_path=os.path.join(root_path,dataset,intervene_strategy, \"n_updates_\"+str(n_updates),\"tradeoff_\"+str(tradeoff_param), \"trial_\"+str(trial))\n",
    "#                 settings=dict(settings_base)\n",
    "#                 if not os.path.exists(output_path):\n",
    "#                     os.makedirs(output_path)\n",
    "#                 settings[\"tradeoff_param\"]=tradeoff_param\n",
    "# #                 settings[\"pretrained_model\"]=os.path.join(\"pretrained\",dataset,\"pretrained/trial0/model.h5\")\n",
    "# #                 settings[\"supervised_model\"]=os.path.join(\"pretrained\",dataset,\"supervised/trial0/model.h5\")\n",
    "#                 settings[\"random_seed\"]=trial\n",
    "#                 setting_path=os.path.join(output_path,\"setting.json\") \n",
    "# #                 settings[\"intervene_strategy\"]=intervene_strategy\n",
    "# #                 settings[\"n_updates\"]=n_updates\n",
    "#                 settings[\"dataset\"]=dataset\n",
    "#                 settings[\"n_iteration\"]=iterations_dict[dataset]\n",
    "#                 settings[\"output_path\"]=os.path.join(output_path,\"output.txt\") \n",
    "#                 # print(settings)\n",
    "#                 with open(setting_path, 'w+') as f:\n",
    "#                     json.dump(settings, f)\n"
   ]
  },
  {
   "cell_type": "code",
   "execution_count": null,
   "metadata": {},
   "outputs": [],
   "source": []
  },
  {
   "cell_type": "code",
   "execution_count": null,
   "metadata": {},
   "outputs": [],
   "source": []
  },
  {
   "cell_type": "code",
   "execution_count": null,
   "metadata": {},
   "outputs": [],
   "source": []
  },
  {
   "cell_type": "code",
   "execution_count": 249,
   "metadata": {},
   "outputs": [],
   "source": [
    "# !rm addbehaviour_NP/* -rf"
   ]
  },
  {
   "cell_type": "code",
   "execution_count": 233,
   "metadata": {},
   "outputs": [
    {
     "name": "stdout",
     "output_type": "stream",
     "text": [
      "mv: cannot stat 'addbehaviour_NP': No such file or directory\r\n"
     ]
    }
   ],
   "source": [
    "# !mv addbehaviour_NP addbehaviour_NP_10k"
   ]
  },
  {
   "cell_type": "code",
   "execution_count": 21,
   "metadata": {},
   "outputs": [],
   "source": [
    "# !rm -rf local_output_point_wise_good_initial_model_shownlist_toy_sessionaware_pdgd/*"
   ]
  },
  {
   "cell_type": "code",
   "execution_count": null,
   "metadata": {},
   "outputs": [],
   "source": []
  },
  {
   "cell_type": "code",
   "execution_count": 14,
   "metadata": {},
   "outputs": [
    {
     "name": "stdout",
     "output_type": "stream",
     "text": [
      "/home/ec2-user/documents/uncertainty/2021wsdm-unifying-LTR\n"
     ]
    }
   ],
   "source": [
    "!pwd"
   ]
  },
  {
   "cell_type": "code",
   "execution_count": 15,
   "metadata": {},
   "outputs": [],
   "source": [
    "import os"
   ]
  },
  {
   "cell_type": "code",
   "execution_count": null,
   "metadata": {},
   "outputs": [],
   "source": []
  },
  {
   "cell_type": "code",
   "execution_count": 19,
   "metadata": {},
   "outputs": [
    {
     "data": {
      "text/plain": [
       "'/home/ec2-user/documents/uncertainty/2021wsdm-unifying-LTR/local_output_point_wise_sgd/istella-s/random_tradeoff/n_updates_0/tradeoff_0.0/trial_0'"
      ]
     },
     "execution_count": 19,
     "metadata": {},
     "output_type": "execute_result"
    }
   ],
   "source": [
    "import os\n",
    "os.path.dirname(\"/home/ec2-user/documents/uncertainty/2021wsdm-unifying-LTR/local_output_point_wise_sgd/istella-s/random_tradeoff/n_updates_0/tradeoff_0.0/trial_0/output.txt\")"
   ]
  },
  {
   "cell_type": "code",
   "execution_count": 224,
   "metadata": {},
   "outputs": [],
   "source": [
    "## supervised.\n",
    "import json\n",
    "import os\n",
    "# intervene_strategy_list=[\"direct\",\"gumbel\",\"dropout\"]\n",
    "# intervene_strategy_list=[\"direct\",\"gumbel\",\"plackettluce\",\"ucb\",\"dropout\",\"dropout_shuffle\",\"portfolio\"]\n",
    "# n_updates_list=[0,1,10]\n",
    "# intervene_strategy_list=[\"random\"]\n",
    "# n_updates_list=[0]\n",
    "# n_updates_list=[0,10]\n",
    "\n",
    "num_trials=1\n",
    "# root_path=\"local_output/settings_sigmoid_1000000/loss_session_obliv/cutoff_5\"\n",
    "\n",
    "settings={\n",
    "          \"n_train_queries_ratio\":0.01,\n",
    "          \"n_vali_queries_ratio\":0.01,\n",
    "          \"epochs\":5,\n",
    "}\n",
    "datasets=[\"istella-s\",\"Webscope_C14_Set1\",\"MSLR-WEB30k\",\\\n",
    "          \"MSLR-WEB30k_beh_rm\",\"MQ2007\",\"MQ2008\",\"MSLR-WEB10k_beh_rm\",\\\n",
    "         \"NP2003\",\"NP2004\"]\n",
    "\n",
    "root_path=\"pretrained/\"\n",
    "for dataset in datasets:\n",
    "  for trial in range(num_trials):\n",
    "      output_path=os.path.join(root_path, dataset,\"pretrained\",\"trial\"+str(trial))\n",
    "      if not os.path.exists(output_path):\n",
    "          os.makedirs(output_path)\n",
    "      settings[\"output_path\"]=output_path\n",
    "      setting_path=os.path.join(output_path,\"setting.json\") \n",
    "      settings[\"dataset\"]=dataset\n",
    "      # print(settings)\n",
    "      with open(setting_path, 'w+') as f:\n",
    "          json.dump(settings, f)\n"
   ]
  },
  {
   "cell_type": "code",
   "execution_count": null,
   "metadata": {},
   "outputs": [],
   "source": []
  },
  {
   "cell_type": "code",
   "execution_count": null,
   "metadata": {},
   "outputs": [],
   "source": []
  },
  {
   "cell_type": "code",
   "execution_count": 3,
   "metadata": {},
   "outputs": [
    {
     "name": "stdout",
     "output_type": "stream",
     "text": [
      "/home/ec2-user/documents/uncertainty/2021wsdm-unifying-LTR/local_output_point_wise_good_initial_model/correlation/update10/random/istella-s/istella-s_n_sample10_batch_size100\n",
      "/home/ec2-user/documents/uncertainty/2021wsdm-unifying-LTR/local_output_point_wise_good_initial_model/correlation/update10/random/Webscope_C14_Set1/Webscope_C14_Set1_n_sample10_batch_size100\n",
      "/home/ec2-user/documents/uncertainty/2021wsdm-unifying-LTR/local_output_point_wise_good_initial_model/correlation/update10/random/MSLR-WEB30k/MSLR-WEB30k_n_sample10_batch_size100\n"
     ]
    }
   ],
   "source": [
    "## supervised.\n",
    "import json\n",
    "import os\n",
    "\n",
    "num_trials=2\n",
    "# root_path=\"local_output/settings_sigmoid_1000000/loss_session_obliv/cutoff_5\"\n",
    "base_settings={\n",
    "        #   \"n_train_queries_ratio\":1,\n",
    "        #   \"n_vali_queries_ratio\":1,\n",
    "        #   \"epochs\":1000,\n",
    "}\n",
    "datasets=[\"istella-s\",\"Webscope_C14_Set1\",\"MSLR-WEB30k\"]\n",
    "n_samples=[10]\n",
    "batch_sizes=[100]\n",
    "root_path=\"/home/ec2-user/documents/uncertainty/2021wsdm-unifying-LTR/local_output_point_wise_good_initial_model/correlation/update10/random\"\n",
    "for dataset in datasets:\n",
    "  for n_sample in n_samples:\n",
    "      for batch_size in batch_sizes:\n",
    "        output_path=os.path.join(root_path, dataset)\n",
    "        if not os.path.exists(output_path):\n",
    "            os.makedirs(output_path)\n",
    "        settings=dict(base_settings)\n",
    "        settings[\"save_path\"]=os.path.join(output_path,\"_\".join([dataset,\"n_sample\"+str(n_sample),\"batch_size\"+str(batch_size)]))\n",
    "        print(settings[\"save_path\"])\n",
    "        setting_path=os.path.join(output_path,\"setting.json\") \n",
    "        settings[\"dataset\"]=dataset\n",
    "        settings[\"n_sample\"]=n_sample\n",
    "        settings[\"batch_size\"]=batch_size\n",
    "        settings[\"model_dir\"]=\"/home/ec2-user/documents/uncertainty/2021wsdm-unifying-LTR/local_output_point_wise_good_initial_model/\"+dataset+\"/random/n_updates_10/trial_0/\"\n",
    "        # print(settings)\n",
    "        with open(setting_path, 'w+') as f:\n",
    "            json.dump(settings, f)\n"
   ]
  },
  {
   "cell_type": "code",
   "execution_count": null,
   "metadata": {},
   "outputs": [],
   "source": []
  },
  {
   "cell_type": "code",
   "execution_count": 31,
   "metadata": {},
   "outputs": [],
   "source": [
    "save_path=\"/home/ec2-user/documents/uncertainty/2021wsdm-unifying-LTR/local_output_point_wise_good_initial_model/coefficient/MSLR-WEB30k/n_sample100/batch_size100/MSLR-WEB30k_n_sample100_batch_size100.pdf\"\n",
    "save_title=save_path.split(\"/\")[-1]\n",
    "save_title=save_title.split(\".\")[0]"
   ]
  },
  {
   "cell_type": "code",
   "execution_count": 32,
   "metadata": {},
   "outputs": [
    {
     "name": "stdout",
     "output_type": "stream",
     "text": [
      "MSLR-WEB30k_n_sample100_batch_size100\n"
     ]
    }
   ],
   "source": [
    "print(save_title)"
   ]
  },
  {
   "cell_type": "code",
   "execution_count": null,
   "metadata": {},
   "outputs": [],
   "source": []
  },
  {
   "cell_type": "code",
   "execution_count": 1,
   "metadata": {},
   "outputs": [
    {
     "name": "stdout",
     "output_type": "stream",
     "text": [
      "/home/ec2-user/documents/uncertainty/2021wsdm-unifying-LTR/pretrained/correlation/istella-s/n_sample10/batch_size100/istella-s_n_sample10_batch_size100\n",
      "/home/ec2-user/documents/uncertainty/2021wsdm-unifying-LTR/pretrained/correlation/Webscope_C14_Set1/n_sample10/batch_size100/Webscope_C14_Set1_n_sample10_batch_size100\n",
      "/home/ec2-user/documents/uncertainty/2021wsdm-unifying-LTR/pretrained/correlation/MSLR-WEB30k/n_sample10/batch_size100/MSLR-WEB30k_n_sample10_batch_size100\n"
     ]
    }
   ],
   "source": [
    "## supervised.\n",
    "import json\n",
    "import os\n",
    "\n",
    "num_trials=2\n",
    "# root_path=\"local_output/settings_sigmoid_1000000/loss_session_obliv/cutoff_5\"\n",
    "base_settings={\n",
    "        #   \"n_train_queries_ratio\":1,\n",
    "        #   \"n_vali_queries_ratio\":1,\n",
    "        #   \"epochs\":1000,\n",
    "}\n",
    "datasets=[\"istella-s\",\"Webscope_C14_Set1\",\"MSLR-WEB30k\"]\n",
    "n_samples=[10]\n",
    "batch_sizes=[100]\n",
    "root_path=\"/home/ec2-user/documents/uncertainty/2021wsdm-unifying-LTR/pretrained/correlation/\"\n",
    "for dataset in datasets:\n",
    "  for n_sample in n_samples:\n",
    "      for batch_size in batch_sizes:\n",
    "        output_path=os.path.join(root_path, dataset,\"n_sample\"+str(n_sample),\"batch_size\"+str(batch_size))\n",
    "        if not os.path.exists(output_path):\n",
    "            os.makedirs(output_path)\n",
    "        settings=dict(base_settings)\n",
    "        settings[\"save_path\"]=os.path.join(output_path,\"_\".join([dataset,\"n_sample\"+str(n_sample),\"batch_size\"+str(batch_size)]))\n",
    "        print(settings[\"save_path\"])\n",
    "        setting_path=os.path.join(output_path,\"setting.json\") \n",
    "        settings[\"dataset\"]=dataset\n",
    "        settings[\"n_sample\"]=n_sample\n",
    "        settings[\"batch_size\"]=batch_size\n",
    "        settings[\"model_dir\"]=\"/home/ec2-user/documents/uncertainty/2021wsdm-unifying-LTR/pretrained/\"+dataset+\"/\"\n",
    "        # \"/home/ec2-user/documents/uncertainty/2021wsdm-unifying-LTR/pretrained/istella-s\"\n",
    "        # print(settings)\n",
    "        with open(setting_path, 'w+') as f:\n",
    "            json.dump(settings, f)\n"
   ]
  },
  {
   "cell_type": "code",
   "execution_count": 149,
   "metadata": {},
   "outputs": [],
   "source": [
    "q_scores_ips=np.random.randint(0,2,10)\n",
    "q_scores_model=np.random.randint(0,2,10)\n",
    "policy_scores_query=np.zeros_like(q_scores_ips)\n",
    "policy_scores_query[:]=q_scores_ips\n",
    "no_shown_id=policy_scores_query==0"
   ]
  },
  {
   "cell_type": "code",
   "execution_count": 150,
   "metadata": {},
   "outputs": [],
   "source": [
    "policy_scores_query[no_shown_id]=q_scores_model[no_shown_id]"
   ]
  },
  {
   "cell_type": "code",
   "execution_count": 151,
   "metadata": {},
   "outputs": [
    {
     "data": {
      "text/plain": [
       "array([1, 1, 1, 1, 1, 0, 0, 1, 1, 1])"
      ]
     },
     "execution_count": 151,
     "metadata": {},
     "output_type": "execute_result"
    }
   ],
   "source": [
    "policy_scores_query"
   ]
  },
  {
   "cell_type": "code",
   "execution_count": 152,
   "metadata": {},
   "outputs": [
    {
     "name": "stdout",
     "output_type": "stream",
     "text": [
      "[1 1 1 1 1 0 0 0 1 0] [1 0 1 0 1 0 0 1 1 1]\n"
     ]
    }
   ],
   "source": [
    "print(q_scores_ips,q_scores_model)"
   ]
  },
  {
   "cell_type": "code",
   "execution_count": 120,
   "metadata": {},
   "outputs": [
    {
     "data": {
      "text/plain": [
       "array([0., 0., 0., 0., 0., 0., 0., 0., 0., 0.])"
      ]
     },
     "execution_count": 120,
     "metadata": {},
     "output_type": "execute_result"
    }
   ],
   "source": [
    "f[d==3]=d"
   ]
  },
  {
   "cell_type": "code",
   "execution_count": 123,
   "metadata": {},
   "outputs": [],
   "source": [
    "d[1]=2"
   ]
  },
  {
   "cell_type": "code",
   "execution_count": 124,
   "metadata": {},
   "outputs": [
    {
     "data": {
      "text/plain": [
       "{'d': array([0., 2., 0., 0., 0., 0., 0., 0., 0., 0.])}"
      ]
     },
     "execution_count": 124,
     "metadata": {},
     "output_type": "execute_result"
    }
   ],
   "source": [
    "a"
   ]
  },
  {
   "cell_type": "code",
   "execution_count": 135,
   "metadata": {},
   "outputs": [],
   "source": [
    "f=np.zeros_like(d)\n",
    "f[:]=d"
   ]
  },
  {
   "cell_type": "code",
   "execution_count": 136,
   "metadata": {},
   "outputs": [],
   "source": [
    "f[1]=6\n"
   ]
  },
  {
   "cell_type": "code",
   "execution_count": 137,
   "metadata": {},
   "outputs": [
    {
     "data": {
      "text/plain": [
       "array([0., 5., 0., 0., 0., 0., 0., 0., 0., 0.])"
      ]
     },
     "execution_count": 137,
     "metadata": {},
     "output_type": "execute_result"
    }
   ],
   "source": [
    "d"
   ]
  },
  {
   "cell_type": "code",
   "execution_count": 207,
   "metadata": {},
   "outputs": [
    {
     "ename": "TypeError",
     "evalue": "expected str, bytes or os.PathLike object, not list",
     "output_type": "error",
     "traceback": [
      "\u001b[0;31m---------------------------------------------------------------------------\u001b[0m",
      "\u001b[0;31mTypeError\u001b[0m                                 Traceback (most recent call last)",
      "\u001b[0;32m<ipython-input-207-15000ebf4069>\u001b[0m in \u001b[0;36m<module>\u001b[0;34m\u001b[0m\n\u001b[1;32m      1\u001b[0m \u001b[0;32mimport\u001b[0m \u001b[0mos\u001b[0m\u001b[0;34m\u001b[0m\u001b[0;34m\u001b[0m\u001b[0m\n\u001b[0;32m----> 2\u001b[0;31m \u001b[0mos\u001b[0m\u001b[0;34m.\u001b[0m\u001b[0mpath\u001b[0m\u001b[0;34m.\u001b[0m\u001b[0mjoin\u001b[0m\u001b[0;34m(\u001b[0m\u001b[0;34m[\u001b[0m\u001b[0;34m\"fdas\"\u001b[0m\u001b[0;34m,\u001b[0m\u001b[0;34m\"fdsa/\"\u001b[0m\u001b[0;34m]\u001b[0m\u001b[0;34m)\u001b[0m\u001b[0;34m\u001b[0m\u001b[0;34m\u001b[0m\u001b[0m\n\u001b[0m",
      "\u001b[0;32m~/miniconda3/envs/ultra_p36/lib/python3.6/posixpath.py\u001b[0m in \u001b[0;36mjoin\u001b[0;34m(a, *p)\u001b[0m\n\u001b[1;32m     78\u001b[0m     \u001b[0mwill\u001b[0m \u001b[0mbe\u001b[0m \u001b[0mdiscarded\u001b[0m\u001b[0;34m.\u001b[0m  \u001b[0mAn\u001b[0m \u001b[0mempty\u001b[0m \u001b[0mlast\u001b[0m \u001b[0mpart\u001b[0m \u001b[0mwill\u001b[0m \u001b[0mresult\u001b[0m \u001b[0;32min\u001b[0m \u001b[0ma\u001b[0m \u001b[0mpath\u001b[0m \u001b[0mthat\u001b[0m\u001b[0;34m\u001b[0m\u001b[0;34m\u001b[0m\u001b[0m\n\u001b[1;32m     79\u001b[0m     ends with a separator.\"\"\"\n\u001b[0;32m---> 80\u001b[0;31m     \u001b[0ma\u001b[0m \u001b[0;34m=\u001b[0m \u001b[0mos\u001b[0m\u001b[0;34m.\u001b[0m\u001b[0mfspath\u001b[0m\u001b[0;34m(\u001b[0m\u001b[0ma\u001b[0m\u001b[0;34m)\u001b[0m\u001b[0;34m\u001b[0m\u001b[0;34m\u001b[0m\u001b[0m\n\u001b[0m\u001b[1;32m     81\u001b[0m     \u001b[0msep\u001b[0m \u001b[0;34m=\u001b[0m \u001b[0m_get_sep\u001b[0m\u001b[0;34m(\u001b[0m\u001b[0ma\u001b[0m\u001b[0;34m)\u001b[0m\u001b[0;34m\u001b[0m\u001b[0;34m\u001b[0m\u001b[0m\n\u001b[1;32m     82\u001b[0m     \u001b[0mpath\u001b[0m \u001b[0;34m=\u001b[0m \u001b[0ma\u001b[0m\u001b[0;34m\u001b[0m\u001b[0;34m\u001b[0m\u001b[0m\n",
      "\u001b[0;31mTypeError\u001b[0m: expected str, bytes or os.PathLike object, not list"
     ]
    }
   ],
   "source": [
    "import os\n",
    "os.path.join([\"fdas\",\"fdsa/\"])"
   ]
  },
  {
   "cell_type": "code",
   "execution_count": 285,
   "metadata": {},
   "outputs": [],
   "source": [
    "from glob import glob"
   ]
  },
  {
   "cell_type": "code",
   "execution_count": 294,
   "metadata": {},
   "outputs": [],
   "source": [
    "paths=glob(\"addbehaviour_cold_20k/no_behav/MSLR-WEB30k_beh_rm1%/pdgd/n_updates_20/tradeoff_0.0/trial_4/*\")\n",
    "for path in paths:\n",
    "    if  path.endswith(\"jjson\"):\n",
    "        print(path)\n",
    "        os.rename(path, path+\"bk\")"
   ]
  },
  {
   "cell_type": "code",
   "execution_count": 298,
   "metadata": {},
   "outputs": [],
   "source": []
  },
  {
   "cell_type": "code",
   "execution_count": 296,
   "metadata": {},
   "outputs": [
    {
     "data": {
      "text/plain": [
       "['addbehaviour_cold_20k/no_behav/MSLR-WEB30k_beh_rm1%/pdgd/n_updates_20/tradeoff_0.0/trial_4/result.jjsonbk',\n",
       " 'addbehaviour_cold_20k/no_behav/MSLR-WEB30k_beh_rm1%/pdgd/n_updates_20/tradeoff_0.0/trial_4/output.txt',\n",
       " 'addbehaviour_cold_20k/no_behav/MSLR-WEB30k_beh_rm1%/pdgd/n_updates_20/tradeoff_0.0/trial_4/setting',\n",
       " 'addbehaviour_cold_20k/no_behav/MSLR-WEB30k_beh_rm1%/pdgd/n_updates_20/tradeoff_0.0/trial_4/setting.json']"
      ]
     },
     "execution_count": 296,
     "metadata": {},
     "output_type": "execute_result"
    }
   ],
   "source": [
    "paths"
   ]
  },
  {
   "cell_type": "code",
   "execution_count": 297,
   "metadata": {},
   "outputs": [
    {
     "data": {
      "text/plain": [
       "False"
      ]
     },
     "execution_count": 297,
     "metadata": {},
     "output_type": "execute_result"
    }
   ],
   "source": []
  },
  {
   "cell_type": "code",
   "execution_count": null,
   "metadata": {},
   "outputs": [],
   "source": []
  }
 ],
 "metadata": {
  "kernelspec": {
   "display_name": "Python 3.6.9 64-bit ('ultra_p36': conda)",
   "language": "python",
   "name": "python36964bitultrap36condacee6eee70e5b44b99b9b7bf023422806"
  },
  "language_info": {
   "codemirror_mode": {
    "name": "ipython",
    "version": 3
   },
   "file_extension": ".py",
   "mimetype": "text/x-python",
   "name": "python",
   "nbconvert_exporter": "python",
   "pygments_lexer": "ipython3",
   "version": "3.6.9"
  },
  "metadata": {
   "interpreter": {
    "hash": "916dbcbb3f70747c44a77c7bcd40155683ae19c65e1c03b4aa3499c5328201f1"
   }
  }
 },
 "nbformat": 4,
 "nbformat_minor": 2
}
