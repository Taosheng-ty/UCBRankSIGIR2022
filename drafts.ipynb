{
 "cells": [
  {
   "cell_type": "code",
   "execution_count": 1,
   "metadata": {},
   "outputs": [],
   "source": [
    "from utils.nnmodel import init_model_dropout"
   ]
  },
  {
   "cell_type": "code",
   "execution_count": null,
   "metadata": {},
   "outputs": [],
   "source": []
  },
  {
   "cell_type": "code",
   "execution_count": 12,
   "metadata": {},
   "outputs": [
    {
     "ename": "NameError",
     "evalue": "name 'data' is not defined",
     "output_type": "error",
     "traceback": [
      "\u001b[0;31m---------------------------------------------------------------------------\u001b[0m",
      "\u001b[0;31mNameError\u001b[0m                                 Traceback (most recent call last)",
      "\u001b[0;32m<ipython-input-12-4ef475f8ca3c>\u001b[0m in \u001b[0;36m<module>\u001b[0;34m\u001b[0m\n\u001b[1;32m      3\u001b[0m \u001b[0mmodel_params\u001b[0m\u001b[0;34m[\u001b[0m\u001b[0;34m'hidden units'\u001b[0m\u001b[0;34m]\u001b[0m\u001b[0;34m=\u001b[0m\u001b[0;34m[\u001b[0m\u001b[0;36m32\u001b[0m\u001b[0;34m,\u001b[0m\u001b[0;36m32\u001b[0m\u001b[0;34m]\u001b[0m\u001b[0;34m\u001b[0m\u001b[0;34m\u001b[0m\u001b[0m\n\u001b[1;32m      4\u001b[0m \u001b[0mmodel_dropout\u001b[0m\u001b[0;34m=\u001b[0m\u001b[0minit_model_dropout\u001b[0m\u001b[0;34m(\u001b[0m\u001b[0mmodel_params\u001b[0m\u001b[0;34m)\u001b[0m\u001b[0;34m\u001b[0m\u001b[0;34m\u001b[0m\u001b[0m\n\u001b[0;32m----> 5\u001b[0;31m \u001b[0mmodel_dropout\u001b[0m\u001b[0;34m.\u001b[0m\u001b[0mbuild\u001b[0m\u001b[0;34m(\u001b[0m\u001b[0minput_shape\u001b[0m\u001b[0;34m=\u001b[0m\u001b[0mdata\u001b[0m\u001b[0;34m.\u001b[0m\u001b[0mtrain\u001b[0m\u001b[0;34m.\u001b[0m\u001b[0mfeature_matrix\u001b[0m\u001b[0;34m.\u001b[0m\u001b[0mshape\u001b[0m\u001b[0;34m)\u001b[0m\u001b[0;34m\u001b[0m\u001b[0;34m\u001b[0m\u001b[0m\n\u001b[0m\u001b[1;32m      6\u001b[0m \u001b[0mdropout_model_weight\u001b[0m\u001b[0;34m=\u001b[0m\u001b[0;34m\"/home/ec2-user/documents/uncertainty/2021wsdm-unifying-LTR/local_output/settings/supervised/Supervised_dropout_model.h5\"\u001b[0m\u001b[0;34m\u001b[0m\u001b[0;34m\u001b[0m\u001b[0m\n\u001b[1;32m      7\u001b[0m \u001b[0mmodel_dropout\u001b[0m\u001b[0;34m.\u001b[0m\u001b[0mload_weights\u001b[0m\u001b[0;34m(\u001b[0m\u001b[0mdropout_model_weight\u001b[0m\u001b[0;34m)\u001b[0m\u001b[0;34m\u001b[0m\u001b[0;34m\u001b[0m\u001b[0m\n",
      "\u001b[0;31mNameError\u001b[0m: name 'data' is not defined"
     ]
    }
   ],
   "source": [
    "from utils.nnmodel import init_model_dropout\n",
    "model_params={}\n",
    "model_params['hidden units']=[32,32]\n",
    "model_dropout=init_model_dropout(model_params)\n",
    "model_dropout.build(input_shape=data.train.feature_matrix.shape)\n",
    "dropout_model_weight=\"/home/ec2-user/documents/uncertainty/2021wsdm-unifying-LTR/local_output/settings/supervised/Supervised_dropout_model.h5\"\n",
    "model_dropout.load_weights(dropout_model_weight)\n"
   ]
  },
  {
   "cell_type": "code",
   "execution_count": 6,
   "metadata": {},
   "outputs": [],
   "source": [
    "test_policy_scores_dropout = model_dropout(data.test.feature_matrix,training=True)[:, 0].numpy()"
   ]
  },
  {
   "cell_type": "code",
   "execution_count": 7,
   "metadata": {},
   "outputs": [
    {
     "name": "stdout",
     "output_type": "stream",
     "text": [
      "[-7.73303646 -8.94681177 -1.35511425 -8.11032018]\n"
     ]
    }
   ],
   "source": [
    "print(test_policy_scores_dropout[:4])"
   ]
  },
  {
   "cell_type": "code",
   "execution_count": 8,
   "metadata": {},
   "outputs": [
    {
     "name": "stdout",
     "output_type": "stream",
     "text": [
      "4\n"
     ]
    }
   ],
   "source": [
    "qid=20\n",
    "for qid in range(100):\n",
    "    q_feat = data.train.query_feat(qid)\n",
    "    q_doc_weight= data.train.query_labels(qid)\n",
    "    # print(q_doc_weight.shape)\n",
    "    # print(q_feat.shape)\n",
    "    if q_doc_weight.max()==4:\n",
    "        print(qid)\n",
    "        break"
   ]
  },
  {
   "cell_type": "code",
   "execution_count": 12,
   "metadata": {},
   "outputs": [
    {
     "name": "stdout",
     "output_type": "stream",
     "text": [
      "[1 0 2 2 2 2 1 2 1 2 2 2 1 1]\n",
      "[-12.15348365 -13.23544685  -7.81623747 -13.12573593  -7.70505845\n",
      "  -5.02370437 -13.31362957 -14.16474285  -8.64949926  -1.55455373\n",
      "  -6.03480876  -7.19774608  -5.11649533  -4.82162626]\n"
     ]
    }
   ],
   "source": [
    "qid=8\n",
    "q_feat = data.train.query_feat(qid)\n",
    "q_doc_weight= data.train.query_labels(qid)\n",
    "print(q_doc_weight)\n",
    "# scores_dropout = model_dropout(data.test.feature_matrix,training=True)[:, 0].numpy()\n",
    "scores_dropout = model_dropout(q_feat)[:, 0].numpy()\n",
    "print(scores_dropout)"
   ]
  },
  {
   "cell_type": "code",
   "execution_count": 19,
   "metadata": {},
   "outputs": [
    {
     "name": "stdout",
     "output_type": "stream",
     "text": [
      "[-12.31513096 -12.93576163  -8.01803822 -13.24372818  -7.943201\n",
      "  -5.1473652  -13.74455074 -13.86530913  -8.2434268   -1.59838312\n",
      "  -6.11828864  -6.90757808  -4.99936181  -5.02794478] [2.92906746 3.68969517 1.91980705 3.16092842 1.90332088 1.40964572\n",
      " 3.41513579 3.12971229 2.74833146 1.03755231 1.68693574 2.17180868\n",
      " 1.449448   1.46404105]\n"
     ]
    }
   ],
   "source": []
  },
  {
   "cell_type": "code",
   "execution_count": 14,
   "metadata": {},
   "outputs": [
    {
     "name": "stdout",
     "output_type": "stream",
     "text": [
      "[ -1.51980029  -4.89106536  -5.1526773   -5.29136438  -6.30291559\n",
      "  -7.01099137  -7.53528474  -8.10399671  -8.22222884 -12.07195938\n",
      " -13.03982705 -13.24142425 -13.36775758 -14.13651838] [0.88997673 1.46900632 1.5059301  1.52267288 1.49018747 1.78687375\n",
      " 1.91324152 2.28096584 2.36658571 3.04836768 2.94667622 3.172614\n",
      " 3.27920324 3.4318886 ]\n",
      "[2 1 1 2 2 2 2 2 1 1 2 1 0 2]\n",
      "[ 9 12 13  5 10 11  4  2  8  0  3  6  1  7]\n"
     ]
    }
   ],
   "source": [
    "score_mat=[]\n",
    "for i in range(100):\n",
    "    scores_dropout = model_dropout(q_feat,training=True)[:, 0].numpy()\n",
    "    score_mat.append(scores_dropout)\n",
    "score_mat=np.stack(score_mat)\n",
    "mean,std=np.mean(score_mat,axis=0),np.std(score_mat,axis=0)\n",
    "ind_sorted=np.argsort(-mean)\n",
    "score_mat=score_mat[:,ind_sorted]\n",
    "print(mean[ind_sorted],std[ind_sorted])\n",
    "print(q_doc_weight[ind_sorted])\n",
    "print(ind_sorted)"
   ]
  },
  {
   "cell_type": "code",
   "execution_count": 11,
   "metadata": {},
   "outputs": [
    {
     "data": {
      "image/png": "[encoded data removed]",
      "image/svg+xml": [
       "<?xml version=\"1.0\" encoding=\"utf-8\" standalone=\"no\"?>\n",
       "<!DOCTYPE svg PUBLIC \"-//W3C//DTD SVG 1.1//EN\"\n",
       "  \"http://www.w3.org/Graphics/SVG/1.1/DTD/svg11.dtd\">\n",
       "<!-- Created with matplotlib (https://matplotlib.org/) -->\n",
       "<svg height=\"248.518125pt\" version=\"1.1\" viewBox=\"0 0 384.566437 248.518125\" width=\"384.566437pt\" xmlns=\"http://www.w3.org/2000/svg\" xmlns:xlink=\"http://www.w3.org/1999/xlink\">\n",
       " <metadata>\n",
       "  <rdf:RDF xmlns:cc=\"http://creativecommons.org/ns#\" xmlns:dc=\"http://purl.org/dc/elements/1.1/\" xmlns:rdf=\"http://www.w3.org/1999/02/22-rdf-syntax-ns#\">\n",
       "   <cc:Work>\n",
       "    <dc:type rdf:resource=\"http://purl.org/dc/dcmitype/StillImage\"/>\n",
       "    <dc:date>2021-06-14T15:17:28.626455</dc:date>\n",
       "    <dc:format>image/svg+xml</dc:format>\n",
       "    <dc:creator>\n",
       "     <cc:Agent>\n",
       "      <dc:title>Matplotlib v3.3.4, https://matplotlib.org/</dc:title>\n",
       "     </cc:Agent>\n",
       "    </dc:creator>\n",
       "   </cc:Work>\n",
       "  </rdf:RDF>\n",
       " </metadata>\n",
       " <defs>\n",
       "  <style type=\"text/css\">*{stroke-linecap:butt;stroke-linejoin:round;}</style>\n",
       " </defs>\n",
       " <g id=\"figure_1\">\n",
       "  <g id=\"patch_1\">\n",
       "   <path d=\"M 0 248.518125 \n",
       "L 384.566437 248.518125 \n",
       "L 384.566437 0 \n",
       "L 0 0 \n",
       "z\n",
       "\" style=\"fill:none;\"/>\n",
       "  </g>\n",
       "  <g id=\"axes_1\">\n",
       "   <g id=\"patch_2\">\n",
       "    <path d=\"M 36.465625 224.64 \n",
       "L 371.265625 224.64 \n",
       "L 371.265625 7.2 \n",
       "L 36.465625 7.2 \n",
       "z\n",
       "\" style=\"fill:#ffffff;\"/>\n",
       "   </g>\n",
       "   <g id=\"patch_3\">\n",
       "    <path clip-path=\"url(#p508d310d0a)\" d=\"M 51.683807 224.64 \n",
       "L 65.846695 224.64 \n",
       "L 65.846695 175.333878 \n",
       "L 51.683807 175.333878 \n",
       "z\n",
       "\" style=\"fill:#1f77b4;\"/>\n",
       "   </g>\n",
       "   <g id=\"patch_4\">\n",
       "    <path clip-path=\"url(#p508d310d0a)\" d=\"M 65.846695 224.64 \n",
       "L 80.009583 224.64 \n",
       "L 80.009583 155.611429 \n",
       "L 65.846695 155.611429 \n",
       "z\n",
       "\" style=\"fill:#1f77b4;\"/>\n",
       "   </g>\n",
       "   <g id=\"patch_5\">\n",
       "    <path clip-path=\"url(#p508d310d0a)\" d=\"M 80.009583 224.64 \n",
       "L 94.172471 224.64 \n",
       "L 94.172471 116.166531 \n",
       "L 80.009583 116.166531 \n",
       "z\n",
       "\" style=\"fill:#1f77b4;\"/>\n",
       "   </g>\n",
       "   <g id=\"patch_6\">\n",
       "    <path clip-path=\"url(#p508d310d0a)\" d=\"M 94.172471 224.64 \n",
       "L 108.335359 224.64 \n",
       "L 108.335359 106.305306 \n",
       "L 94.172471 106.305306 \n",
       "z\n",
       "\" style=\"fill:#1f77b4;\"/>\n",
       "   </g>\n",
       "   <g id=\"patch_7\">\n",
       "    <path clip-path=\"url(#p508d310d0a)\" d=\"M 108.335359 224.64 \n",
       "L 122.498247 224.64 \n",
       "L 122.498247 37.276735 \n",
       "L 108.335359 37.276735 \n",
       "z\n",
       "\" style=\"fill:#1f77b4;\"/>\n",
       "   </g>\n",
       "   <g id=\"patch_8\">\n",
       "    <path clip-path=\"url(#p508d310d0a)\" d=\"M 122.498247 224.64 \n",
       "L 136.661135 224.64 \n",
       "L 136.661135 76.721633 \n",
       "L 122.498247 76.721633 \n",
       "z\n",
       "\" style=\"fill:#1f77b4;\"/>\n",
       "   </g>\n",
       "   <g id=\"patch_9\">\n",
       "    <path clip-path=\"url(#p508d310d0a)\" d=\"M 136.661135 224.64 \n",
       "L 150.824023 224.64 \n",
       "L 150.824023 47.137959 \n",
       "L 136.661135 47.137959 \n",
       "z\n",
       "\" style=\"fill:#1f77b4;\"/>\n",
       "   </g>\n",
       "   <g id=\"patch_10\">\n",
       "    <path clip-path=\"url(#p508d310d0a)\" d=\"M 150.824023 224.64 \n",
       "L 164.98691 224.64 \n",
       "L 164.98691 195.056327 \n",
       "L 150.824023 195.056327 \n",
       "z\n",
       "\" style=\"fill:#1f77b4;\"/>\n",
       "   </g>\n",
       "   <g id=\"patch_11\">\n",
       "    <path clip-path=\"url(#p508d310d0a)\" d=\"M 164.98691 224.64 \n",
       "L 179.149798 224.64 \n",
       "L 179.149798 145.750204 \n",
       "L 164.98691 145.750204 \n",
       "z\n",
       "\" style=\"fill:#1f77b4;\"/>\n",
       "   </g>\n",
       "   <g id=\"patch_12\">\n",
       "    <path clip-path=\"url(#p508d310d0a)\" d=\"M 179.149798 224.64 \n",
       "L 193.312686 224.64 \n",
       "L 193.312686 204.917551 \n",
       "L 179.149798 204.917551 \n",
       "z\n",
       "\" style=\"fill:#1f77b4;\"/>\n",
       "   </g>\n",
       "   <g id=\"patch_13\">\n",
       "    <path clip-path=\"url(#p508d310d0a)\" d=\"M 207.518017 224.64 \n",
       "L 211.200311 224.64 \n",
       "L 211.200311 204.917551 \n",
       "L 207.518017 204.917551 \n",
       "z\n",
       "\" style=\"fill:#ff7f0e;\"/>\n",
       "   </g>\n",
       "   <g id=\"patch_14\">\n",
       "    <path clip-path=\"url(#p508d310d0a)\" d=\"M 211.200311 224.64 \n",
       "L 214.882605 224.64 \n",
       "L 214.882605 175.333878 \n",
       "L 211.200311 175.333878 \n",
       "z\n",
       "\" style=\"fill:#ff7f0e;\"/>\n",
       "   </g>\n",
       "   <g id=\"patch_15\">\n",
       "    <path clip-path=\"url(#p508d310d0a)\" d=\"M 214.882605 224.64 \n",
       "L 218.564899 224.64 \n",
       "L 218.564899 135.88898 \n",
       "L 214.882605 135.88898 \n",
       "z\n",
       "\" style=\"fill:#ff7f0e;\"/>\n",
       "   </g>\n",
       "   <g id=\"patch_16\">\n",
       "    <path clip-path=\"url(#p508d310d0a)\" d=\"M 218.564899 224.64 \n",
       "L 222.247192 224.64 \n",
       "L 222.247192 86.582857 \n",
       "L 218.564899 86.582857 \n",
       "z\n",
       "\" style=\"fill:#ff7f0e;\"/>\n",
       "   </g>\n",
       "   <g id=\"patch_17\">\n",
       "    <path clip-path=\"url(#p508d310d0a)\" d=\"M 222.247192 224.64 \n",
       "L 225.929486 224.64 \n",
       "L 225.929486 27.41551 \n",
       "L 222.247192 27.41551 \n",
       "z\n",
       "\" style=\"fill:#ff7f0e;\"/>\n",
       "   </g>\n",
       "   <g id=\"patch_18\">\n",
       "    <path clip-path=\"url(#p508d310d0a)\" d=\"M 225.929486 224.64 \n",
       "L 229.61178 224.64 \n",
       "L 229.61178 27.41551 \n",
       "L 225.929486 27.41551 \n",
       "z\n",
       "\" style=\"fill:#ff7f0e;\"/>\n",
       "   </g>\n",
       "   <g id=\"patch_19\">\n",
       "    <path clip-path=\"url(#p508d310d0a)\" d=\"M 229.61178 224.64 \n",
       "L 233.294074 224.64 \n",
       "L 233.294074 47.137959 \n",
       "L 229.61178 47.137959 \n",
       "z\n",
       "\" style=\"fill:#ff7f0e;\"/>\n",
       "   </g>\n",
       "   <g id=\"patch_20\">\n",
       "    <path clip-path=\"url(#p508d310d0a)\" d=\"M 233.294074 224.64 \n",
       "L 236.976367 224.64 \n",
       "L 236.976367 135.88898 \n",
       "L 233.294074 135.88898 \n",
       "z\n",
       "\" style=\"fill:#ff7f0e;\"/>\n",
       "   </g>\n",
       "   <g id=\"patch_21\">\n",
       "    <path clip-path=\"url(#p508d310d0a)\" d=\"M 236.976367 224.64 \n",
       "L 240.658661 224.64 \n",
       "L 240.658661 214.778776 \n",
       "L 236.976367 214.778776 \n",
       "z\n",
       "\" style=\"fill:#ff7f0e;\"/>\n",
       "   </g>\n",
       "   <g id=\"patch_22\">\n",
       "    <path clip-path=\"url(#p508d310d0a)\" d=\"M 240.658661 224.64 \n",
       "L 244.340955 224.64 \n",
       "L 244.340955 204.917551 \n",
       "L 240.658661 204.917551 \n",
       "z\n",
       "\" style=\"fill:#ff7f0e;\"/>\n",
       "   </g>\n",
       "   <g id=\"patch_23\">\n",
       "    <path clip-path=\"url(#p508d310d0a)\" d=\"M 190.94705 224.64 \n",
       "L 196.517704 224.64 \n",
       "L 196.517704 204.917551 \n",
       "L 190.94705 204.917551 \n",
       "z\n",
       "\" style=\"fill:#2ca02c;\"/>\n",
       "   </g>\n",
       "   <g id=\"patch_24\">\n",
       "    <path clip-path=\"url(#p508d310d0a)\" d=\"M 196.517704 224.64 \n",
       "L 202.088357 224.64 \n",
       "L 202.088357 185.195102 \n",
       "L 196.517704 185.195102 \n",
       "z\n",
       "\" style=\"fill:#2ca02c;\"/>\n",
       "   </g>\n",
       "   <g id=\"patch_25\">\n",
       "    <path clip-path=\"url(#p508d310d0a)\" d=\"M 202.088357 224.64 \n",
       "L 207.65901 224.64 \n",
       "L 207.65901 165.472653 \n",
       "L 202.088357 165.472653 \n",
       "z\n",
       "\" style=\"fill:#2ca02c;\"/>\n",
       "   </g>\n",
       "   <g id=\"patch_26\">\n",
       "    <path clip-path=\"url(#p508d310d0a)\" d=\"M 207.65901 224.64 \n",
       "L 213.229664 224.64 \n",
       "L 213.229664 96.444082 \n",
       "L 207.65901 96.444082 \n",
       "z\n",
       "\" style=\"fill:#2ca02c;\"/>\n",
       "   </g>\n",
       "   <g id=\"patch_27\">\n",
       "    <path clip-path=\"url(#p508d310d0a)\" d=\"M 213.229664 224.64 \n",
       "L 218.800317 224.64 \n",
       "L 218.800317 76.721633 \n",
       "L 213.229664 76.721633 \n",
       "z\n",
       "\" style=\"fill:#2ca02c;\"/>\n",
       "   </g>\n",
       "   <g id=\"patch_28\">\n",
       "    <path clip-path=\"url(#p508d310d0a)\" d=\"M 218.800317 224.64 \n",
       "L 224.370971 224.64 \n",
       "L 224.370971 56.999184 \n",
       "L 218.800317 56.999184 \n",
       "z\n",
       "\" style=\"fill:#2ca02c;\"/>\n",
       "   </g>\n",
       "   <g id=\"patch_29\">\n",
       "    <path clip-path=\"url(#p508d310d0a)\" d=\"M 224.370971 224.64 \n",
       "L 229.941624 224.64 \n",
       "L 229.941624 86.582857 \n",
       "L 224.370971 86.582857 \n",
       "z\n",
       "\" style=\"fill:#2ca02c;\"/>\n",
       "   </g>\n",
       "   <g id=\"patch_30\">\n",
       "    <path clip-path=\"url(#p508d310d0a)\" d=\"M 229.941624 224.64 \n",
       "L 235.512277 224.64 \n",
       "L 235.512277 116.166531 \n",
       "L 229.941624 116.166531 \n",
       "z\n",
       "\" style=\"fill:#2ca02c;\"/>\n",
       "   </g>\n",
       "   <g id=\"patch_31\">\n",
       "    <path clip-path=\"url(#p508d310d0a)\" d=\"M 235.512277 224.64 \n",
       "L 241.082931 224.64 \n",
       "L 241.082931 76.721633 \n",
       "L 235.512277 76.721633 \n",
       "z\n",
       "\" style=\"fill:#2ca02c;\"/>\n",
       "   </g>\n",
       "   <g id=\"patch_32\">\n",
       "    <path clip-path=\"url(#p508d310d0a)\" d=\"M 241.082931 224.64 \n",
       "L 246.653584 224.64 \n",
       "L 246.653584 195.056327 \n",
       "L 241.082931 195.056327 \n",
       "z\n",
       "\" style=\"fill:#2ca02c;\"/>\n",
       "   </g>\n",
       "   <g id=\"patch_33\">\n",
       "    <path clip-path=\"url(#p508d310d0a)\" d=\"M 266.607246 224.64 \n",
       "L 275.551266 224.64 \n",
       "L 275.551266 185.195102 \n",
       "L 266.607246 185.195102 \n",
       "z\n",
       "\" style=\"fill:#d62728;\"/>\n",
       "   </g>\n",
       "   <g id=\"patch_34\">\n",
       "    <path clip-path=\"url(#p508d310d0a)\" d=\"M 275.551266 224.64 \n",
       "L 284.495286 224.64 \n",
       "L 284.495286 116.166531 \n",
       "L 275.551266 116.166531 \n",
       "z\n",
       "\" style=\"fill:#d62728;\"/>\n",
       "   </g>\n",
       "   <g id=\"patch_35\">\n",
       "    <path clip-path=\"url(#p508d310d0a)\" d=\"M 284.495286 224.64 \n",
       "L 293.439305 224.64 \n",
       "L 293.439305 126.027755 \n",
       "L 284.495286 126.027755 \n",
       "z\n",
       "\" style=\"fill:#d62728;\"/>\n",
       "   </g>\n",
       "   <g id=\"patch_36\">\n",
       "    <path clip-path=\"url(#p508d310d0a)\" d=\"M 293.439305 224.64 \n",
       "L 302.383325 224.64 \n",
       "L 302.383325 76.721633 \n",
       "L 293.439305 76.721633 \n",
       "z\n",
       "\" style=\"fill:#d62728;\"/>\n",
       "   </g>\n",
       "   <g id=\"patch_37\">\n",
       "    <path clip-path=\"url(#p508d310d0a)\" d=\"M 302.383325 224.64 \n",
       "L 311.327345 224.64 \n",
       "L 311.327345 17.554286 \n",
       "L 302.383325 17.554286 \n",
       "z\n",
       "\" style=\"fill:#d62728;\"/>\n",
       "   </g>\n",
       "   <g id=\"patch_38\">\n",
       "    <path clip-path=\"url(#p508d310d0a)\" d=\"M 311.327345 224.64 \n",
       "L 320.271364 224.64 \n",
       "L 320.271364 47.137959 \n",
       "L 311.327345 47.137959 \n",
       "z\n",
       "\" style=\"fill:#d62728;\"/>\n",
       "   </g>\n",
       "   <g id=\"patch_39\">\n",
       "    <path clip-path=\"url(#p508d310d0a)\" d=\"M 320.271364 224.64 \n",
       "L 329.215384 224.64 \n",
       "L 329.215384 135.88898 \n",
       "L 320.271364 135.88898 \n",
       "z\n",
       "\" style=\"fill:#d62728;\"/>\n",
       "   </g>\n",
       "   <g id=\"patch_40\">\n",
       "    <path clip-path=\"url(#p508d310d0a)\" d=\"M 329.215384 224.64 \n",
       "L 338.159404 224.64 \n",
       "L 338.159404 155.611429 \n",
       "L 329.215384 155.611429 \n",
       "z\n",
       "\" style=\"fill:#d62728;\"/>\n",
       "   </g>\n",
       "   <g id=\"patch_41\">\n",
       "    <path clip-path=\"url(#p508d310d0a)\" d=\"M 338.159404 224.64 \n",
       "L 347.103423 224.64 \n",
       "L 347.103423 195.056327 \n",
       "L 338.159404 195.056327 \n",
       "z\n",
       "\" style=\"fill:#d62728;\"/>\n",
       "   </g>\n",
       "   <g id=\"patch_42\">\n",
       "    <path clip-path=\"url(#p508d310d0a)\" d=\"M 347.103423 224.64 \n",
       "L 356.047443 224.64 \n",
       "L 356.047443 204.917551 \n",
       "L 347.103423 204.917551 \n",
       "z\n",
       "\" style=\"fill:#d62728;\"/>\n",
       "   </g>\n",
       "   <g id=\"matplotlib.axis_1\">\n",
       "    <g id=\"xtick_1\">\n",
       "     <g id=\"line2d_1\">\n",
       "      <defs>\n",
       "       <path d=\"M 0 0 \n",
       "L 0 3.5 \n",
       "\" id=\"m90f72d28ba\" style=\"stroke:#000000;stroke-width:0.8;\"/>\n",
       "      </defs>\n",
       "      <g>\n",
       "       <use style=\"stroke:#000000;stroke-width:0.8;\" x=\"39.050674\" xlink:href=\"#m90f72d28ba\" y=\"224.64\"/>\n",
       "      </g>\n",
       "     </g>\n",
       "     <g id=\"text_1\">\n",
       "      <!-- −25 -->\n",
       "      <g transform=\"translate(28.49833 239.238437)scale(0.1 -0.1)\">\n",
       "       <defs>\n",
       "        <path d=\"M 10.59375 35.5 \n",
       "L 73.1875 35.5 \n",
       "L 73.1875 27.203125 \n",
       "L 10.59375 27.203125 \n",
       "z\n",
       "\" id=\"DejaVuSans-8722\"/>\n",
       "        <path d=\"M 19.1875 8.296875 \n",
       "L 53.609375 8.296875 \n",
       "L 53.609375 0 \n",
       "L 7.328125 0 \n",
       "L 7.328125 8.296875 \n",
       "Q 12.9375 14.109375 22.625 23.890625 \n",
       "Q 32.328125 33.6875 34.8125 36.53125 \n",
       "Q 39.546875 41.84375 41.421875 45.53125 \n",
       "Q 43.3125 49.21875 43.3125 52.78125 \n",
       "Q 43.3125 58.59375 39.234375 62.25 \n",
       "Q 35.15625 65.921875 28.609375 65.921875 \n",
       "Q 23.96875 65.921875 18.8125 64.3125 \n",
       "Q 13.671875 62.703125 7.8125 59.421875 \n",
       "L 7.8125 69.390625 \n",
       "Q 13.765625 71.78125 18.9375 73 \n",
       "Q 24.125 74.21875 28.421875 74.21875 \n",
       "Q 39.75 74.21875 46.484375 68.546875 \n",
       "Q 53.21875 62.890625 53.21875 53.421875 \n",
       "Q 53.21875 48.921875 51.53125 44.890625 \n",
       "Q 49.859375 40.875 45.40625 35.40625 \n",
       "Q 44.1875 33.984375 37.640625 27.21875 \n",
       "Q 31.109375 20.453125 19.1875 8.296875 \n",
       "z\n",
       "\" id=\"DejaVuSans-50\"/>\n",
       "        <path d=\"M 10.796875 72.90625 \n",
       "L 49.515625 72.90625 \n",
       "L 49.515625 64.59375 \n",
       "L 19.828125 64.59375 \n",
       "L 19.828125 46.734375 \n",
       "Q 21.96875 47.46875 24.109375 47.828125 \n",
       "Q 26.265625 48.1875 28.421875 48.1875 \n",
       "Q 40.625 48.1875 47.75 41.5 \n",
       "Q 54.890625 34.8125 54.890625 23.390625 \n",
       "Q 54.890625 11.625 47.5625 5.09375 \n",
       "Q 40.234375 -1.421875 26.90625 -1.421875 \n",
       "Q 22.3125 -1.421875 17.546875 -0.640625 \n",
       "Q 12.796875 0.140625 7.71875 1.703125 \n",
       "L 7.71875 11.625 \n",
       "Q 12.109375 9.234375 16.796875 8.0625 \n",
       "Q 21.484375 6.890625 26.703125 6.890625 \n",
       "Q 35.15625 6.890625 40.078125 11.328125 \n",
       "Q 45.015625 15.765625 45.015625 23.390625 \n",
       "Q 45.015625 31 40.078125 35.4375 \n",
       "Q 35.15625 39.890625 26.703125 39.890625 \n",
       "Q 22.75 39.890625 18.8125 39.015625 \n",
       "Q 14.890625 38.140625 10.796875 36.28125 \n",
       "z\n",
       "\" id=\"DejaVuSans-53\"/>\n",
       "       </defs>\n",
       "       <use xlink:href=\"#DejaVuSans-8722\"/>\n",
       "       <use x=\"83.789062\" xlink:href=\"#DejaVuSans-50\"/>\n",
       "       <use x=\"147.412109\" xlink:href=\"#DejaVuSans-53\"/>\n",
       "      </g>\n",
       "     </g>\n",
       "    </g>\n",
       "    <g id=\"xtick_2\">\n",
       "     <g id=\"line2d_2\">\n",
       "      <g>\n",
       "       <use style=\"stroke:#000000;stroke-width:0.8;\" x=\"80.544832\" xlink:href=\"#m90f72d28ba\" y=\"224.64\"/>\n",
       "      </g>\n",
       "     </g>\n",
       "     <g id=\"text_2\">\n",
       "      <!-- −20 -->\n",
       "      <g transform=\"translate(69.992488 239.238437)scale(0.1 -0.1)\">\n",
       "       <defs>\n",
       "        <path d=\"M 31.78125 66.40625 \n",
       "Q 24.171875 66.40625 20.328125 58.90625 \n",
       "Q 16.5 51.421875 16.5 36.375 \n",
       "Q 16.5 21.390625 20.328125 13.890625 \n",
       "Q 24.171875 6.390625 31.78125 6.390625 \n",
       "Q 39.453125 6.390625 43.28125 13.890625 \n",
       "Q 47.125 21.390625 47.125 36.375 \n",
       "Q 47.125 51.421875 43.28125 58.90625 \n",
       "Q 39.453125 66.40625 31.78125 66.40625 \n",
       "z\n",
       "M 31.78125 74.21875 \n",
       "Q 44.046875 74.21875 50.515625 64.515625 \n",
       "Q 56.984375 54.828125 56.984375 36.375 \n",
       "Q 56.984375 17.96875 50.515625 8.265625 \n",
       "Q 44.046875 -1.421875 31.78125 -1.421875 \n",
       "Q 19.53125 -1.421875 13.0625 8.265625 \n",
       "Q 6.59375 17.96875 6.59375 36.375 \n",
       "Q 6.59375 54.828125 13.0625 64.515625 \n",
       "Q 19.53125 74.21875 31.78125 74.21875 \n",
       "z\n",
       "\" id=\"DejaVuSans-48\"/>\n",
       "       </defs>\n",
       "       <use xlink:href=\"#DejaVuSans-8722\"/>\n",
       "       <use x=\"83.789062\" xlink:href=\"#DejaVuSans-50\"/>\n",
       "       <use x=\"147.412109\" xlink:href=\"#DejaVuSans-48\"/>\n",
       "      </g>\n",
       "     </g>\n",
       "    </g>\n",
       "    <g id=\"xtick_3\">\n",
       "     <g id=\"line2d_3\">\n",
       "      <g>\n",
       "       <use style=\"stroke:#000000;stroke-width:0.8;\" x=\"122.03899\" xlink:href=\"#m90f72d28ba\" y=\"224.64\"/>\n",
       "      </g>\n",
       "     </g>\n",
       "     <g id=\"text_3\">\n",
       "      <!-- −15 -->\n",
       "      <g transform=\"translate(111.486646 239.238437)scale(0.1 -0.1)\">\n",
       "       <defs>\n",
       "        <path d=\"M 12.40625 8.296875 \n",
       "L 28.515625 8.296875 \n",
       "L 28.515625 63.921875 \n",
       "L 10.984375 60.40625 \n",
       "L 10.984375 69.390625 \n",
       "L 28.421875 72.90625 \n",
       "L 38.28125 72.90625 \n",
       "L 38.28125 8.296875 \n",
       "L 54.390625 8.296875 \n",
       "L 54.390625 0 \n",
       "L 12.40625 0 \n",
       "z\n",
       "\" id=\"DejaVuSans-49\"/>\n",
       "       </defs>\n",
       "       <use xlink:href=\"#DejaVuSans-8722\"/>\n",
       "       <use x=\"83.789062\" xlink:href=\"#DejaVuSans-49\"/>\n",
       "       <use x=\"147.412109\" xlink:href=\"#DejaVuSans-53\"/>\n",
       "      </g>\n",
       "     </g>\n",
       "    </g>\n",
       "    <g id=\"xtick_4\">\n",
       "     <g id=\"line2d_4\">\n",
       "      <g>\n",
       "       <use style=\"stroke:#000000;stroke-width:0.8;\" x=\"163.533148\" xlink:href=\"#m90f72d28ba\" y=\"224.64\"/>\n",
       "      </g>\n",
       "     </g>\n",
       "     <g id=\"text_4\">\n",
       "      <!-- −10 -->\n",
       "      <g transform=\"translate(152.980804 239.238437)scale(0.1 -0.1)\">\n",
       "       <use xlink:href=\"#DejaVuSans-8722\"/>\n",
       "       <use x=\"83.789062\" xlink:href=\"#DejaVuSans-49\"/>\n",
       "       <use x=\"147.412109\" xlink:href=\"#DejaVuSans-48\"/>\n",
       "      </g>\n",
       "     </g>\n",
       "    </g>\n",
       "    <g id=\"xtick_5\">\n",
       "     <g id=\"line2d_5\">\n",
       "      <g>\n",
       "       <use style=\"stroke:#000000;stroke-width:0.8;\" x=\"205.027305\" xlink:href=\"#m90f72d28ba\" y=\"224.64\"/>\n",
       "      </g>\n",
       "     </g>\n",
       "     <g id=\"text_5\">\n",
       "      <!-- −5 -->\n",
       "      <g transform=\"translate(197.656212 239.238437)scale(0.1 -0.1)\">\n",
       "       <use xlink:href=\"#DejaVuSans-8722\"/>\n",
       "       <use x=\"83.789062\" xlink:href=\"#DejaVuSans-53\"/>\n",
       "      </g>\n",
       "     </g>\n",
       "    </g>\n",
       "    <g id=\"xtick_6\">\n",
       "     <g id=\"line2d_6\">\n",
       "      <g>\n",
       "       <use style=\"stroke:#000000;stroke-width:0.8;\" x=\"246.521463\" xlink:href=\"#m90f72d28ba\" y=\"224.64\"/>\n",
       "      </g>\n",
       "     </g>\n",
       "     <g id=\"text_6\">\n",
       "      <!-- 0 -->\n",
       "      <g transform=\"translate(243.340213 239.238437)scale(0.1 -0.1)\">\n",
       "       <use xlink:href=\"#DejaVuSans-48\"/>\n",
       "      </g>\n",
       "     </g>\n",
       "    </g>\n",
       "    <g id=\"xtick_7\">\n",
       "     <g id=\"line2d_7\">\n",
       "      <g>\n",
       "       <use style=\"stroke:#000000;stroke-width:0.8;\" x=\"288.015621\" xlink:href=\"#m90f72d28ba\" y=\"224.64\"/>\n",
       "      </g>\n",
       "     </g>\n",
       "     <g id=\"text_7\">\n",
       "      <!-- 5 -->\n",
       "      <g transform=\"translate(284.834371 239.238437)scale(0.1 -0.1)\">\n",
       "       <use xlink:href=\"#DejaVuSans-53\"/>\n",
       "      </g>\n",
       "     </g>\n",
       "    </g>\n",
       "    <g id=\"xtick_8\">\n",
       "     <g id=\"line2d_8\">\n",
       "      <g>\n",
       "       <use style=\"stroke:#000000;stroke-width:0.8;\" x=\"329.509779\" xlink:href=\"#m90f72d28ba\" y=\"224.64\"/>\n",
       "      </g>\n",
       "     </g>\n",
       "     <g id=\"text_8\">\n",
       "      <!-- 10 -->\n",
       "      <g transform=\"translate(323.147279 239.238437)scale(0.1 -0.1)\">\n",
       "       <use xlink:href=\"#DejaVuSans-49\"/>\n",
       "       <use x=\"63.623047\" xlink:href=\"#DejaVuSans-48\"/>\n",
       "      </g>\n",
       "     </g>\n",
       "    </g>\n",
       "    <g id=\"xtick_9\">\n",
       "     <g id=\"line2d_9\">\n",
       "      <g>\n",
       "       <use style=\"stroke:#000000;stroke-width:0.8;\" x=\"371.003937\" xlink:href=\"#m90f72d28ba\" y=\"224.64\"/>\n",
       "      </g>\n",
       "     </g>\n",
       "     <g id=\"text_9\">\n",
       "      <!-- 15 -->\n",
       "      <g transform=\"translate(364.641437 239.238437)scale(0.1 -0.1)\">\n",
       "       <use xlink:href=\"#DejaVuSans-49\"/>\n",
       "       <use x=\"63.623047\" xlink:href=\"#DejaVuSans-53\"/>\n",
       "      </g>\n",
       "     </g>\n",
       "    </g>\n",
       "   </g>\n",
       "   <g id=\"matplotlib.axis_2\">\n",
       "    <g id=\"ytick_1\">\n",
       "     <g id=\"line2d_10\">\n",
       "      <defs>\n",
       "       <path d=\"M 0 0 \n",
       "L -3.5 0 \n",
       "\" id=\"mfcf9c2c4c5\" style=\"stroke:#000000;stroke-width:0.8;\"/>\n",
       "      </defs>\n",
       "      <g>\n",
       "       <use style=\"stroke:#000000;stroke-width:0.8;\" x=\"36.465625\" xlink:href=\"#mfcf9c2c4c5\" y=\"224.64\"/>\n",
       "      </g>\n",
       "     </g>\n",
       "     <g id=\"text_10\">\n",
       "      <!-- 0.0 -->\n",
       "      <g transform=\"translate(13.5625 228.439219)scale(0.1 -0.1)\">\n",
       "       <defs>\n",
       "        <path d=\"M 10.6875 12.40625 \n",
       "L 21 12.40625 \n",
       "L 21 0 \n",
       "L 10.6875 0 \n",
       "z\n",
       "\" id=\"DejaVuSans-46\"/>\n",
       "       </defs>\n",
       "       <use xlink:href=\"#DejaVuSans-48\"/>\n",
       "       <use x=\"63.623047\" xlink:href=\"#DejaVuSans-46\"/>\n",
       "       <use x=\"95.410156\" xlink:href=\"#DejaVuSans-48\"/>\n",
       "      </g>\n",
       "     </g>\n",
       "    </g>\n",
       "    <g id=\"ytick_2\">\n",
       "     <g id=\"line2d_11\">\n",
       "      <g>\n",
       "       <use style=\"stroke:#000000;stroke-width:0.8;\" x=\"36.465625\" xlink:href=\"#mfcf9c2c4c5\" y=\"199.986939\"/>\n",
       "      </g>\n",
       "     </g>\n",
       "     <g id=\"text_11\">\n",
       "      <!-- 2.5 -->\n",
       "      <g transform=\"translate(13.5625 203.786158)scale(0.1 -0.1)\">\n",
       "       <use xlink:href=\"#DejaVuSans-50\"/>\n",
       "       <use x=\"63.623047\" xlink:href=\"#DejaVuSans-46\"/>\n",
       "       <use x=\"95.410156\" xlink:href=\"#DejaVuSans-53\"/>\n",
       "      </g>\n",
       "     </g>\n",
       "    </g>\n",
       "    <g id=\"ytick_3\">\n",
       "     <g id=\"line2d_12\">\n",
       "      <g>\n",
       "       <use style=\"stroke:#000000;stroke-width:0.8;\" x=\"36.465625\" xlink:href=\"#mfcf9c2c4c5\" y=\"175.333878\"/>\n",
       "      </g>\n",
       "     </g>\n",
       "     <g id=\"text_12\">\n",
       "      <!-- 5.0 -->\n",
       "      <g transform=\"translate(13.5625 179.133096)scale(0.1 -0.1)\">\n",
       "       <use xlink:href=\"#DejaVuSans-53\"/>\n",
       "       <use x=\"63.623047\" xlink:href=\"#DejaVuSans-46\"/>\n",
       "       <use x=\"95.410156\" xlink:href=\"#DejaVuSans-48\"/>\n",
       "      </g>\n",
       "     </g>\n",
       "    </g>\n",
       "    <g id=\"ytick_4\">\n",
       "     <g id=\"line2d_13\">\n",
       "      <g>\n",
       "       <use style=\"stroke:#000000;stroke-width:0.8;\" x=\"36.465625\" xlink:href=\"#mfcf9c2c4c5\" y=\"150.680816\"/>\n",
       "      </g>\n",
       "     </g>\n",
       "     <g id=\"text_13\">\n",
       "      <!-- 7.5 -->\n",
       "      <g transform=\"translate(13.5625 154.480035)scale(0.1 -0.1)\">\n",
       "       <defs>\n",
       "        <path d=\"M 8.203125 72.90625 \n",
       "L 55.078125 72.90625 \n",
       "L 55.078125 68.703125 \n",
       "L 28.609375 0 \n",
       "L 18.3125 0 \n",
       "L 43.21875 64.59375 \n",
       "L 8.203125 64.59375 \n",
       "z\n",
       "\" id=\"DejaVuSans-55\"/>\n",
       "       </defs>\n",
       "       <use xlink:href=\"#DejaVuSans-55\"/>\n",
       "       <use x=\"63.623047\" xlink:href=\"#DejaVuSans-46\"/>\n",
       "       <use x=\"95.410156\" xlink:href=\"#DejaVuSans-53\"/>\n",
       "      </g>\n",
       "     </g>\n",
       "    </g>\n",
       "    <g id=\"ytick_5\">\n",
       "     <g id=\"line2d_14\">\n",
       "      <g>\n",
       "       <use style=\"stroke:#000000;stroke-width:0.8;\" x=\"36.465625\" xlink:href=\"#mfcf9c2c4c5\" y=\"126.027755\"/>\n",
       "      </g>\n",
       "     </g>\n",
       "     <g id=\"text_14\">\n",
       "      <!-- 10.0 -->\n",
       "      <g transform=\"translate(7.2 129.826974)scale(0.1 -0.1)\">\n",
       "       <use xlink:href=\"#DejaVuSans-49\"/>\n",
       "       <use x=\"63.623047\" xlink:href=\"#DejaVuSans-48\"/>\n",
       "       <use x=\"127.246094\" xlink:href=\"#DejaVuSans-46\"/>\n",
       "       <use x=\"159.033203\" xlink:href=\"#DejaVuSans-48\"/>\n",
       "      </g>\n",
       "     </g>\n",
       "    </g>\n",
       "    <g id=\"ytick_6\">\n",
       "     <g id=\"line2d_15\">\n",
       "      <g>\n",
       "       <use style=\"stroke:#000000;stroke-width:0.8;\" x=\"36.465625\" xlink:href=\"#mfcf9c2c4c5\" y=\"101.374694\"/>\n",
       "      </g>\n",
       "     </g>\n",
       "     <g id=\"text_15\">\n",
       "      <!-- 12.5 -->\n",
       "      <g transform=\"translate(7.2 105.173913)scale(0.1 -0.1)\">\n",
       "       <use xlink:href=\"#DejaVuSans-49\"/>\n",
       "       <use x=\"63.623047\" xlink:href=\"#DejaVuSans-50\"/>\n",
       "       <use x=\"127.246094\" xlink:href=\"#DejaVuSans-46\"/>\n",
       "       <use x=\"159.033203\" xlink:href=\"#DejaVuSans-53\"/>\n",
       "      </g>\n",
       "     </g>\n",
       "    </g>\n",
       "    <g id=\"ytick_7\">\n",
       "     <g id=\"line2d_16\">\n",
       "      <g>\n",
       "       <use style=\"stroke:#000000;stroke-width:0.8;\" x=\"36.465625\" xlink:href=\"#mfcf9c2c4c5\" y=\"76.721633\"/>\n",
       "      </g>\n",
       "     </g>\n",
       "     <g id=\"text_16\">\n",
       "      <!-- 15.0 -->\n",
       "      <g transform=\"translate(7.2 80.520851)scale(0.1 -0.1)\">\n",
       "       <use xlink:href=\"#DejaVuSans-49\"/>\n",
       "       <use x=\"63.623047\" xlink:href=\"#DejaVuSans-53\"/>\n",
       "       <use x=\"127.246094\" xlink:href=\"#DejaVuSans-46\"/>\n",
       "       <use x=\"159.033203\" xlink:href=\"#DejaVuSans-48\"/>\n",
       "      </g>\n",
       "     </g>\n",
       "    </g>\n",
       "    <g id=\"ytick_8\">\n",
       "     <g id=\"line2d_17\">\n",
       "      <g>\n",
       "       <use style=\"stroke:#000000;stroke-width:0.8;\" x=\"36.465625\" xlink:href=\"#mfcf9c2c4c5\" y=\"52.068571\"/>\n",
       "      </g>\n",
       "     </g>\n",
       "     <g id=\"text_17\">\n",
       "      <!-- 17.5 -->\n",
       "      <g transform=\"translate(7.2 55.86779)scale(0.1 -0.1)\">\n",
       "       <use xlink:href=\"#DejaVuSans-49\"/>\n",
       "       <use x=\"63.623047\" xlink:href=\"#DejaVuSans-55\"/>\n",
       "       <use x=\"127.246094\" xlink:href=\"#DejaVuSans-46\"/>\n",
       "       <use x=\"159.033203\" xlink:href=\"#DejaVuSans-53\"/>\n",
       "      </g>\n",
       "     </g>\n",
       "    </g>\n",
       "    <g id=\"ytick_9\">\n",
       "     <g id=\"line2d_18\">\n",
       "      <g>\n",
       "       <use style=\"stroke:#000000;stroke-width:0.8;\" x=\"36.465625\" xlink:href=\"#mfcf9c2c4c5\" y=\"27.41551\"/>\n",
       "      </g>\n",
       "     </g>\n",
       "     <g id=\"text_18\">\n",
       "      <!-- 20.0 -->\n",
       "      <g transform=\"translate(7.2 31.214729)scale(0.1 -0.1)\">\n",
       "       <use xlink:href=\"#DejaVuSans-50\"/>\n",
       "       <use x=\"63.623047\" xlink:href=\"#DejaVuSans-48\"/>\n",
       "       <use x=\"127.246094\" xlink:href=\"#DejaVuSans-46\"/>\n",
       "       <use x=\"159.033203\" xlink:href=\"#DejaVuSans-48\"/>\n",
       "      </g>\n",
       "     </g>\n",
       "    </g>\n",
       "   </g>\n",
       "   <g id=\"patch_43\">\n",
       "    <path d=\"M 36.465625 224.64 \n",
       "L 36.465625 7.2 \n",
       "\" style=\"fill:none;stroke:#000000;stroke-linecap:square;stroke-linejoin:miter;stroke-width:0.8;\"/>\n",
       "   </g>\n",
       "   <g id=\"patch_44\">\n",
       "    <path d=\"M 371.265625 224.64 \n",
       "L 371.265625 7.2 \n",
       "\" style=\"fill:none;stroke:#000000;stroke-linecap:square;stroke-linejoin:miter;stroke-width:0.8;\"/>\n",
       "   </g>\n",
       "   <g id=\"patch_45\">\n",
       "    <path d=\"M 36.465625 224.64 \n",
       "L 371.265625 224.64 \n",
       "\" style=\"fill:none;stroke:#000000;stroke-linecap:square;stroke-linejoin:miter;stroke-width:0.8;\"/>\n",
       "   </g>\n",
       "   <g id=\"patch_46\">\n",
       "    <path d=\"M 36.465625 7.2 \n",
       "L 371.265625 7.2 \n",
       "\" style=\"fill:none;stroke:#000000;stroke-linecap:square;stroke-linejoin:miter;stroke-width:0.8;\"/>\n",
       "   </g>\n",
       "  </g>\n",
       " </g>\n",
       " <defs>\n",
       "  <clipPath id=\"p508d310d0a\">\n",
       "   <rect height=\"217.44\" width=\"334.8\" x=\"36.465625\" y=\"7.2\"/>\n",
       "  </clipPath>\n",
       " </defs>\n",
       "</svg>\n"
      ],
      "text/plain": [
       "<Figure size 432x288 with 1 Axes>"
      ]
     },
     "metadata": {
      "needs_background": "light"
     },
     "output_type": "display_data"
    }
   ],
   "source": [
    "import matplotlib.pyplot as plt\n",
    "# for column in df:\n",
    "for column in score_mat[:,ind_sorted[:2]].T:\n",
    "    plt.hist(column)\n",
    "for column in score_mat[:,ind_sorted[-2:]].T:\n",
    "    plt.hist(column)"
   ]
  },
  {
   "cell_type": "code",
   "execution_count": 31,
   "metadata": {},
   "outputs": [
    {
     "name": "stdout",
     "output_type": "stream",
     "text": [
      "(2, 5)\n"
     ]
    }
   ],
   "source": [
    "## try to understand the \n",
    "sampled_ranking=np.arange(5)\n",
    "sampled_rankings=np.tile(sampled_ranking,(2,1))\n",
    "print(sampled_rankings.shape)\n",
    "\n",
    "weight_per_rank=np.arange(20,10,-1)/30\n",
    "weight_per_doc=np.arange(10,0,-1)/10\n",
    "log_scores=np.arange(15,5,-1)/10*2\n",
    "cutoff=5\n"
   ]
  },
  {
   "cell_type": "code",
   "execution_count": 32,
   "metadata": {},
   "outputs": [
    {
     "data": {
      "text/plain": [
       "(10,)"
      ]
     },
     "execution_count": 32,
     "metadata": {},
     "output_type": "execute_result"
    }
   ],
   "source": [
    "log_scores.shape"
   ]
  },
  {
   "cell_type": "code",
   "execution_count": 70,
   "metadata": {},
   "outputs": [
    {
     "data": {
      "text/plain": [
       "4.0"
      ]
     },
     "execution_count": 70,
     "metadata": {},
     "output_type": "execute_result"
    }
   ],
   "source": [
    "np.log10(10**4)"
   ]
  },
  {
   "cell_type": "code",
   "execution_count": 1,
   "metadata": {},
   "outputs": [],
   "source": [
    "def correlation(data, model,correlation_fn,n_sample=100):\n",
    "    corr={\"mean_std_corr\":[],\"label_std_corr\":[],\"label_mean_corr\":[]}\n",
    "    mean,std=MCDP_mean_std(data.feature_matrix,model,n_sample)\n",
    "    for qid in progressbar(range(data.num_queries())):\n",
    "        q_doc_weight= data.query_labels(qid)  \n",
    "        n_doc=  q_doc_weight.shape[0]    \n",
    "        if n_doc<3 or np.all(q_doc_weight == q_doc_weight[0]):\n",
    "            # print(qid)\n",
    "            continue\n",
    "        mean_cur=data.query_values_from_vector(qid,mean)\n",
    "        std_cur=data.query_values_from_vector(qid,std)\n",
    "        corr[\"mean_std_corr\"].append(correlation_fn(mean_cur,std_cur)[0])\n",
    "        label_std_corr=correlation_fn(q_doc_weight,std_cur)[0]\n",
    "        # print(qid,label_std_corr,q_doc_weight.shape,q_doc_weight.sum())\n",
    "        \n",
    "        corr[\"label_std_corr\"].append(label_std_corr)\n",
    "        corr[\"label_mean_corr\"].append(correlation_fn(q_doc_weight,mean_cur)[0])\n",
    "    for i in corr.keys():\n",
    "        corr[i]=np.mean(corr[i])\n",
    "    print(corr)\n",
    "    return corr\n",
    "\n",
    "def MCDP_mean_std(q_feat,model,n_samples=100):\n",
    "    '''\n",
    "        q_feat: input feautures: [seq_len,feature_len]\n",
    "        model: NN model with dropout\n",
    "    '''\n",
    "\n",
    "    score_mat=nn.get_score_matrix_by_dropout(q_feat,model,n_samples=n_samples)\n",
    "    mean,std=np.mean(score_mat,axis=0),np.std(score_mat,axis=0)\n",
    "    return mean,std\n"
   ]
  },
  {
   "cell_type": "code",
   "execution_count": 1,
   "metadata": {},
   "outputs": [],
   "source": [
    "import sys\n",
    "sys.path.append(\"../\")\n",
    "import argparse\n",
    "import json\n",
    "import numpy as np\n",
    "import tensorflow as tf\n",
    "import time\n",
    "\n",
    "import utils.click_generation as clkgn\n",
    "import utils.clicks as clk\n",
    "import utils.dataset as dataset\n",
    "import utils.estimators as est\n",
    "import utils.evaluation as evl\n",
    "import utils.nnmodel as nn\n",
    "\n",
    "import utils.optimization as opt\n",
    "import utils.misc as misc\n",
    "from progressbar import progressbar\n",
    "from utils.nnmodel import init_model_dropout\n",
    "%load_ext autoreload\n",
    "%autoreload 2\n",
    "%config Completer.use_jedi = False\n",
    "tf.enable_eager_execution()"
   ]
  },
  {
   "cell_type": "code",
   "execution_count": 7,
   "metadata": {},
   "outputs": [],
   "source": [
    "setting={\"output_path\":\"log.txt\",\"fold_id\":1,\"click_model\":\"default\",\"dataset\":\"MSLR-WEB30k_beh_rm\",\"cutoff\":5,\\\n",
    "    \"dataset_info_path\":\"local_dataset_info.txt\",\"cutoff\":5,\"n_updates\":5,\"pretrained_model\":\"local_output/pretrained_model.h5\"}\n",
    "from argparse import Namespace\n",
    "args = Namespace(**setting)\n",
    "click_model_name = args.click_model\n",
    "cutoff = args.cutoff\n",
    "n_updates = args.n_updates\n",
    "data = dataset.get_dataset_from_json_info(\n",
    "                  args.dataset,\n",
    "                  args.dataset_info_path,\n",
    "                  shared_resource = False,\n",
    "                )\n",
    "fold_id = (args.fold_id-1)%data.num_folds()\n",
    "data = data.get_data_folds()[fold_id]\n",
    "start = time.time()\n",
    "data.read_data()"
   ]
  },
  {
   "cell_type": "code",
   "execution_count": 5,
   "metadata": {},
   "outputs": [],
   "source": [
    "model_params={}\n",
    "model_params['hidden units']=[32,32]\n",
    "model_dropout=init_model_dropout(model_params)\n",
    "model_dropout.build(input_shape=data.train.feature_matrix.shape)\n",
    "dropout_model_weight=\"pretrained/MSLR-WEB30k_beh_rm1%/supervised/trial0/model.h5\"\n",
    "model_dropout.load_weights(dropout_model_weight)"
   ]
  },
  {
   "cell_type": "code",
   "execution_count": 10,
   "metadata": {},
   "outputs": [
    {
     "name": "stderr",
     "output_type": "stream",
     "text": [
      "100% (18918 of 18918) |##################| Elapsed Time: 0:00:38 Time:  0:00:38\n",
      " 38% (7285 of 18918) |#######            | Elapsed Time: 0:00:14 ETA:   0:00:23"
     ]
    },
    {
     "ename": "KeyboardInterrupt",
     "evalue": "",
     "output_type": "error",
     "traceback": [
      "\u001b[0;31m---------------------------------------------------------------------------\u001b[0m",
      "\u001b[0;31mKeyboardInterrupt\u001b[0m                         Traceback (most recent call last)",
      "\u001b[0;32m<ipython-input-10-4f5b512accd0>\u001b[0m in \u001b[0;36m<module>\u001b[0;34m\u001b[0m\n\u001b[1;32m      2\u001b[0m     \u001b[0;32mfor\u001b[0m \u001b[0mq\u001b[0m \u001b[0;32min\u001b[0m \u001b[0mprogressbar\u001b[0m\u001b[0;34m(\u001b[0m\u001b[0mrange\u001b[0m\u001b[0;34m(\u001b[0m\u001b[0mdata\u001b[0m\u001b[0;34m.\u001b[0m\u001b[0mtrain\u001b[0m\u001b[0;34m.\u001b[0m\u001b[0mnum_queries\u001b[0m\u001b[0;34m(\u001b[0m\u001b[0;34m)\u001b[0m\u001b[0;34m)\u001b[0m\u001b[0;34m)\u001b[0m\u001b[0;34m:\u001b[0m\u001b[0;34m\u001b[0m\u001b[0;34m\u001b[0m\u001b[0m\n\u001b[1;32m      3\u001b[0m         \u001b[0mfeat\u001b[0m\u001b[0;34m=\u001b[0m\u001b[0mdata\u001b[0m\u001b[0;34m.\u001b[0m\u001b[0mtrain\u001b[0m\u001b[0;34m.\u001b[0m\u001b[0mquery_values_from_vector\u001b[0m\u001b[0;34m(\u001b[0m\u001b[0mq\u001b[0m\u001b[0;34m,\u001b[0m\u001b[0mdata\u001b[0m\u001b[0;34m.\u001b[0m\u001b[0mtrain\u001b[0m\u001b[0;34m.\u001b[0m\u001b[0mfeature_matrix\u001b[0m\u001b[0;34m)\u001b[0m\u001b[0;34m\u001b[0m\u001b[0;34m\u001b[0m\u001b[0m\n\u001b[0;32m----> 4\u001b[0;31m         \u001b[0mmodel_dropout\u001b[0m\u001b[0;34m(\u001b[0m\u001b[0mfeat\u001b[0m\u001b[0;34m)\u001b[0m\u001b[0;34m\u001b[0m\u001b[0;34m\u001b[0m\u001b[0m\n\u001b[0m",
      "\u001b[0;32m~/miniconda3/envs/ultra_p36/lib/python3.6/site-packages/tensorflow_core/python/keras/engine/base_layer.py\u001b[0m in \u001b[0;36m__call__\u001b[0;34m(self, inputs, *args, **kwargs)\u001b[0m\n\u001b[1;32m    896\u001b[0m           with base_layer_utils.autocast_context_manager(\n\u001b[1;32m    897\u001b[0m               self._compute_dtype):\n\u001b[0;32m--> 898\u001b[0;31m             \u001b[0moutputs\u001b[0m \u001b[0;34m=\u001b[0m \u001b[0mself\u001b[0m\u001b[0;34m.\u001b[0m\u001b[0mcall\u001b[0m\u001b[0;34m(\u001b[0m\u001b[0mcast_inputs\u001b[0m\u001b[0;34m,\u001b[0m \u001b[0;34m*\u001b[0m\u001b[0margs\u001b[0m\u001b[0;34m,\u001b[0m \u001b[0;34m**\u001b[0m\u001b[0mkwargs\u001b[0m\u001b[0;34m)\u001b[0m\u001b[0;34m\u001b[0m\u001b[0;34m\u001b[0m\u001b[0m\n\u001b[0m\u001b[1;32m    899\u001b[0m           \u001b[0mself\u001b[0m\u001b[0;34m.\u001b[0m\u001b[0m_handle_activity_regularization\u001b[0m\u001b[0;34m(\u001b[0m\u001b[0minputs\u001b[0m\u001b[0;34m,\u001b[0m \u001b[0moutputs\u001b[0m\u001b[0;34m)\u001b[0m\u001b[0;34m\u001b[0m\u001b[0;34m\u001b[0m\u001b[0m\n\u001b[1;32m    900\u001b[0m           \u001b[0mself\u001b[0m\u001b[0;34m.\u001b[0m\u001b[0m_set_mask_metadata\u001b[0m\u001b[0;34m(\u001b[0m\u001b[0minputs\u001b[0m\u001b[0;34m,\u001b[0m \u001b[0moutputs\u001b[0m\u001b[0;34m,\u001b[0m \u001b[0minput_masks\u001b[0m\u001b[0;34m)\u001b[0m\u001b[0;34m\u001b[0m\u001b[0;34m\u001b[0m\u001b[0m\n",
      "\u001b[0;32m~/miniconda3/envs/ultra_p36/lib/python3.6/site-packages/tensorflow_core/python/keras/engine/sequential.py\u001b[0m in \u001b[0;36mcall\u001b[0;34m(self, inputs, training, mask)\u001b[0m\n\u001b[1;32m    267\u001b[0m         \u001b[0mkwargs\u001b[0m\u001b[0;34m[\u001b[0m\u001b[0;34m'training'\u001b[0m\u001b[0;34m]\u001b[0m \u001b[0;34m=\u001b[0m \u001b[0mtraining\u001b[0m\u001b[0;34m\u001b[0m\u001b[0;34m\u001b[0m\u001b[0m\n\u001b[1;32m    268\u001b[0m \u001b[0;34m\u001b[0m\u001b[0m\n\u001b[0;32m--> 269\u001b[0;31m       \u001b[0moutputs\u001b[0m \u001b[0;34m=\u001b[0m \u001b[0mlayer\u001b[0m\u001b[0;34m(\u001b[0m\u001b[0minputs\u001b[0m\u001b[0;34m,\u001b[0m \u001b[0;34m**\u001b[0m\u001b[0mkwargs\u001b[0m\u001b[0;34m)\u001b[0m\u001b[0;34m\u001b[0m\u001b[0;34m\u001b[0m\u001b[0m\n\u001b[0m\u001b[1;32m    270\u001b[0m \u001b[0;34m\u001b[0m\u001b[0m\n\u001b[1;32m    271\u001b[0m       \u001b[0;31m# `outputs` will be the inputs to the next layer.\u001b[0m\u001b[0;34m\u001b[0m\u001b[0;34m\u001b[0m\u001b[0;34m\u001b[0m\u001b[0m\n",
      "\u001b[0;32m~/miniconda3/envs/ultra_p36/lib/python3.6/site-packages/tensorflow_core/python/keras/engine/base_layer.py\u001b[0m in \u001b[0;36m__call__\u001b[0;34m(self, inputs, *args, **kwargs)\u001b[0m\n\u001b[1;32m    898\u001b[0m             \u001b[0moutputs\u001b[0m \u001b[0;34m=\u001b[0m \u001b[0mself\u001b[0m\u001b[0;34m.\u001b[0m\u001b[0mcall\u001b[0m\u001b[0;34m(\u001b[0m\u001b[0mcast_inputs\u001b[0m\u001b[0;34m,\u001b[0m \u001b[0;34m*\u001b[0m\u001b[0margs\u001b[0m\u001b[0;34m,\u001b[0m \u001b[0;34m**\u001b[0m\u001b[0mkwargs\u001b[0m\u001b[0;34m)\u001b[0m\u001b[0;34m\u001b[0m\u001b[0;34m\u001b[0m\u001b[0m\n\u001b[1;32m    899\u001b[0m           \u001b[0mself\u001b[0m\u001b[0;34m.\u001b[0m\u001b[0m_handle_activity_regularization\u001b[0m\u001b[0;34m(\u001b[0m\u001b[0minputs\u001b[0m\u001b[0;34m,\u001b[0m \u001b[0moutputs\u001b[0m\u001b[0;34m)\u001b[0m\u001b[0;34m\u001b[0m\u001b[0;34m\u001b[0m\u001b[0m\n\u001b[0;32m--> 900\u001b[0;31m           \u001b[0mself\u001b[0m\u001b[0;34m.\u001b[0m\u001b[0m_set_mask_metadata\u001b[0m\u001b[0;34m(\u001b[0m\u001b[0minputs\u001b[0m\u001b[0;34m,\u001b[0m \u001b[0moutputs\u001b[0m\u001b[0;34m,\u001b[0m \u001b[0minput_masks\u001b[0m\u001b[0;34m)\u001b[0m\u001b[0;34m\u001b[0m\u001b[0;34m\u001b[0m\u001b[0m\n\u001b[0m\u001b[1;32m    901\u001b[0m \u001b[0;34m\u001b[0m\u001b[0m\n\u001b[1;32m    902\u001b[0m     \u001b[0;32mreturn\u001b[0m \u001b[0moutputs\u001b[0m\u001b[0;34m\u001b[0m\u001b[0;34m\u001b[0m\u001b[0m\n",
      "\u001b[0;32m~/miniconda3/envs/ultra_p36/lib/python3.6/site-packages/tensorflow_core/python/keras/engine/base_layer.py\u001b[0m in \u001b[0;36m_set_mask_metadata\u001b[0;34m(self, inputs, outputs, previous_mask)\u001b[0m\n\u001b[1;32m   1946\u001b[0m \u001b[0;34m\u001b[0m\u001b[0m\n\u001b[1;32m   1947\u001b[0m   \u001b[0;32mdef\u001b[0m \u001b[0m_set_mask_metadata\u001b[0m\u001b[0;34m(\u001b[0m\u001b[0mself\u001b[0m\u001b[0;34m,\u001b[0m \u001b[0minputs\u001b[0m\u001b[0;34m,\u001b[0m \u001b[0moutputs\u001b[0m\u001b[0;34m,\u001b[0m \u001b[0mprevious_mask\u001b[0m\u001b[0;34m)\u001b[0m\u001b[0;34m:\u001b[0m\u001b[0;34m\u001b[0m\u001b[0;34m\u001b[0m\u001b[0m\n\u001b[0;32m-> 1948\u001b[0;31m     \u001b[0mflat_outputs\u001b[0m \u001b[0;34m=\u001b[0m \u001b[0mnest\u001b[0m\u001b[0;34m.\u001b[0m\u001b[0mflatten\u001b[0m\u001b[0;34m(\u001b[0m\u001b[0moutputs\u001b[0m\u001b[0;34m)\u001b[0m\u001b[0;34m\u001b[0m\u001b[0;34m\u001b[0m\u001b[0m\n\u001b[0m\u001b[1;32m   1949\u001b[0m \u001b[0;34m\u001b[0m\u001b[0m\n\u001b[1;32m   1950\u001b[0m     mask_already_computed = (\n",
      "\u001b[0;32m~/miniconda3/envs/ultra_p36/lib/python3.6/site-packages/tensorflow_core/python/util/nest.py\u001b[0m in \u001b[0;36mflatten\u001b[0;34m(structure, expand_composites)\u001b[0m\n\u001b[1;32m    261\u001b[0m     \u001b[0mTypeError\u001b[0m\u001b[0;34m:\u001b[0m \u001b[0mThe\u001b[0m \u001b[0mnest\u001b[0m \u001b[0;32mis\u001b[0m \u001b[0;32mor\u001b[0m \u001b[0mcontains\u001b[0m \u001b[0ma\u001b[0m \u001b[0mdict\u001b[0m \u001b[0;32mwith\u001b[0m \u001b[0mnon\u001b[0m\u001b[0;34m-\u001b[0m\u001b[0msortable\u001b[0m \u001b[0mkeys\u001b[0m\u001b[0;34m.\u001b[0m\u001b[0;34m\u001b[0m\u001b[0;34m\u001b[0m\u001b[0m\n\u001b[1;32m    262\u001b[0m   \"\"\"\n\u001b[0;32m--> 263\u001b[0;31m   \u001b[0;32mreturn\u001b[0m \u001b[0m_pywrap_tensorflow\u001b[0m\u001b[0;34m.\u001b[0m\u001b[0mFlatten\u001b[0m\u001b[0;34m(\u001b[0m\u001b[0mstructure\u001b[0m\u001b[0;34m,\u001b[0m \u001b[0mexpand_composites\u001b[0m\u001b[0;34m)\u001b[0m\u001b[0;34m\u001b[0m\u001b[0;34m\u001b[0m\u001b[0m\n\u001b[0m\u001b[1;32m    264\u001b[0m \u001b[0;34m\u001b[0m\u001b[0m\n\u001b[1;32m    265\u001b[0m \u001b[0;34m\u001b[0m\u001b[0m\n",
      "\u001b[0;32m~/miniconda3/envs/ultra_p36/lib/python3.6/site-packages/tensorflow_core/python/pywrap_tensorflow_internal.py\u001b[0m in \u001b[0;36mFlatten\u001b[0;34m(nested, expand_composites)\u001b[0m\n\u001b[1;32m   2649\u001b[0m \u001b[0;34m\u001b[0m\u001b[0m\n\u001b[1;32m   2650\u001b[0m     \"\"\"\n\u001b[0;32m-> 2651\u001b[0;31m     \u001b[0;32mreturn\u001b[0m \u001b[0m_pywrap_tensorflow_internal\u001b[0m\u001b[0;34m.\u001b[0m\u001b[0mFlatten\u001b[0m\u001b[0;34m(\u001b[0m\u001b[0mnested\u001b[0m\u001b[0;34m,\u001b[0m \u001b[0mexpand_composites\u001b[0m\u001b[0;34m)\u001b[0m\u001b[0;34m\u001b[0m\u001b[0;34m\u001b[0m\u001b[0m\n\u001b[0m\u001b[1;32m   2652\u001b[0m \u001b[0;34m\u001b[0m\u001b[0m\n\u001b[1;32m   2653\u001b[0m \u001b[0;32mdef\u001b[0m \u001b[0mIsSequenceForData\u001b[0m\u001b[0;34m(\u001b[0m\u001b[0mo\u001b[0m\u001b[0;34m)\u001b[0m\u001b[0;34m:\u001b[0m\u001b[0;34m\u001b[0m\u001b[0;34m\u001b[0m\u001b[0m\n",
      "\u001b[0;31mKeyboardInterrupt\u001b[0m: "
     ]
    }
   ],
   "source": [
    "for i in progressbar(range(100)):\n",
    "    for q in progressbar(range(data.train.num_queries())):\n",
    "        feat=data.train.query_values_from_vector(q,data.train.feature_matrix)\n",
    "        model_dropout(feat)"
   ]
  },
  {
   "cell_type": "code",
   "execution_count": 11,
   "metadata": {},
   "outputs": [],
   "source": [
    "from utils.misc import *"
   ]
  },
  {
   "cell_type": "code",
   "execution_count": 15,
   "metadata": {},
   "outputs": [],
   "source": [
    "n1,n2=efficient_spacing(50,10,0,6,True)"
   ]
  },
  {
   "cell_type": "code",
   "execution_count": 24,
   "metadata": {},
   "outputs": [],
   "source": [
    "n_d=50//10"
   ]
  },
  {
   "cell_type": "code",
   "execution_count": 28,
   "metadata": {},
   "outputs": [
    {
     "name": "stdout",
     "output_type": "stream",
     "text": [
      "(50,)\n"
     ]
    }
   ],
   "source": [
    "print(n1.shape)"
   ]
  },
  {
   "cell_type": "code",
   "execution_count": 7,
   "metadata": {},
   "outputs": [
    {
     "name": "stdout",
     "output_type": "stream",
     "text": [
      "[5059. 4995. 4982. 5009. 5050. 5049. 5062. 5005. 4968. 4831.]\n"
     ]
    }
   ],
   "source": [
    "import numpy as np\n",
    "test_doc_freq=np.ones(10)\n",
    "cur_train_rankings=np.random.randint(0,10,(5,10000))\n",
    "np.add.at(test_doc_freq,cur_train_rankings,1) \n",
    "print(test_doc_freq)"
   ]
  },
  {
   "cell_type": "code",
   "execution_count": 33,
   "metadata": {},
   "outputs": [
    {
     "data": {
      "text/plain": [
       "(10,)"
      ]
     },
     "execution_count": 33,
     "metadata": {},
     "output_type": "execute_result"
    }
   ],
   "source": [
    "n1[n_d//2::n_d].shape"
   ]
  },
  {
   "cell_type": "code",
   "execution_count": 9,
   "metadata": {},
   "outputs": [],
   "source": [
    "info_path=\"example_datasets_info.txt\"\n",
    "with open(info_path) as f:\n",
    "    all_info = json.load(f)"
   ]
  },
  {
   "cell_type": "code",
   "execution_count": 1,
   "metadata": {},
   "outputs": [],
   "source": [
    "##### Below is \n",
    "#  get the correlation .\n",
    "### some function\n",
    "\n",
    "###\n",
    "import sys\n",
    "sys.path.append(\"../\")\n",
    "import argparse\n",
    "import json\n",
    "import numpy as np\n",
    "import tensorflow as tf\n",
    "import time\n",
    "\n",
    "import utils.click_generation as clkgn\n",
    "import utils.clicks as clk\n",
    "import utils.dataset as dataset\n",
    "import utils.estimators as est\n",
    "import utils.evaluation as evl\n",
    "import utils.nnmodel as nn\n",
    "\n",
    "import utils.optimization as opt\n",
    "import utils.misc as misc\n",
    "from progressbar import progressbar\n",
    "from utils.nnmodel import init_model_dropout\n",
    "%load_ext autoreload\n",
    "%autoreload 2\n",
    "%config Completer.use_jedi = False\n",
    "tf.enable_eager_execution()\n",
    "\n",
    "setting={\"output_path\":\"log.txt\",\"fold_id\":1,\"click_model\":\"default\",\"dataset\":\"Webscope_C14_Set1\",\"cutoff\":5,\\\n",
    "    \"dataset_info_path\":\"local_dataset_info.txt\",\"cutoff\":5,\"n_updates\":5,\"pretrained_model\":\"local_output/pretrained_model.h5\"}\n",
    "from argparse import Namespace\n",
    "args = Namespace(**setting)\n",
    "click_model_name = args.click_model\n",
    "cutoff = args.cutoff\n",
    "n_updates = args.n_updates\n",
    "data = dataset.get_dataset_from_json_info(\n",
    "                  args.dataset,\n",
    "                  args.dataset_info_path,\n",
    "                  shared_resource = False,\n",
    "                )\n",
    "fold_id = (args.fold_id-1)%data.num_folds()\n",
    "data = data.get_data_folds()[fold_id]\n",
    "start = time.time()\n",
    "data.read_data()\n",
    "\n",
    "\n",
    "model_params={}\n",
    "model_params['hidden units']=[32,32]\n",
    "model_dropout=init_model_dropout(model_params)\n",
    "model_dropout.build(input_shape=data.train.feature_matrix.shape)\n",
    "dropout_model_weight=\"/home/ec2-user/documents/uncertainty/2021wsdm-unifying-LTR/local_output/settings/supervised/Supervised_dropout_model.h5\"\n",
    "model_dropout.load_weights(dropout_model_weight)\n",
    "from scipy.stats import pearsonr\n",
    "from scipy.stats import spearmanr\n",
    "\n",
    "max_ranking_size = np.min((cutoff, data.max_query_size()))\n",
    "click_model = clk.get_click_model(args.click_model)\n",
    "alpha, beta = click_model(np.arange(max_ranking_size))\n",
    "\n",
    "true_train_doc_weights = data.train.label_vector*0.25\n",
    "true_vali_doc_weights = data.validation.label_vector*0.25\n",
    "true_test_doc_weights = data.test.label_vector*0.25\n",
    "# corr_dict_train=correlation(data.train,model_dropout,pearsonr,n_sample=10)\n",
    "# from pandas import DataFrame\n",
    "# df=DataFrame.from_dict(corr_dict_train)\n",
    "# df.mean()\n",
    "\n",
    "# corr_dict_train=correlation(data.train,model_dropout,spearmanr,n_sample=10)\n",
    "# from pandas import DataFrame\n",
    "# df=DataFrame.from_dict(corr_dict_train)\n",
    "# df.mean()\n"
   ]
  },
  {
   "cell_type": "code",
   "execution_count": 54,
   "metadata": {},
   "outputs": [
    {
     "data": {
      "text/plain": [
       "(473092, 501)"
      ]
     },
     "execution_count": 54,
     "metadata": {},
     "output_type": "execute_result"
    }
   ],
   "source": [
    "data.train.feature_matrix.shape"
   ]
  },
  {
   "cell_type": "code",
   "execution_count": 59,
   "metadata": {},
   "outputs": [
    {
     "name": "stdout",
     "output_type": "stream",
     "text": [
      "[1 -- 3]\n",
      "2.0\n"
     ]
    }
   ],
   "source": [
    "y = np.ma.array([1, 2, 3], mask = [0, 1, 0])\n",
    "print(y)\n",
    "print(y.mean())"
   ]
  },
  {
   "cell_type": "code",
   "execution_count": 70,
   "metadata": {},
   "outputs": [
    {
     "data": {
      "text/plain": [
       "array([0, 2, 1])"
      ]
     },
     "execution_count": 70,
     "metadata": {},
     "output_type": "execute_result"
    }
   ],
   "source": [
    "y.argsort()"
   ]
  },
  {
   "cell_type": "code",
   "execution_count": 55,
   "metadata": {},
   "outputs": [],
   "source": [
    "data_split=data.train"
   ]
  },
  {
   "cell_type": "code",
   "execution_count": 66,
   "metadata": {},
   "outputs": [],
   "source": [
    "n_docs=data_split.num_docs()\n",
    "mask=np.zeros(n_docs).astype(np.int)"
   ]
  },
  {
   "cell_type": "code",
   "execution_count": 62,
   "metadata": {},
   "outputs": [
    {
     "name": "stdout",
     "output_type": "stream",
     "text": [
      "20\n"
     ]
    }
   ],
   "source": [
    "random=np.random.randint(1,23)\n",
    "print(random)"
   ]
  },
  {
   "cell_type": "code",
   "execution_count": 74,
   "metadata": {},
   "outputs": [],
   "source": [
    "set_mask(data_split,mask,low=5,high=10)"
   ]
  },
  {
   "cell_type": "code",
   "execution_count": null,
   "metadata": {},
   "outputs": [],
   "source": []
  },
  {
   "cell_type": "code",
   "execution_count": 99,
   "metadata": {},
   "outputs": [],
   "source": [
    "def get_mask(data_split,low=5,high=10):\n",
    "    n_docs=data_split.num_docs()\n",
    "    mask=np.zeros(n_docs).astype(np.int)\n",
    "    num_queries=data_split.num_queries()\n",
    "    for query in range(num_queries):\n",
    "        mask_query=data_split.query_values_from_vector(query,mask)\n",
    "        n_mask_query=len(mask_query)\n",
    "        if n_mask_query<=low:\n",
    "            mask_query[:]=1\n",
    "        else:\n",
    "            high_mask=min(n_mask_query,high)\n",
    "            random=np.random.randint(low,high_mask)\n",
    "            true_mask_ind=np.random.choice(n_mask_query, random, replace=False)\n",
    "            mask_query[true_mask_ind]=1\n",
    "    return mask\n",
    "\n",
    "def update_mask(mask_query,unshown_list,prob=0.2):\n",
    "    if np.random.random()<prob and unshown_list:\n",
    "        incoming_id=unshown_list.pop()\n",
    "        mask_query[incoming_id]=1\n",
    "        print(incoming_id)\n",
    "    \n",
    "\n",
    "    "
   ]
  },
  {
   "cell_type": "code",
   "execution_count": 103,
   "metadata": {},
   "outputs": [],
   "source": [
    "train_mask=set_mask(data_split,low=5,high=10)"
   ]
  },
  {
   "cell_type": "code",
   "execution_count": 104,
   "metadata": {},
   "outputs": [
    {
     "name": "stdout",
     "output_type": "stream",
     "text": [
      "9\n"
     ]
    }
   ],
   "source": [
    "query=4\n",
    "mask_query=data_split.query_values_from_vector(query,train_mask)\n",
    "n_mask_query=len(mask_query)\n",
    "unshown=np.arange(n_mask_query)[mask_query==0]\n",
    "np.random.shuffle(unshown)\n",
    "unshown=unshown.tolist()\n",
    "update_mask(mask_query,unshown,0.8)"
   ]
  },
  {
   "cell_type": "code",
   "execution_count": 126,
   "metadata": {},
   "outputs": [],
   "source": [
    "policy_scores=np.random.uniform(-1,1,size=(len(mask_query),10))"
   ]
  },
  {
   "cell_type": "code",
   "execution_count": 116,
   "metadata": {},
   "outputs": [
    {
     "data": {
      "text/plain": [
       "array([ 0.        , -0.        ,  0.55578094, -0.        ,  0.38156998,\n",
       "        0.        , -0.        ,  0.22298477,  0.        ,  0.04775692,\n",
       "        0.65053474,  0.        , -0.        , -0.09587865,  0.86258459,\n",
       "        0.71939584,  0.        , -0.        , -0.9756671 ])"
      ]
     },
     "execution_count": 116,
     "metadata": {},
     "output_type": "execute_result"
    }
   ],
   "source": [
    "d*mask_query"
   ]
  },
  {
   "cell_type": "code",
   "execution_count": 117,
   "metadata": {},
   "outputs": [
    {
     "name": "stderr",
     "output_type": "stream",
     "text": [
      "/home/ec2-user/miniconda3/envs/pt_ranking/lib/python3.6/site-packages/ipykernel_launcher.py:1: RuntimeWarning: invalid value encountered in multiply\n",
      "  \"\"\"Entry point for launching an IPython kernel.\n"
     ]
    },
    {
     "data": {
      "text/plain": [
       "array([inf, inf, nan, inf, nan, inf, inf, nan, inf, nan, nan, inf, inf,\n",
       "       nan, nan, nan, inf, inf, nan])"
      ]
     },
     "execution_count": 117,
     "metadata": {},
     "output_type": "execute_result"
    }
   ],
   "source": [
    "np.inf*(1-mask_query)"
   ]
  },
  {
   "cell_type": "code",
   "execution_count": 129,
   "metadata": {},
   "outputs": [],
   "source": [
    "policy_scores_masked=policy_scores*mask_query[:,None]\n",
    "policy_scores_masked[mask_query==0]=-np.inf"
   ]
  },
  {
   "cell_type": "code",
   "execution_count": 3,
   "metadata": {},
   "outputs": [
    {
     "name": "stdout",
     "output_type": "stream",
     "text": [
      "[[1. 1. 1. 1. 1.]\n",
      " [1. 1. 1. 1. 1.]]\n"
     ]
    }
   ],
   "source": [
    "import numpy as np\n",
    "d=np.ones(5)\n",
    "dd=[d,d]\n",
    "ddd=np.array(dd)\n",
    "print(ddd)"
   ]
  },
  {
   "cell_type": "code",
   "execution_count": 130,
   "metadata": {},
   "outputs": [
    {
     "data": {
      "text/plain": [
       "array([[       -inf,        -inf],\n",
       "       [       -inf,        -inf],\n",
       "       [ 0.19021566,  0.23075096],\n",
       "       [       -inf,        -inf],\n",
       "       [ 0.98990189, -0.24509483],\n",
       "       [       -inf,        -inf],\n",
       "       [       -inf,        -inf],\n",
       "       [-0.26820537,  0.04747729],\n",
       "       [       -inf,        -inf],\n",
       "       [-0.14898797,  0.05384151],\n",
       "       [-0.51180175, -0.18851466],\n",
       "       [       -inf,        -inf],\n",
       "       [       -inf,        -inf],\n",
       "       [ 0.57300216,  0.07417666],\n",
       "       [-0.49040834, -0.73848896],\n",
       "       [ 0.43076235,  0.50315465],\n",
       "       [       -inf,        -inf],\n",
       "       [       -inf,        -inf],\n",
       "       [ 0.43787504,  0.44929544]])"
      ]
     },
     "execution_count": 130,
     "metadata": {},
     "output_type": "execute_result"
    }
   ],
   "source": [
    "policy_scores_masked[:,:2]"
   ]
  },
  {
   "cell_type": "code",
   "execution_count": 124,
   "metadata": {},
   "outputs": [
    {
     "data": {
      "text/plain": [
       "array([       -inf,        -inf, -0.17609374,        -inf,  0.4749152 ,\n",
       "              -inf,        -inf,  0.70322258,        -inf, -0.35614605,\n",
       "       -0.16714521,        -inf,        -inf, -0.82924663, -0.1017613 ,\n",
       "       -0.38390394,        -inf,        -inf,  0.15728631])"
      ]
     },
     "execution_count": 124,
     "metadata": {},
     "output_type": "execute_result"
    }
   ],
   "source": [
    "policy_scores_masked"
   ]
  },
  {
   "cell_type": "code",
   "execution_count": 112,
   "metadata": {},
   "outputs": [
    {
     "data": {
      "text/plain": [
       "array([ 0.59895163, -0.98547492,  0.55578094, -0.81645738,  0.38156998,\n",
       "        0.04105083, -0.34951772,  0.22298477,  0.32913293,  0.04775692,\n",
       "        0.65053474,  0.92735523, -0.44991194, -0.09587865,  0.86258459,\n",
       "        0.71939584,  0.20912736, -0.21319322, -0.9756671 ])"
      ]
     },
     "execution_count": 112,
     "metadata": {},
     "output_type": "execute_result"
    }
   ],
   "source": [
    "d"
   ]
  },
  {
   "cell_type": "code",
   "execution_count": 111,
   "metadata": {},
   "outputs": [
    {
     "data": {
      "text/plain": [
       "(19,)"
      ]
     },
     "execution_count": 111,
     "metadata": {},
     "output_type": "execute_result"
    }
   ],
   "source": [
    "mask_query.shape"
   ]
  },
  {
   "cell_type": "code",
   "execution_count": 95,
   "metadata": {},
   "outputs": [
    {
     "data": {
      "text/plain": [
       "array([1, 1, 0, 1, 1, 1, 1, 1, 0, 1, 1, 0, 1, 1, 0, 1, 1, 1, 1])"
      ]
     },
     "execution_count": 95,
     "metadata": {},
     "output_type": "execute_result"
    }
   ],
   "source": [
    "mask_query"
   ]
  },
  {
   "cell_type": "code",
   "execution_count": 90,
   "metadata": {},
   "outputs": [
    {
     "data": {
      "text/plain": [
       "array([1, 0, 0, 1, 1, 1, 1, 1, 0, 1, 1, 0, 1, 1, 0, 1, 1, 1, 1])"
      ]
     },
     "execution_count": 90,
     "metadata": {},
     "output_type": "execute_result"
    }
   ],
   "source": [
    "mask_query"
   ]
  },
  {
   "cell_type": "code",
   "execution_count": 76,
   "metadata": {},
   "outputs": [
    {
     "data": {
      "text/plain": [
       "array([ 1,  2,  8, 11, 13, 14, 16])"
      ]
     },
     "execution_count": 76,
     "metadata": {},
     "output_type": "execute_result"
    }
   ],
   "source": [
    "unshown"
   ]
  },
  {
   "cell_type": "code",
   "execution_count": 71,
   "metadata": {},
   "outputs": [
    {
     "data": {
      "text/plain": [
       "0.8935315175550436"
      ]
     },
     "execution_count": 71,
     "metadata": {},
     "output_type": "execute_result"
    }
   ],
   "source": [
    "np.random.random()"
   ]
  },
  {
   "cell_type": "code",
   "execution_count": 97,
   "metadata": {},
   "outputs": [],
   "source": [
    "d=[] \n",
    "if d:\n",
    "    print(\"fdas\")"
   ]
  },
  {
   "cell_type": "code",
   "execution_count": null,
   "metadata": {},
   "outputs": [],
   "source": []
  },
  {
   "cell_type": "code",
   "execution_count": 98,
   "metadata": {},
   "outputs": [
    {
     "name": "stdout",
     "output_type": "stream",
     "text": [
      "[[1 1 1 0 0]\n",
      " [1 0 0 0 1]\n",
      " [1 1 0 1 0]\n",
      " [0 0 0 0 1]\n",
      " [0 0 1 0 1]\n",
      " [1 0 0 0 0]\n",
      " [0 1 0 0 1]\n",
      " [1 1 1 1 0]\n",
      " [0 1 0 1 1]\n",
      " [0 0 1 0 1]]\n"
     ]
    },
    {
     "data": {
      "text/plain": [
       "array([2.13092975, 1.38685281, 2.06160631, 0.38685281, 0.88685281,\n",
       "       1.        , 1.01778256, 2.56160631, 1.44845912, 0.88685281])"
      ]
     },
     "execution_count": 98,
     "metadata": {},
     "output_type": "execute_result"
    }
   ],
   "source": [
    "import utils.plackettluce as pl\n",
    "clicks=np.random.randint(0,2,size=(10,5))\n",
    "print(clicks)\n",
    "pl.cDCG(clicks)"
   ]
  },
  {
   "cell_type": "code",
   "execution_count": 18,
   "metadata": {},
   "outputs": [
    {
     "name": "stdout",
     "output_type": "stream",
     "text": [
      "mean length for queries 23.722208293636864\n"
     ]
    },
    {
     "data": {
      "image/png": "[encoded data removed]",
      "text/plain": [
       "<Figure size 432x288 with 1 Axes>"
      ]
     },
     "metadata": {
      "needs_background": "light"
     },
     "output_type": "display_data"
    },
    {
     "data": {
      "text/plain": [
       "Text(0, 0.5, 'number of queries')"
      ]
     },
     "execution_count": 18,
     "metadata": {},
     "output_type": "execute_result"
    },
    {
     "data": {
      "image/png": "[encoded data removed]",
      "text/plain": [
       "<Figure size 432x288 with 1 Axes>"
      ]
     },
     "metadata": {
      "needs_background": "light"
     },
     "output_type": "display_data"
    }
   ],
   "source": [
    "print(\"mean length for queries\",data.train.query_sizes().mean())\n",
    "import matplotlib.pyplot as plt\n",
    "plt.hist(data.train.query_sizes())\n",
    "plt.xlabel(\"query length\")\n",
    "plt.ylabel(\"number of queries\")\n",
    "plt.show()\n",
    "plt.hist(data.train.query_sizes(),bins=100,density=True, histtype='step', cumulative=-1,)\n",
    "plt.xlabel(\"query length\")\n",
    "plt.ylabel(\"number of queries\")"
   ]
  },
  {
   "cell_type": "code",
   "execution_count": 3,
   "metadata": {},
   "outputs": [],
   "source": [
    "n_samples=10**8\n",
    "data_split=data.train\n",
    "doc_weights=true_train_doc_weights\n",
    "train_policy_scores= model_dropout(data.train.feature_matrix)[:, 0].numpy()\n",
    "train_ranking_param={\"policy_scores\":train_policy_scores,\n",
    "                  \"intervene_strategy\":\"gumbel\",\n",
    "                  \"select_fn\":data.train.query_values_from_vector}\n",
    "vali_policy_scores= model_dropout(data.validation.feature_matrix)[:, 0].numpy()\n",
    "vali_ranking_param={\"policy_scores\":vali_policy_scores,\n",
    "                  \"intervene_strategy\":\"gumbel\",\n",
    "                  \"select_fn\":data.validation.query_values_from_vector}\n",
    "# a,b,c=clkgn.simulate_queries_intervene(data_split,10**7,doc_weights,alpha, beta,train_ranking_param)\n",
    "# print(a.shape,b.shape,len(c))"
   ]
  },
  {
   "cell_type": "code",
   "execution_count": 6,
   "metadata": {},
   "outputs": [],
   "source": [
    "qid=4\n",
    "(new_clicks,new_ranking) = clkgn.single_query_generation_intervene(\n",
    "                        qid,\n",
    "                        data.train,\n",
    "                        100,\n",
    "                        doc_weights,\n",
    "                        alpha,\n",
    "                        beta,\n",
    "                        # model=model,\n",
    "                        ranking_param=train_ranking_param)"
   ]
  },
  {
   "cell_type": "code",
   "execution_count": 34,
   "metadata": {},
   "outputs": [
    {
     "name": "stdout",
     "output_type": "stream",
     "text": [
      "(5, 1)\n",
      "[0.85377524 0.95277081 0.84923804 0.93203804 0.91848252 0.85310456\n",
      " 0.82850527 0.88560783 0.92565977 0.8091861  0.81489369 0.82844921\n",
      " 0.88560783 0.84016365 0.61009679 0.91848252 0.86671614 0.8266642\n",
      " 0.86671614 0.8266642  0.83562646 0.84923804 0.78386007 0.74159556\n",
      " 0.8802156  0.5496835  0.83562646 0.84923804 0.92565977 0.81801729\n",
      " 0.90487094 0.82127196 0.89382718 0.95277081 0.82844921 0.65014873\n",
      " 0.87843058 0.85310456 0.80200885 0.84206079 0.91848252 0.86671614\n",
      " 0.76625091 0.70810625 0.93203804 0.60144988 0.8802156  0.62143974\n",
      " 0.82850527 0.60782815 0.84206079 0.86671614 0.78845333 0.89051644\n",
      " 0.90487094 0.80200885 0.74159556 0.81489369 0.87843058 0.82850527\n",
      " 0.81863191 0.91848252 0.82844921 0.84206079 0.91848252 0.91848252\n",
      " 0.93203804 0.90818167 0.84206079 0.76232833 0.76625091 0.86671614\n",
      " 0.84206079 0.91848252 0.78845333 0.77030455 0.91848252 0.82850527\n",
      " 0.86671614 0.91848252 0.81489369 0.76625091 0.8802156  0.82850527\n",
      " 0.65014873 0.78845333 0.92565977 0.91848252 0.85310456 0.88413817\n",
      " 0.89726621 0.78386007 0.84923804 0.84206079 0.82850527 0.82850527\n",
      " 0.73521729 0.87843058 0.92565977 0.76950558]\n"
     ]
    }
   ],
   "source": [
    "import utils.plackettluce as pl\n",
    "weight_per_rank=np.log2(np.arange(2,7))[:,None]\n",
    "print(weight_per_rank.shape)\n",
    "addition_per_rank=np.zeros_like(weight_per_rank)\n",
    "q_doc_weights=data.train.query_values_from_vector(qid,true_train_doc_weights)\n",
    "results = pl.NDCG_based_on_samples(new_ranking, \n",
    "                                q_doc_weights\n",
    "                                )\n",
    "print(results)"
   ]
  },
  {
   "cell_type": "code",
   "execution_count": 39,
   "metadata": {},
   "outputs": [],
   "source": [
    "import utils.plackettluce as pl\n",
    "q_doc_weights=data.train.query_values_from_vector(qid,true_train_doc_weights)\n",
    "results = pl.NDCG_based_on_samples(new_ranking, \n",
    "                                    q_doc_weights,\n",
    "                                    )"
   ]
  },
  {
   "cell_type": "code",
   "execution_count": 40,
   "metadata": {},
   "outputs": [
    {
     "data": {
      "text/plain": [
       "array([0.85377524, 0.95277081, 0.84923804, 0.93203804, 0.91848252,\n",
       "       0.85310456, 0.82850527, 0.88560783, 0.92565977, 0.8091861 ,\n",
       "       0.81489369, 0.82844921, 0.88560783, 0.84016365, 0.61009679,\n",
       "       0.91848252, 0.86671614, 0.8266642 , 0.86671614, 0.8266642 ,\n",
       "       0.83562646, 0.84923804, 0.78386007, 0.74159556, 0.8802156 ,\n",
       "       0.5496835 , 0.83562646, 0.84923804, 0.92565977, 0.81801729,\n",
       "       0.90487094, 0.82127196, 0.89382718, 0.95277081, 0.82844921,\n",
       "       0.65014873, 0.87843058, 0.85310456, 0.80200885, 0.84206079,\n",
       "       0.91848252, 0.86671614, 0.76625091, 0.70810625, 0.93203804,\n",
       "       0.60144988, 0.8802156 , 0.62143974, 0.82850527, 0.60782815,\n",
       "       0.84206079, 0.86671614, 0.78845333, 0.89051644, 0.90487094,\n",
       "       0.80200885, 0.74159556, 0.81489369, 0.87843058, 0.82850527,\n",
       "       0.81863191, 0.91848252, 0.82844921, 0.84206079, 0.91848252,\n",
       "       0.91848252, 0.93203804, 0.90818167, 0.84206079, 0.76232833,\n",
       "       0.76625091, 0.86671614, 0.84206079, 0.91848252, 0.78845333,\n",
       "       0.77030455, 0.91848252, 0.82850527, 0.86671614, 0.91848252,\n",
       "       0.81489369, 0.76625091, 0.8802156 , 0.82850527, 0.65014873,\n",
       "       0.78845333, 0.92565977, 0.91848252, 0.85310456, 0.88413817,\n",
       "       0.89726621, 0.78386007, 0.84923804, 0.84206079, 0.82850527,\n",
       "       0.82850527, 0.73521729, 0.87843058, 0.92565977, 0.76950558])"
      ]
     },
     "execution_count": 40,
     "metadata": {},
     "output_type": "execute_result"
    }
   ],
   "source": [
    "results"
   ]
  },
  {
   "cell_type": "code",
   "execution_count": 33,
   "metadata": {},
   "outputs": [
    {
     "name": "stderr",
     "output_type": "stream",
     "text": [
      "100% (18400 of 18400) |##################| Elapsed Time: 0:00:25 Time:  0:00:25\n",
      "100% (2753 of 2753) |####################| Elapsed Time: 0:00:23 Time:  0:00:23\n"
     ]
    }
   ],
   "source": [
    "  (cur_train_rankings,cur_train_clicks,\\\n",
    "  cur_train_qids,cur_vali_rankings,\\\n",
    "  cur_vali_clicks,cur_vali_qids)=clkgn.simulate_on_dataset_intervene(\n",
    "                                                data.train,\n",
    "                                                data.validation,\n",
    "                                                10**7,\n",
    "                                                true_train_doc_weights,\n",
    "                                                true_vali_doc_weights,\n",
    "                                                alpha,\n",
    "                                                beta,\n",
    "                                              train_ranking_param=train_ranking_param,\n",
    "                                              vali_ranking_param=vali_ranking_param)"
   ]
  },
  {
   "cell_type": "code",
   "execution_count": 22,
   "metadata": {},
   "outputs": [
    {
     "name": "stdout",
     "output_type": "stream",
     "text": [
      "(18400,)\n"
     ]
    }
   ],
   "source": [
    "selected_query=np.where(data.train.query_sizes()>cutoff)[0]\n",
    "print(selected_query.shape)"
   ]
  },
  {
   "cell_type": "code",
   "execution_count": 23,
   "metadata": {},
   "outputs": [
    {
     "data": {
      "text/plain": [
       "array([    1,     3,     4, ..., 19940, 19941, 19942])"
      ]
     },
     "execution_count": 23,
     "metadata": {},
     "output_type": "execute_result"
    }
   ],
   "source": [
    "selected_query "
   ]
  },
  {
   "cell_type": "code",
   "execution_count": 4,
   "metadata": {},
   "outputs": [
    {
     "name": "stderr",
     "output_type": "stream",
     "text": [
      "100% (19943 of 19943) |##################| Elapsed Time: 0:00:12 Time:  0:00:12\n"
     ]
    }
   ],
   "source": [
    "n_samples=100\n",
    "data_split=data.train\n",
    "train_policy_scores= model_dropout(data.train.feature_matrix)[:, 0].numpy()\n",
    "train_ranking_param={\"policy_scores\":train_policy_scores,\n",
    "                  \"intervene_strategy\":\"gumbel\",\n",
    "                  \"select_fn\":data.train.query_values_from_vector}\n",
    "expected_alpha, expected_beta=est.expected_alpha_beta_intervene(data_split,\n",
    "                     n_samples,\n",
    "                     alpha,\n",
    "                     beta,\n",
    "                     **train_ranking_param)\n"
   ]
  },
  {
   "cell_type": "code",
   "execution_count": 8,
   "metadata": {
    "tags": []
   },
   "outputs": [
    {
     "name": "stderr",
     "output_type": "stream",
     "text": [
      "100% (20 of 20) |########################| Elapsed Time: 0:00:57 Time:  0:00:57\n",
      "100% (19943 of 19943) |##################| Elapsed Time: 0:00:44 Time:  0:00:44\n",
      "N/A% (0 of 20) |                         | Elapsed Time: 0:00:00 ETA:  --:--:--{'mean_std_corr': -0.02495668116476544, 'label_std_corr': 0.0020971939995610847, 'label_mean_corr': 0.20345858071426662}\n",
      "100% (20 of 20) |########################| Elapsed Time: 0:00:57 Time:  0:00:57\n",
      "100% (19943 of 19943) |##################| Elapsed Time: 0:00:42 Time:  0:00:42\n",
      "N/A% (0 of 20) |                         | Elapsed Time: 0:00:00 ETA:  --:--:--{'mean_std_corr': 0.04630446380060519, 'label_std_corr': 0.03432828006967585, 'label_mean_corr': 0.23420115577665038}\n",
      "100% (20 of 20) |########################| Elapsed Time: 0:00:57 Time:  0:00:57\n",
      "100% (19943 of 19943) |##################| Elapsed Time: 0:00:42 Time:  0:00:42\n",
      "N/A% (0 of 20) |                         | Elapsed Time: 0:00:00 ETA:  --:--:--{'mean_std_corr': 0.04132352131267113, 'label_std_corr': 0.050416164582373704, 'label_mean_corr': 0.2558854840434316}\n",
      "100% (20 of 20) |########################| Elapsed Time: 0:00:58 Time:  0:00:58\n",
      "100% (19943 of 19943) |##################| Elapsed Time: 0:00:42 Time:  0:00:42\n",
      "N/A% (0 of 20) |                         | Elapsed Time: 0:00:00 ETA:  --:--:--{'mean_std_corr': 0.06651274037021912, 'label_std_corr': 0.05519575116661636, 'label_mean_corr': 0.27670534029336796}\n",
      "100% (20 of 20) |########################| Elapsed Time: 0:00:57 Time:  0:00:57\n",
      "100% (19943 of 19943) |##################| Elapsed Time: 0:00:42 Time:  0:00:42\n",
      "N/A% (0 of 20) |                         | Elapsed Time: 0:00:00 ETA:  --:--:--{'mean_std_corr': -0.029857280172093326, 'label_std_corr': 0.03548616318660838, 'label_mean_corr': 0.29169715393133183}\n",
      "100% (20 of 20) |########################| Elapsed Time: 0:00:57 Time:  0:00:57\n",
      "100% (19943 of 19943) |##################| Elapsed Time: 0:00:42 Time:  0:00:42\n",
      "N/A% (0 of 20) |                         | Elapsed Time: 0:00:00 ETA:  --:--:--{'mean_std_corr': -0.10751825288034157, 'label_std_corr': 0.01708100466570937, 'label_mean_corr': 0.3044140066074771}\n",
      "100% (20 of 20) |########################| Elapsed Time: 0:00:57 Time:  0:00:57\n",
      "100% (19943 of 19943) |##################| Elapsed Time: 0:00:42 Time:  0:00:42\n",
      "{'mean_std_corr': -0.10277907319979863, 'label_std_corr': 0.02869464548856036, 'label_mean_corr': 0.30055306052799663}\n"
     ]
    }
   ],
   "source": [
    "### I will plot the mean|std, how it evolves with time.\n",
    "import re\n",
    "model_params={}\n",
    "model_params['hidden units']=[32,32]\n",
    "model_dropout=init_model_dropout(model_params)\n",
    "model_dropout.build(input_shape=data.train.feature_matrix.shape)\n",
    "dropout_model_weight=\"/home/ec2-user/documents/uncertainty/2021wsdm-unifying-LTR/local_output/settings/supervised/Supervised_dropout_model.h5\"\n",
    "model_dropout.load_weights(dropout_model_weight)\n",
    "\n",
    "base=\"/home/ec2-user/documents/uncertainty/2021wsdm-unifying-LTR/local_output/settings_sigmoid/dropout/n_updates_10/trial_1/\"\n",
    "import glob\n",
    "models=glob.glob(base+\"*.h5\")\n",
    "steps=[]\n",
    "results=[]\n",
    "for model_name in models:\n",
    "    step=int(re.findall(r'\\d+',model_name)[0])\n",
    "    steps.append(step)\n",
    "    model_dropout.load_weights(model_name)\n",
    "    corr_dict_train=correlation(data.train,model_dropout,spearmanr,n_sample=20)\n",
    "    results.append(corr_dict_train)\n"
   ]
  },
  {
   "cell_type": "markdown",
   "metadata": {},
   "source": []
  },
  {
   "cell_type": "code",
   "execution_count": 20,
   "metadata": {},
   "outputs": [
    {
     "name": "stdout",
     "output_type": "stream",
     "text": [
      "240\n",
      "577\n",
      "1389\n",
      "3340\n",
      "5179\n",
      "12451\n",
      "29935\n"
     ]
    }
   ],
   "source": [
    "\n",
    "for i in path:\n",
    "    model_name=i.split(\"/\")[-1]\n",
    "    ex=int(re.findall(r'\\d+',model_name)[0])\n",
    "    print(ex)\n",
    "    corr_dict_train=correlation(data.train,model_dropout,pearsonr,n_sample=50)"
   ]
  },
  {
   "cell_type": "code",
   "execution_count": null,
   "metadata": {},
   "outputs": [],
   "source": []
  },
  {
   "cell_type": "code",
   "execution_count": 23,
   "metadata": {},
   "outputs": [
    {
     "name": "stdout",
     "output_type": "stream",
     "text": [
      "The autoreload extension is already loaded. To reload it, use:\n",
      "  %reload_ext autoreload\n"
     ]
    }
   ],
   "source": [
    "%load_ext autoreload\n",
    "%autoreload 2"
   ]
  },
  {
   "cell_type": "code",
   "execution_count": 11,
   "metadata": {},
   "outputs": [],
   "source": [
    "\n",
    "import utils.dataset as dataset\n",
    "data_setting={\"dataset_info_path\":\"local_dataset_info.txt\",\n",
    "         \"dataset\":\"Webscope_C14_Set1\",\n",
    "         \"fold_id\":1 }\n",
    "data=dataset.get_data(**data_setting)"
   ]
  },
  {
   "cell_type": "code",
   "execution_count": 13,
   "metadata": {},
   "outputs": [],
   "source": [
    "\n"
   ]
  },
  {
   "cell_type": "code",
   "execution_count": 1,
   "metadata": {},
   "outputs": [
    {
     "name": "stdout",
     "output_type": "stream",
     "text": [
      "{'Webscope_C14_Set1': {'num_folds': 1, 'fold_paths': ['/raid/datasets/shared/Yahoo/'], 'num_relevance_labels': 5, 'num_nonzero_feat': 519, 'num_unique_feat': 501, 'query_normalized': True, 'feature_filter_dim': []}, 'MSLR-WEB30k': {'num_folds': 5, 'fold_paths': ['/raid/datasets/shared/MSLR-WEB30K/Fold1/', '/home/ec2-user/documents/datasets/MSLR-WEB30K/Fold2/', '/home/ec2-user/documents/datasets/MSLR-WEB30K/Fold3/', '/home/ec2-user/documents/datasets/MSLR-WEB30K/Fold4/', '/home/ec2-user/documents/datasets/MSLR-WEB30K/Fold5/'], 'num_relevance_labels': 5, 'num_nonzero_feat': 136, 'num_unique_feat': 131, 'query_normalized': True, 'feature_filter_dim': []}, 'MSLR-WEB30k_beh_rm': {'num_folds': 5, 'fold_paths': ['/raid/datasets/shared/MSLR-WEB30K/remove_behavior/Fold1/', '/home/ec2-user/documents/datasets/MSLR-WEB30K/Fold2/', '/home/ec2-user/documents/datasets/MSLR-WEB30K/Fold3/', '/home/ec2-user/documents/datasets/MSLR-WEB30K/Fold4/', '/home/ec2-user/documents/datasets/MSLR-WEB30K/Fold5/'], 'num_relevance_labels': 5, 'num_nonzero_feat': 133, 'num_unique_feat': 128, 'query_normalized': True, 'feature_filter_dim': [134, 135, 136]}, 'istella-s': {'num_folds': 1, 'fold_paths': ['/raid/datasets/shared/Istella-s/'], 'num_relevance_labels': 5, 'num_nonzero_feat': 220, 'num_unique_feat': 193, 'query_normalized': True, 'feature_filter_dim': []}}\n"
     ]
    },
    {
     "ename": "OSError",
     "evalue": "Unable to open file (unable to open file: name = '/home/ec2-user/documents/uncertainty/2021wsdm-unifying-LTR/local_output_point_wise/Webscope_C14_Set1/direct/n_updates_10/trial_0/24040_steps_model.h5', errno = 2, error message = 'No such file or directory', flags = 0, o_flags = 0)",
     "output_type": "error",
     "traceback": [
      "\u001b[0;31m---------------------------------------------------------------------------\u001b[0m",
      "\u001b[0;31mOSError\u001b[0m                                   Traceback (most recent call last)",
      "\u001b[0;32m<ipython-input-1-f1169f9787a0>\u001b[0m in \u001b[0;36m<module>\u001b[0;34m\u001b[0m\n\u001b[1;32m     31\u001b[0m                 \u001b[0;34m\"weight_path\"\u001b[0m\u001b[0;34m:\u001b[0m\u001b[0mdropout_model_weight\u001b[0m\u001b[0;34m,\u001b[0m\u001b[0;34m\u001b[0m\u001b[0;34m\u001b[0m\u001b[0m\n\u001b[1;32m     32\u001b[0m                 \"dropout_fixed\":False}\n\u001b[0;32m---> 33\u001b[0;31m \u001b[0mmodel_dropout\u001b[0m\u001b[0;34m=\u001b[0m\u001b[0mnn\u001b[0m\u001b[0;34m.\u001b[0m\u001b[0mget_dropout_model\u001b[0m\u001b[0;34m(\u001b[0m\u001b[0;34m**\u001b[0m\u001b[0mget_model_params\u001b[0m\u001b[0;34m)\u001b[0m\u001b[0;34m\u001b[0m\u001b[0;34m\u001b[0m\u001b[0m\n\u001b[0m\u001b[1;32m     34\u001b[0m \u001b[0;34m\u001b[0m\u001b[0m\n\u001b[1;32m     35\u001b[0m \u001b[0mtrue_train_doc_weights\u001b[0m \u001b[0;34m=\u001b[0m \u001b[0mdata\u001b[0m\u001b[0;34m.\u001b[0m\u001b[0mtrain\u001b[0m\u001b[0;34m.\u001b[0m\u001b[0mlabel_vector\u001b[0m\u001b[0;34m*\u001b[0m\u001b[0;36m0.25\u001b[0m\u001b[0;34m\u001b[0m\u001b[0;34m\u001b[0m\u001b[0m\n",
      "\u001b[0;32m/raid/taoyang/research/research_everyday/projects/amazon_intern/intern_backup/uncertainty_L2R/utils/nnmodel.py\u001b[0m in \u001b[0;36mget_dropout_model\u001b[0;34m(model_params, input_shape, weight_path, dropout_fixed, weight)\u001b[0m\n\u001b[1;32m     94\u001b[0m     \u001b[0mmodel_dropout\u001b[0m\u001b[0;34m.\u001b[0m\u001b[0mbuild\u001b[0m\u001b[0;34m(\u001b[0m\u001b[0minput_shape\u001b[0m\u001b[0;34m=\u001b[0m\u001b[0minput_shape\u001b[0m\u001b[0;34m)\u001b[0m\u001b[0;34m\u001b[0m\u001b[0;34m\u001b[0m\u001b[0m\n\u001b[1;32m     95\u001b[0m     \u001b[0;32mif\u001b[0m \u001b[0mweight_path\u001b[0m  \u001b[0;32mis\u001b[0m \u001b[0;32mnot\u001b[0m \u001b[0;32mNone\u001b[0m\u001b[0;34m:\u001b[0m\u001b[0;34m\u001b[0m\u001b[0;34m\u001b[0m\u001b[0m\n\u001b[0;32m---> 96\u001b[0;31m         \u001b[0mmodel_dropout\u001b[0m\u001b[0;34m.\u001b[0m\u001b[0mload_weights\u001b[0m\u001b[0;34m(\u001b[0m\u001b[0mweight_path\u001b[0m\u001b[0;34m)\u001b[0m\u001b[0;34m\u001b[0m\u001b[0;34m\u001b[0m\u001b[0m\n\u001b[0m\u001b[1;32m     97\u001b[0m     \u001b[0;32mif\u001b[0m \u001b[0mweight\u001b[0m \u001b[0;32mis\u001b[0m \u001b[0;32mnot\u001b[0m \u001b[0;32mNone\u001b[0m\u001b[0;34m:\u001b[0m\u001b[0;34m\u001b[0m\u001b[0;34m\u001b[0m\u001b[0m\n\u001b[1;32m     98\u001b[0m         \u001b[0mmodel_dropout\u001b[0m\u001b[0;34m.\u001b[0m\u001b[0mset_weights\u001b[0m\u001b[0;34m(\u001b[0m\u001b[0mweight\u001b[0m\u001b[0;34m)\u001b[0m\u001b[0;34m\u001b[0m\u001b[0;34m\u001b[0m\u001b[0m\n",
      "\u001b[0;32m~/miniconda3/envs/ultra_p36/lib/python3.6/site-packages/tensorflow_core/python/keras/engine/training.py\u001b[0m in \u001b[0;36mload_weights\u001b[0;34m(self, filepath, by_name)\u001b[0m\n\u001b[1;32m    180\u001b[0m         raise ValueError('Load weights is not yet supported with TPUStrategy '\n\u001b[1;32m    181\u001b[0m                          'with steps_per_run greater than 1.')\n\u001b[0;32m--> 182\u001b[0;31m     \u001b[0;32mreturn\u001b[0m \u001b[0msuper\u001b[0m\u001b[0;34m(\u001b[0m\u001b[0mModel\u001b[0m\u001b[0;34m,\u001b[0m \u001b[0mself\u001b[0m\u001b[0;34m)\u001b[0m\u001b[0;34m.\u001b[0m\u001b[0mload_weights\u001b[0m\u001b[0;34m(\u001b[0m\u001b[0mfilepath\u001b[0m\u001b[0;34m,\u001b[0m \u001b[0mby_name\u001b[0m\u001b[0;34m)\u001b[0m\u001b[0;34m\u001b[0m\u001b[0;34m\u001b[0m\u001b[0m\n\u001b[0m\u001b[1;32m    183\u001b[0m \u001b[0;34m\u001b[0m\u001b[0m\n\u001b[1;32m    184\u001b[0m   \u001b[0;34m@\u001b[0m\u001b[0mtrackable\u001b[0m\u001b[0;34m.\u001b[0m\u001b[0mno_automatic_dependency_tracking\u001b[0m\u001b[0;34m\u001b[0m\u001b[0;34m\u001b[0m\u001b[0m\n",
      "\u001b[0;32m~/miniconda3/envs/ultra_p36/lib/python3.6/site-packages/tensorflow_core/python/keras/engine/network.py\u001b[0m in \u001b[0;36mload_weights\u001b[0;34m(self, filepath, by_name)\u001b[0m\n\u001b[1;32m   1365\u001b[0m           'first, then load the weights.')\n\u001b[1;32m   1366\u001b[0m     \u001b[0mself\u001b[0m\u001b[0;34m.\u001b[0m\u001b[0m_assert_weights_created\u001b[0m\u001b[0;34m(\u001b[0m\u001b[0;34m)\u001b[0m\u001b[0;34m\u001b[0m\u001b[0;34m\u001b[0m\u001b[0m\n\u001b[0;32m-> 1367\u001b[0;31m     \u001b[0;32mwith\u001b[0m \u001b[0mh5py\u001b[0m\u001b[0;34m.\u001b[0m\u001b[0mFile\u001b[0m\u001b[0;34m(\u001b[0m\u001b[0mfilepath\u001b[0m\u001b[0;34m,\u001b[0m \u001b[0;34m'r'\u001b[0m\u001b[0;34m)\u001b[0m \u001b[0;32mas\u001b[0m \u001b[0mf\u001b[0m\u001b[0;34m:\u001b[0m\u001b[0;34m\u001b[0m\u001b[0;34m\u001b[0m\u001b[0m\n\u001b[0m\u001b[1;32m   1368\u001b[0m       \u001b[0;32mif\u001b[0m \u001b[0;34m'layer_names'\u001b[0m \u001b[0;32mnot\u001b[0m \u001b[0;32min\u001b[0m \u001b[0mf\u001b[0m\u001b[0;34m.\u001b[0m\u001b[0mattrs\u001b[0m \u001b[0;32mand\u001b[0m \u001b[0;34m'model_weights'\u001b[0m \u001b[0;32min\u001b[0m \u001b[0mf\u001b[0m\u001b[0;34m:\u001b[0m\u001b[0;34m\u001b[0m\u001b[0;34m\u001b[0m\u001b[0m\n\u001b[1;32m   1369\u001b[0m         \u001b[0mf\u001b[0m \u001b[0;34m=\u001b[0m \u001b[0mf\u001b[0m\u001b[0;34m[\u001b[0m\u001b[0;34m'model_weights'\u001b[0m\u001b[0;34m]\u001b[0m\u001b[0;34m\u001b[0m\u001b[0;34m\u001b[0m\u001b[0m\n",
      "\u001b[0;32m~/.local/lib/python3.6/site-packages/h5py/_hl/files.py\u001b[0m in \u001b[0;36m__init__\u001b[0;34m(self, name, mode, driver, libver, userblock_size, swmr, rdcc_nslots, rdcc_nbytes, rdcc_w0, track_order, **kwds)\u001b[0m\n\u001b[1;32m    406\u001b[0m                 fid = make_fid(name, mode, userblock_size,\n\u001b[1;32m    407\u001b[0m                                \u001b[0mfapl\u001b[0m\u001b[0;34m,\u001b[0m \u001b[0mfcpl\u001b[0m\u001b[0;34m=\u001b[0m\u001b[0mmake_fcpl\u001b[0m\u001b[0;34m(\u001b[0m\u001b[0mtrack_order\u001b[0m\u001b[0;34m=\u001b[0m\u001b[0mtrack_order\u001b[0m\u001b[0;34m)\u001b[0m\u001b[0;34m,\u001b[0m\u001b[0;34m\u001b[0m\u001b[0;34m\u001b[0m\u001b[0m\n\u001b[0;32m--> 408\u001b[0;31m                                swmr=swmr)\n\u001b[0m\u001b[1;32m    409\u001b[0m \u001b[0;34m\u001b[0m\u001b[0m\n\u001b[1;32m    410\u001b[0m             \u001b[0;32mif\u001b[0m \u001b[0misinstance\u001b[0m\u001b[0;34m(\u001b[0m\u001b[0mlibver\u001b[0m\u001b[0;34m,\u001b[0m \u001b[0mtuple\u001b[0m\u001b[0;34m)\u001b[0m\u001b[0;34m:\u001b[0m\u001b[0;34m\u001b[0m\u001b[0;34m\u001b[0m\u001b[0m\n",
      "\u001b[0;32m~/.local/lib/python3.6/site-packages/h5py/_hl/files.py\u001b[0m in \u001b[0;36mmake_fid\u001b[0;34m(name, mode, userblock_size, fapl, fcpl, swmr)\u001b[0m\n\u001b[1;32m    171\u001b[0m         \u001b[0;32mif\u001b[0m \u001b[0mswmr\u001b[0m \u001b[0;32mand\u001b[0m \u001b[0mswmr_support\u001b[0m\u001b[0;34m:\u001b[0m\u001b[0;34m\u001b[0m\u001b[0;34m\u001b[0m\u001b[0m\n\u001b[1;32m    172\u001b[0m             \u001b[0mflags\u001b[0m \u001b[0;34m|=\u001b[0m \u001b[0mh5f\u001b[0m\u001b[0;34m.\u001b[0m\u001b[0mACC_SWMR_READ\u001b[0m\u001b[0;34m\u001b[0m\u001b[0;34m\u001b[0m\u001b[0m\n\u001b[0;32m--> 173\u001b[0;31m         \u001b[0mfid\u001b[0m \u001b[0;34m=\u001b[0m \u001b[0mh5f\u001b[0m\u001b[0;34m.\u001b[0m\u001b[0mopen\u001b[0m\u001b[0;34m(\u001b[0m\u001b[0mname\u001b[0m\u001b[0;34m,\u001b[0m \u001b[0mflags\u001b[0m\u001b[0;34m,\u001b[0m \u001b[0mfapl\u001b[0m\u001b[0;34m=\u001b[0m\u001b[0mfapl\u001b[0m\u001b[0;34m)\u001b[0m\u001b[0;34m\u001b[0m\u001b[0;34m\u001b[0m\u001b[0m\n\u001b[0m\u001b[1;32m    174\u001b[0m     \u001b[0;32melif\u001b[0m \u001b[0mmode\u001b[0m \u001b[0;34m==\u001b[0m \u001b[0;34m'r+'\u001b[0m\u001b[0;34m:\u001b[0m\u001b[0;34m\u001b[0m\u001b[0;34m\u001b[0m\u001b[0m\n\u001b[1;32m    175\u001b[0m         \u001b[0mfid\u001b[0m \u001b[0;34m=\u001b[0m \u001b[0mh5f\u001b[0m\u001b[0;34m.\u001b[0m\u001b[0mopen\u001b[0m\u001b[0;34m(\u001b[0m\u001b[0mname\u001b[0m\u001b[0;34m,\u001b[0m \u001b[0mh5f\u001b[0m\u001b[0;34m.\u001b[0m\u001b[0mACC_RDWR\u001b[0m\u001b[0;34m,\u001b[0m \u001b[0mfapl\u001b[0m\u001b[0;34m=\u001b[0m\u001b[0mfapl\u001b[0m\u001b[0;34m)\u001b[0m\u001b[0;34m\u001b[0m\u001b[0;34m\u001b[0m\u001b[0m\n",
      "\u001b[0;32mh5py/_objects.pyx\u001b[0m in \u001b[0;36mh5py._objects.with_phil.wrapper\u001b[0;34m()\u001b[0m\n",
      "\u001b[0;32mh5py/_objects.pyx\u001b[0m in \u001b[0;36mh5py._objects.with_phil.wrapper\u001b[0;34m()\u001b[0m\n",
      "\u001b[0;32mh5py/h5f.pyx\u001b[0m in \u001b[0;36mh5py.h5f.open\u001b[0;34m()\u001b[0m\n",
      "\u001b[0;31mOSError\u001b[0m: Unable to open file (unable to open file: name = '/home/ec2-user/documents/uncertainty/2021wsdm-unifying-LTR/local_output_point_wise/Webscope_C14_Set1/direct/n_updates_10/trial_0/24040_steps_model.h5', errno = 2, error message = 'No such file or directory', flags = 0, o_flags = 0)"
     ]
    }
   ],
   "source": [
    "\n",
    "import sys\n",
    "sys.path.append(\"../\")\n",
    "import argparse\n",
    "import json\n",
    "import numpy as np\n",
    "import tensorflow as tf\n",
    "import time\n",
    "import utils.dataset as dataset\n",
    "import utils.nnmodel as nn\n",
    "import utils.misc as misc\n",
    "import utils.evaluation as evl\n",
    "from progressbar import progressbar\n",
    "from scipy.stats import pearsonr\n",
    "from scipy.stats import spearmanr\n",
    "%config Completer.use_jedi = False\n",
    "tf.enable_eager_execution()\n",
    "\n",
    "import utils.dataset as dataset\n",
    "data_setting={\"dataset_info_path\":\"local_dataset_info.txt\",\n",
    "         \"dataset\":\"Webscope_C14_Set1\",\n",
    "         \"fold_id\":1 }\n",
    "data=dataset.get_data(**data_setting)\n",
    "\n",
    "model_params={}\n",
    "model_params['hidden units']=[32,32]\n",
    "# dropout_model_weight=\"/home/ec2-user/documents/uncertainty/2021wsdm-unifying-LTR/local_output/settings/supervised/Supervised_dropout_model.h5\"\n",
    "dropout_model_weight=\"/home/ec2-user/documents/uncertainty/2021wsdm-unifying-LTR/local_output_point_wise/Webscope_C14_Set1/supervised/trial0/model.h5\"\n",
    "dropout_model_weight=\"/home/ec2-user/documents/uncertainty/2021wsdm-unifying-LTR/local_output_point_wise/Webscope_C14_Set1/direct/n_updates_10/trial_0/24040_steps_model.h5\"\n",
    "get_model_params={\"model_params\":model_params,\n",
    "                \"input_shape\":data.train.feature_matrix.shape,\n",
    "                \"weight_path\":dropout_model_weight,\n",
    "                \"dropout_fixed\":False}\n",
    "model_dropout=nn.get_dropout_model(**get_model_params)\n",
    "\n",
    "true_train_doc_weights = data.train.label_vector*0.25\n",
    "true_vali_doc_weights = data.validation.label_vector*0.25\n",
    "true_test_doc_weights = data.test.label_vector*0.25\n",
    "\n"
   ]
  },
  {
   "cell_type": "code",
   "execution_count": 17,
   "metadata": {},
   "outputs": [
    {
     "data": {
      "text/plain": [
       "(1, 473092)"
      ]
     },
     "execution_count": 17,
     "metadata": {},
     "output_type": "execute_result"
    }
   ],
   "source": [
    "train_clicks.shape"
   ]
  },
  {
   "cell_type": "code",
   "execution_count": 18,
   "metadata": {},
   "outputs": [
    {
     "data": {
      "text/plain": [
       "(473092, 501)"
      ]
     },
     "execution_count": 18,
     "metadata": {},
     "output_type": "execute_result"
    }
   ],
   "source": [
    "input_feature.shape"
   ]
  },
  {
   "cell_type": "code",
   "execution_count": 4,
   "metadata": {},
   "outputs": [],
   "source": [
    "input_feature=data.train.feature_matrix"
   ]
  },
  {
   "cell_type": "code",
   "execution_count": 38,
   "metadata": {},
   "outputs": [],
   "source": [
    "train_clicks = np.zeros(data.train.num_docs())"
   ]
  },
  {
   "cell_type": "code",
   "execution_count": 39,
   "metadata": {},
   "outputs": [
    {
     "data": {
      "text/plain": [
       "(473092,)"
      ]
     },
     "execution_count": 39,
     "metadata": {},
     "output_type": "execute_result"
    }
   ],
   "source": [
    "train_clicks.shape"
   ]
  },
  {
   "cell_type": "code",
   "execution_count": null,
   "metadata": {},
   "outputs": [],
   "source": [
    "train_clicks"
   ]
  },
  {
   "cell_type": "code",
   "execution_count": 41,
   "metadata": {},
   "outputs": [
    {
     "data": {
      "text/plain": [
       "(473092, 504)"
      ]
     },
     "execution_count": 41,
     "metadata": {},
     "output_type": "execute_result"
    }
   ],
   "source": [
    "input_feature.shape"
   ]
  },
  {
   "cell_type": "code",
   "execution_count": 42,
   "metadata": {},
   "outputs": [],
   "source": [
    "input_feature=np.concatenate([input_feature,train_clicks[:,None]],axis=1)"
   ]
  },
  {
   "cell_type": "code",
   "execution_count": 34,
   "metadata": {},
   "outputs": [
    {
     "data": {
      "text/plain": [
       "array([9.36931834e-01, 0.00000000e+00, 0.00000000e+00, 0.00000000e+00,\n",
       "       0.00000000e+00, 0.00000000e+00, 0.00000000e+00, 1.00000000e+00,\n",
       "       5.88828309e-01, 3.95984910e-01, 0.00000000e+00, 9.86592446e-01,\n",
       "       0.00000000e+00, 0.00000000e+00, 0.00000000e+00, 0.00000000e+00,\n",
       "       6.15132214e-01, 0.00000000e+00, 5.12771100e-01, 0.00000000e+00,\n",
       "       0.00000000e+00, 0.00000000e+00, 7.95472453e-01, 2.37588018e-02,\n",
       "       5.42068352e-01, 0.00000000e+00, 1.64218304e-03, 0.00000000e+00,\n",
       "       7.66603197e-01, 0.00000000e+00, 0.00000000e+00, 0.00000000e+00,\n",
       "       0.00000000e+00, 6.15641711e-01, 0.00000000e+00, 0.00000000e+00,\n",
       "       0.00000000e+00, 0.00000000e+00, 1.00000000e+00, 5.90979117e-01,\n",
       "       0.00000000e+00, 7.66739120e-01, 2.16579825e-01, 3.86115143e-01,\n",
       "       0.00000000e+00, 0.00000000e+00, 0.00000000e+00, 0.00000000e+00,\n",
       "       0.00000000e+00, 0.00000000e+00, 4.70075252e-01, 0.00000000e+00,\n",
       "       6.62450235e-01, 0.00000000e+00, 5.46324270e-01, 0.00000000e+00,\n",
       "       0.00000000e+00, 0.00000000e+00, 0.00000000e+00, 0.00000000e+00,\n",
       "       0.00000000e+00, 0.00000000e+00, 1.00000000e+00, 0.00000000e+00,\n",
       "       1.00000000e+00, 0.00000000e+00, 0.00000000e+00, 0.00000000e+00,\n",
       "       0.00000000e+00, 6.42727049e-01, 0.00000000e+00, 0.00000000e+00,\n",
       "       6.00292743e-01, 0.00000000e+00, 0.00000000e+00, 0.00000000e+00,\n",
       "       8.44570044e-01, 5.91105066e-01, 5.62492329e-01, 0.00000000e+00,\n",
       "       1.00000000e+00, 0.00000000e+00, 0.00000000e+00, 0.00000000e+00,\n",
       "       0.00000000e+00, 0.00000000e+00, 4.85173409e-01, 4.02207025e-01,\n",
       "       0.00000000e+00, 0.00000000e+00, 4.56043644e-01, 0.00000000e+00,\n",
       "       0.00000000e+00, 0.00000000e+00, 0.00000000e+00, 4.87400697e-01,\n",
       "       0.00000000e+00, 3.76586977e-01, 0.00000000e+00, 6.64969050e-01,\n",
       "       0.00000000e+00, 0.00000000e+00, 0.00000000e+00, 8.29318817e-01,\n",
       "       8.71070124e-01, 0.00000000e+00, 0.00000000e+00, 1.04926038e-01,\n",
       "       0.00000000e+00, 0.00000000e+00, 0.00000000e+00, 0.00000000e+00,\n",
       "       0.00000000e+00, 7.58594306e-01, 0.00000000e+00, 0.00000000e+00,\n",
       "       0.00000000e+00, 0.00000000e+00, 2.62954035e-01, 6.94239490e-01,\n",
       "       0.00000000e+00, 0.00000000e+00, 1.00000000e+00, 1.00000000e+00,\n",
       "       1.00000000e+00, 4.09763939e-01, 0.00000000e+00, 0.00000000e+00,\n",
       "       0.00000000e+00, 1.00000000e+00, 0.00000000e+00, 0.00000000e+00,\n",
       "       0.00000000e+00, 6.70097316e-01, 0.00000000e+00, 0.00000000e+00,\n",
       "       0.00000000e+00, 0.00000000e+00, 0.00000000e+00, 7.99702079e-01,\n",
       "       0.00000000e+00, 0.00000000e+00, 0.00000000e+00, 0.00000000e+00,\n",
       "       1.00000000e+00, 4.36412404e-01, 4.64307756e-01, 7.71064244e-01,\n",
       "       0.00000000e+00, 0.00000000e+00, 0.00000000e+00, 0.00000000e+00,\n",
       "       0.00000000e+00, 0.00000000e+00, 0.00000000e+00, 0.00000000e+00,\n",
       "       0.00000000e+00, 0.00000000e+00, 0.00000000e+00, 0.00000000e+00,\n",
       "       0.00000000e+00, 0.00000000e+00, 0.00000000e+00, 1.00000000e+00,\n",
       "       0.00000000e+00, 0.00000000e+00, 0.00000000e+00, 0.00000000e+00,\n",
       "       1.62127762e-01, 6.02030697e-01, 5.76791667e-01, 0.00000000e+00,\n",
       "       5.52721889e-01, 0.00000000e+00, 3.48775219e-01, 0.00000000e+00,\n",
       "       0.00000000e+00, 8.91113634e-02, 9.24445813e-01, 0.00000000e+00,\n",
       "       0.00000000e+00, 0.00000000e+00, 0.00000000e+00, 0.00000000e+00,\n",
       "       0.00000000e+00, 0.00000000e+00, 0.00000000e+00, 1.88326674e-01,\n",
       "       7.38024041e-01, 0.00000000e+00, 0.00000000e+00, 0.00000000e+00,\n",
       "       1.59275707e-01, 0.00000000e+00, 0.00000000e+00, 0.00000000e+00,\n",
       "       0.00000000e+00, 0.00000000e+00, 0.00000000e+00, 0.00000000e+00,\n",
       "       0.00000000e+00, 0.00000000e+00, 0.00000000e+00, 0.00000000e+00,\n",
       "       6.00292743e-01, 0.00000000e+00, 0.00000000e+00, 0.00000000e+00,\n",
       "       0.00000000e+00, 1.00000000e+00, 0.00000000e+00, 0.00000000e+00,\n",
       "       1.49214434e-01, 0.00000000e+00, 0.00000000e+00, 0.00000000e+00,\n",
       "       8.74920298e-01, 0.00000000e+00, 1.00000000e+00, 0.00000000e+00,\n",
       "       0.00000000e+00, 0.00000000e+00, 0.00000000e+00, 2.61413568e-01,\n",
       "       0.00000000e+00, 0.00000000e+00, 0.00000000e+00, 0.00000000e+00,\n",
       "       0.00000000e+00, 1.00000000e+00, 0.00000000e+00, 5.18646636e-01,\n",
       "       2.61416536e-01, 0.00000000e+00, 5.03571436e-02, 0.00000000e+00,\n",
       "       0.00000000e+00, 2.84976172e-02, 0.00000000e+00, 0.00000000e+00,\n",
       "       4.71913678e-01, 0.00000000e+00, 6.94514244e-01, 0.00000000e+00,\n",
       "       8.50500810e-01, 4.83934466e-02, 5.50147628e-01, 3.16137155e-01,\n",
       "       0.00000000e+00, 0.00000000e+00, 0.00000000e+00, 1.52150415e-01,\n",
       "       0.00000000e+00, 3.54848653e-01, 0.00000000e+00, 0.00000000e+00,\n",
       "       0.00000000e+00, 0.00000000e+00, 0.00000000e+00, 0.00000000e+00,\n",
       "       0.00000000e+00, 0.00000000e+00, 4.33152767e-02, 0.00000000e+00,\n",
       "       0.00000000e+00, 0.00000000e+00, 0.00000000e+00, 3.20259990e-01,\n",
       "       1.00000000e+00, 8.74920298e-01, 4.80285090e-01, 1.00000000e+00,\n",
       "       0.00000000e+00, 0.00000000e+00, 0.00000000e+00, 0.00000000e+00,\n",
       "       0.00000000e+00, 0.00000000e+00, 0.00000000e+00, 6.48481496e-01,\n",
       "       0.00000000e+00, 0.00000000e+00, 9.11461265e-02, 6.25282034e-01,\n",
       "       0.00000000e+00, 0.00000000e+00, 8.08425556e-01, 0.00000000e+00,\n",
       "       0.00000000e+00, 0.00000000e+00, 0.00000000e+00, 0.00000000e+00,\n",
       "       0.00000000e+00, 3.01459017e-01, 5.33710968e-01, 0.00000000e+00,\n",
       "       0.00000000e+00, 2.45271342e-01, 1.00000000e+00, 0.00000000e+00,\n",
       "       8.17455341e-01, 0.00000000e+00, 0.00000000e+00, 0.00000000e+00,\n",
       "       5.75726539e-01, 0.00000000e+00, 0.00000000e+00, 3.45899170e-01,\n",
       "       1.00000000e+00, 4.30564499e-01, 0.00000000e+00, 0.00000000e+00,\n",
       "       4.98485902e-01, 0.00000000e+00, 0.00000000e+00, 4.84757119e-01,\n",
       "       2.24564439e-02, 0.00000000e+00, 0.00000000e+00, 3.75780373e-01,\n",
       "       3.73759166e-01, 0.00000000e+00, 0.00000000e+00, 3.45127816e-01,\n",
       "       0.00000000e+00, 0.00000000e+00, 0.00000000e+00, 1.03227766e-01,\n",
       "       0.00000000e+00, 0.00000000e+00, 9.75080427e-01, 0.00000000e+00,\n",
       "       0.00000000e+00, 0.00000000e+00, 0.00000000e+00, 0.00000000e+00,\n",
       "       3.04538016e-01, 0.00000000e+00, 4.81642404e-01, 0.00000000e+00,\n",
       "       0.00000000e+00, 0.00000000e+00, 2.63604625e-01, 1.07077667e-01,\n",
       "       0.00000000e+00, 0.00000000e+00, 2.02993678e-01, 5.42068517e-01,\n",
       "       0.00000000e+00, 0.00000000e+00, 4.40463454e-01, 0.00000000e+00,\n",
       "       4.40463454e-01, 0.00000000e+00, 0.00000000e+00, 8.00122637e-01,\n",
       "       9.91535121e-01, 0.00000000e+00, 0.00000000e+00, 4.21723962e-01,\n",
       "       1.00000000e+00, 0.00000000e+00, 0.00000000e+00, 0.00000000e+00,\n",
       "       0.00000000e+00, 5.29252144e-01, 9.99928717e-02, 0.00000000e+00,\n",
       "       0.00000000e+00, 0.00000000e+00, 0.00000000e+00, 2.58781346e-01,\n",
       "       0.00000000e+00, 0.00000000e+00, 0.00000000e+00, 0.00000000e+00,\n",
       "       0.00000000e+00, 0.00000000e+00, 5.31722993e-01, 0.00000000e+00,\n",
       "       4.58929086e-01, 0.00000000e+00, 3.53565165e-01, 0.00000000e+00,\n",
       "       1.00000000e+00, 0.00000000e+00, 1.00000000e+00, 0.00000000e+00,\n",
       "       0.00000000e+00, 0.00000000e+00, 0.00000000e+00, 0.00000000e+00,\n",
       "       0.00000000e+00, 0.00000000e+00, 0.00000000e+00, 4.29500566e-01,\n",
       "       0.00000000e+00, 0.00000000e+00, 0.00000000e+00, 0.00000000e+00,\n",
       "       0.00000000e+00, 0.00000000e+00, 0.00000000e+00, 0.00000000e+00,\n",
       "       8.81718963e-01, 0.00000000e+00, 0.00000000e+00, 2.89683222e-01,\n",
       "       0.00000000e+00, 4.71675895e-01, 1.45755708e-01, 0.00000000e+00,\n",
       "       0.00000000e+00, 0.00000000e+00, 0.00000000e+00, 8.50500810e-01,\n",
       "       0.00000000e+00, 8.00122637e-01, 0.00000000e+00, 0.00000000e+00,\n",
       "       0.00000000e+00, 0.00000000e+00, 1.68604689e-01, 0.00000000e+00,\n",
       "       0.00000000e+00, 0.00000000e+00, 0.00000000e+00, 0.00000000e+00,\n",
       "       7.98344371e-01, 1.00000000e+00, 0.00000000e+00, 0.00000000e+00,\n",
       "       0.00000000e+00, 0.00000000e+00, 0.00000000e+00, 0.00000000e+00,\n",
       "       0.00000000e+00, 0.00000000e+00, 0.00000000e+00, 0.00000000e+00,\n",
       "       0.00000000e+00, 0.00000000e+00, 0.00000000e+00, 0.00000000e+00,\n",
       "       0.00000000e+00, 1.00000000e+00, 0.00000000e+00, 0.00000000e+00,\n",
       "       2.61860079e-01, 0.00000000e+00, 0.00000000e+00, 0.00000000e+00,\n",
       "       1.39208197e-01, 4.87070445e-02, 0.00000000e+00, 6.23333601e-01,\n",
       "       5.60062729e-01, 3.70939462e-01, 0.00000000e+00, 0.00000000e+00,\n",
       "       0.00000000e+00, 0.00000000e+00, 0.00000000e+00, 0.00000000e+00,\n",
       "       0.00000000e+00, 0.00000000e+00, 0.00000000e+00, 0.00000000e+00,\n",
       "       0.00000000e+00, 0.00000000e+00, 0.00000000e+00, 0.00000000e+00,\n",
       "       0.00000000e+00, 4.88001412e-01, 0.00000000e+00, 1.00000000e+00,\n",
       "       0.00000000e+00, 0.00000000e+00, 4.19769490e-02, 0.00000000e+00,\n",
       "       0.00000000e+00, 0.00000000e+00, 0.00000000e+00, 0.00000000e+00,\n",
       "       1.00000000e+00, 0.00000000e+00, 0.00000000e+00, 0.00000000e+00,\n",
       "       1.25725502e-01, 0.00000000e+00, 0.00000000e+00, 4.58500752e-01,\n",
       "       0.00000000e+00, 0.00000000e+00, 5.17143167e-01, 4.03895204e-01,\n",
       "       9.52119953e-01, 0.00000000e+00, 0.00000000e+00, 0.00000000e+00,\n",
       "       3.32169086e-01, 0.00000000e+00, 1.00000000e+00, 2.00000000e+00])"
      ]
     },
     "execution_count": 34,
     "metadata": {},
     "output_type": "execute_result"
    }
   ],
   "source": [
    "input_feature[1]"
   ]
  },
  {
   "cell_type": "code",
   "execution_count": 50,
   "metadata": {},
   "outputs": [],
   "source": [
    "n_dropout=10\n",
    "q_batch_size=2**15\n",
    "\n"
   ]
  },
  {
   "cell_type": "code",
   "execution_count": 54,
   "metadata": {},
   "outputs": [],
   "source": [
    "param={\"model\":model_dropout,\"model_params\":model_params,\"input_feature\":input_feature,\n",
    "        \"data_split\":data.train,\"n_dropout\":n_dropout,\"q_batch_size\":q_batch_size}\n",
    "\n",
    "scores_dropout=nn.scores_dropout_direct_model(**param)"
   ]
  },
  {
   "cell_type": "code",
   "execution_count": 61,
   "metadata": {},
   "outputs": [
    {
     "data": {
      "text/plain": [
       "0.9537979306600284"
      ]
     },
     "execution_count": 61,
     "metadata": {},
     "output_type": "execute_result"
    }
   ],
   "source": [
    "nn.get_corre_stat(data.train,scores_dropout)[1]"
   ]
  },
  {
   "cell_type": "code",
   "execution_count": 63,
   "metadata": {},
   "outputs": [
    {
     "data": {
      "text/plain": [
       "{'mean_std_corr': 0.2552678132592147,\n",
       " 'label_std_corr': 0.05539750718326399,\n",
       " 'label_mean_corr': 0.24733225858332467}"
      ]
     },
     "execution_count": 63,
     "metadata": {},
     "output_type": "execute_result"
    }
   ],
   "source": [
    "evl.correlation(data.train,scores_dropout)"
   ]
  },
  {
   "cell_type": "code",
   "execution_count": 57,
   "metadata": {},
   "outputs": [
    {
     "data": {
      "text/plain": [
       "array([[0.14160391, 0.37622668, 0.60267146, 0.67546182, 0.31385957,\n",
       "        0.41641829, 0.47148956, 0.23299998, 0.46081278, 0.3615406 ],\n",
       "       [0.16117523, 0.25823764, 0.3023841 , 0.30760827, 0.22217662,\n",
       "        0.24628529, 0.27337379, 0.21511162, 0.27087328, 0.197125  ]])"
      ]
     },
     "execution_count": 57,
     "metadata": {},
     "output_type": "execute_result"
    }
   ],
   "source": [
    "scores_dropout[:2]"
   ]
  },
  {
   "cell_type": "code",
   "execution_count": 112,
   "metadata": {},
   "outputs": [],
   "source": [
    "def get_data_statics(data_name_list=[]):\n",
    "    stas_list=[]\n",
    "    for data_name in data_name_list:\n",
    "        data_setting={\"dataset_info_path\":\"local_dataset_info.txt\",\n",
    "                 \"dataset\":data_name,\n",
    "                 \"fold_id\":1 }\n",
    "        data=dataset.get_data(**data_setting)\n",
    "        stats=dataset.get_data_stat(data)\n",
    "        stas_list.append(stats)\n",
    "    return stas_list"
   ]
  },
  {
   "cell_type": "code",
   "execution_count": 3,
   "metadata": {},
   "outputs": [],
   "source": [
    "data_name_list=[\"MQ2007\",\"MQ2008\",\"MSLR-WEB10k_beh_rm\",\"MSLR-WEB30k_beh_rm\",\"istella-s\"]"
   ]
  },
  {
   "cell_type": "code",
   "execution_count": 117,
   "metadata": {},
   "outputs": [
    {
     "name": "stderr",
     "output_type": "stream",
     "text": [
      "[autoreload of utils.dataset failed: Traceback (most recent call last):\n",
      "  File \"/home/taoyang/miniconda3/envs/ultra_p36/lib/python3.6/site-packages/IPython/extensions/autoreload.py\", line 245, in check\n",
      "    superreload(m, reload, self.old_objects)\n",
      "  File \"/home/taoyang/miniconda3/envs/ultra_p36/lib/python3.6/site-packages/IPython/extensions/autoreload.py\", line 450, in superreload\n",
      "    update_generic(old_obj, new_obj)\n",
      "  File \"/home/taoyang/miniconda3/envs/ultra_p36/lib/python3.6/site-packages/IPython/extensions/autoreload.py\", line 387, in update_generic\n",
      "    update(a, b)\n",
      "  File \"/home/taoyang/miniconda3/envs/ultra_p36/lib/python3.6/site-packages/IPython/extensions/autoreload.py\", line 357, in update_class\n",
      "    update_instances(old, new)\n",
      "  File \"/home/taoyang/miniconda3/envs/ultra_p36/lib/python3.6/site-packages/IPython/extensions/autoreload.py\", line 312, in update_instances\n",
      "    update_instances(old, new, obj.__dict__, visited)\n",
      "  File \"/home/taoyang/miniconda3/envs/ultra_p36/lib/python3.6/site-packages/IPython/extensions/autoreload.py\", line 312, in update_instances\n",
      "    update_instances(old, new, obj.__dict__, visited)\n",
      "  File \"/home/taoyang/miniconda3/envs/ultra_p36/lib/python3.6/site-packages/IPython/extensions/autoreload.py\", line 317, in update_instances\n",
      "    update_instances(old, new, obj, visited)\n",
      "  File \"/home/taoyang/miniconda3/envs/ultra_p36/lib/python3.6/site-packages/IPython/extensions/autoreload.py\", line 317, in update_instances\n",
      "    update_instances(old, new, obj, visited)\n",
      "  File \"/home/taoyang/miniconda3/envs/ultra_p36/lib/python3.6/site-packages/IPython/extensions/autoreload.py\", line 315, in update_instances\n",
      "    if hasattr(obj, 'items') or (hasattr(obj, '__contains__')\n",
      "KeyboardInterrupt\n",
      "]\n"
     ]
    },
    {
     "data": {
      "text/plain": [
       "[[1643, 41.0, 41],\n",
       " [728, 20.0, 40],\n",
       " [9835, 122.0, 128],\n",
       " [30995, 121.0, 128],\n",
       " [32966, 103.0, 193]]"
      ]
     },
     "execution_count": 117,
     "metadata": {},
     "output_type": "execute_result"
    }
   ],
   "source": [
    "stas_list"
   ]
  },
  {
   "cell_type": "code",
   "execution_count": 2,
   "metadata": {},
   "outputs": [],
   "source": [
    "stas_list=[[1643, 41.0, 41],\n",
    " [728, 20.0, 40],\n",
    " [9835, 122.0, 128],\n",
    " [30995, 121.0, 128],\n",
    " [32966, 103.0, 193]]"
   ]
  },
  {
   "cell_type": "code",
   "execution_count": 7,
   "metadata": {},
   "outputs": [],
   "source": [
    "import pandas as pd\n",
    "df = pd.DataFrame(stas_list,index=data_name_list,columns=[\"# Queries\",\"# Average documents\",\"# Unique feature\"])"
   ]
  },
  {
   "cell_type": "code",
   "execution_count": 110,
   "metadata": {},
   "outputs": [
    {
     "name": "stdout",
     "output_type": "stream",
     "text": [
      "filterd and removed  1543 in 19943 ratio is 0.07737050594193451\n",
      "filterd and removed  240 in 2993 ratio is 0.0801871032408954\n",
      "filterd and removed  378 in 6734 ratio is 0.05613305613305608\n"
     ]
    },
    {
     "data": {
      "text/plain": [
       "[27509, 25.0, 501]"
      ]
     },
     "execution_count": 110,
     "metadata": {},
     "output_type": "execute_result"
    }
   ],
   "source": [
    "# data_setting={\"dataset_info_path\":\"local_dataset_info.txt\",\n",
    "#          \"dataset\":\"Webscope_C14_Set1\",\n",
    "#          \"fold_id\":1 }\n",
    "# data_yahoo=dataset.get_data(**data_setting)\n",
    "\n",
    "\n",
    "\n",
    "\n",
    "get_data_stat(data_yahoo)"
   ]
  },
  {
   "cell_type": "code",
   "execution_count": 104,
   "metadata": {},
   "outputs": [
    {
     "ename": "ValueError",
     "evalue": "operands could not be broadcast together with shapes (18400,) (6356,) ",
     "output_type": "error",
     "traceback": [
      "\u001b[0;31m---------------------------------------------------------------------------\u001b[0m",
      "\u001b[0;31mValueError\u001b[0m                                Traceback (most recent call last)",
      "\u001b[0;32m<ipython-input-104-881305d6deac>\u001b[0m in \u001b[0;36m<module>\u001b[0;34m\u001b[0m\n\u001b[1;32m      1\u001b[0m \u001b[0mdata\u001b[0m\u001b[0;34m=\u001b[0m\u001b[0mdata_yahoo\u001b[0m\u001b[0;34m\u001b[0m\u001b[0;34m\u001b[0m\u001b[0m\n\u001b[1;32m      2\u001b[0m \u001b[0mdata\u001b[0m\u001b[0;34m.\u001b[0m\u001b[0mtrain\u001b[0m\u001b[0;34m.\u001b[0m\u001b[0mquery_sizes\u001b[0m\u001b[0;34m(\u001b[0m\u001b[0;34m)\u001b[0m\u001b[0;34m[\u001b[0m\u001b[0mdata\u001b[0m\u001b[0;34m.\u001b[0m\u001b[0mtrain\u001b[0m\u001b[0;34m.\u001b[0m\u001b[0mget_filtered_queries\u001b[0m\u001b[0;34m(\u001b[0m\u001b[0;34m)\u001b[0m\u001b[0;34m]\u001b[0m\u001b[0;34m+\u001b[0m\u001b[0;31m\\\u001b[0m\u001b[0;34m\u001b[0m\u001b[0;34m\u001b[0m\u001b[0m\n\u001b[0;32m----> 3\u001b[0;31m                 \u001b[0mdata\u001b[0m\u001b[0;34m.\u001b[0m\u001b[0mtest\u001b[0m\u001b[0;34m.\u001b[0m\u001b[0mquery_sizes\u001b[0m\u001b[0;34m(\u001b[0m\u001b[0;34m)\u001b[0m\u001b[0;34m[\u001b[0m\u001b[0mdata\u001b[0m\u001b[0;34m.\u001b[0m\u001b[0mtest\u001b[0m\u001b[0;34m.\u001b[0m\u001b[0mget_filtered_queries\u001b[0m\u001b[0;34m(\u001b[0m\u001b[0;34m)\u001b[0m\u001b[0;34m]\u001b[0m\u001b[0;34m\u001b[0m\u001b[0;34m\u001b[0m\u001b[0m\n\u001b[0m\u001b[1;32m      4\u001b[0m \u001b[0;31m#                 data.validation.query_sizes()[data.validation.get_filtered_queries()]\u001b[0m\u001b[0;34m\u001b[0m\u001b[0;34m\u001b[0m\u001b[0;34m\u001b[0m\u001b[0m\n",
      "\u001b[0;31mValueError\u001b[0m: operands could not be broadcast together with shapes (18400,) (6356,) "
     ]
    }
   ],
   "source": [
    "data=data_yahoo\n",
    "data.train.query_sizes()[data.train.get_filtered_queries()]+\\\n",
    "                data.test.query_sizes()[data.test.get_filtered_queries()]\n",
    "#                 data.validation.query_sizes()[data.validation.get_filtered_queries()]"
   ]
  },
  {
   "cell_type": "code",
   "execution_count": 100,
   "metadata": {},
   "outputs": [
    {
     "data": {
      "text/plain": [
       "array([13,  8, 19, ..., 37, 48, 37])"
      ]
     },
     "execution_count": 100,
     "metadata": {},
     "output_type": "execute_result"
    }
   ],
   "source": [
    "data_yahoo.train.query_sizes()[data_yahoo.train.get_filtered_queries()]"
   ]
  },
  {
   "cell_type": "code",
   "execution_count": 99,
   "metadata": {},
   "outputs": [
    {
     "data": {
      "text/plain": [
       "(18400,)"
      ]
     },
     "execution_count": 99,
     "metadata": {},
     "output_type": "execute_result"
    }
   ],
   "source": [
    "data_yahoo.train.get_filtered_queries().shape"
   ]
  },
  {
   "cell_type": "code",
   "execution_count": 8,
   "metadata": {},
   "outputs": [],
   "source": [
    "cur_train_qids=np.random.randint(0,100,(100))\n",
    "def get_docids_from_qids(qids,data_split):\n",
    "training_qid=[]\n",
    "for qid in cur_train_qids:\n",
    "    start,end=data_split.query_range(qid)\n",
    "    training_qid+=list(range(start,end))\n"
   ]
  },
  {
   "cell_type": "code",
   "execution_count": 13,
   "metadata": {},
   "outputs": [
    {
     "name": "stdout",
     "output_type": "stream",
     "text": [
      "103.30050635214214\n",
      "32981\n"
     ]
    }
   ],
   "source": [
    "data_setting={\"dataset_info_path\":\"local_dataset_info.txt\",\n",
    "         \"dataset\":\"istella-s\",\n",
    "         \"fold_id\":1 }\n",
    "istella_data=dataset.get_data(**data_setting)\n",
    "get_data_stat(istella_data)"
   ]
  },
  {
   "cell_type": "code",
   "execution_count": 14,
   "metadata": {},
   "outputs": [
    {
     "name": "stdout",
     "output_type": "stream",
     "text": [
      "120.19059319059319\n",
      "31339\n"
     ]
    }
   ],
   "source": [
    "data_setting={\"dataset_info_path\":\"local_dataset_info.txt\",\n",
    "         \"dataset\":\"MSLR-WEB30k\",\n",
    "         \"fold_id\":1 }\n",
    "mslr_30k_data=dataset.get_data(**data_setting)\n",
    "\n",
    "get_data_stat(mslr_30k_data)\n"
   ]
  },
  {
   "cell_type": "code",
   "execution_count": 57,
   "metadata": {},
   "outputs": [
    {
     "name": "stderr",
     "output_type": "stream",
     "text": [
      "100% (10 of 10) |########################| Elapsed Time: 0:00:28 Time:  0:00:28\n"
     ]
    }
   ],
   "source": [
    "dropout_model_weight=\"/home/ec2-user/documents/uncertainty/2021wsdm-unifying-LTR/local_output_point_wise/Webscope_C14_Set1/direct/n_updates_10/trial_0/24040_steps_model.h5\"\n",
    "get_model_params={\"model_params\":model_params,\n",
    "                \"input_shape\":data.train.feature_matrix.shape,\n",
    "                \"weight_path\":dropout_model_weight,\n",
    "                \"dropout_fixed\":False}\n",
    "model_dropout=nn.get_dropout_model(**get_model_params)\n",
    "feat=data.train.feature_matrix\n",
    "scores=nn.get_score_matrix_by_dropout(feat,model_dropout,10)"
   ]
  },
  {
   "cell_type": "code",
   "execution_count": 60,
   "metadata": {},
   "outputs": [
    {
     "data": {
      "text/plain": [
       "(473092,)"
      ]
     },
     "execution_count": 60,
     "metadata": {},
     "output_type": "execute_result"
    }
   ],
   "source": [
    "scores.mean(axis=-1).shape"
   ]
  },
  {
   "cell_type": "code",
   "execution_count": null,
   "metadata": {},
   "outputs": [],
   "source": []
  },
  {
   "cell_type": "code",
   "execution_count": 10,
   "metadata": {},
   "outputs": [
    {
     "ename": "NameError",
     "evalue": "name 'model_params' is not defined",
     "output_type": "error",
     "traceback": [
      "\u001b[0;31m---------------------------------------------------------------------------\u001b[0m",
      "\u001b[0;31mNameError\u001b[0m                                 Traceback (most recent call last)",
      "\u001b[0;32m<ipython-input-10-93a3fcaf0266>\u001b[0m in \u001b[0;36m<module>\u001b[0;34m\u001b[0m\n\u001b[1;32m      5\u001b[0m \u001b[0mdropout_model_weight\u001b[0m\u001b[0;34m=\u001b[0m\u001b[0;34m\"/home/ec2-user/documents/uncertainty/2021wsdm-unifying-LTR/pretrained/Webscope_C14_Set1/supervised/trial1/model.h5\"\u001b[0m\u001b[0;34m\u001b[0m\u001b[0;34m\u001b[0m\u001b[0m\n\u001b[1;32m      6\u001b[0m \u001b[0mdropout_model_weight\u001b[0m\u001b[0;34m=\u001b[0m\u001b[0;34m\"/home/ec2-user/documents/uncertainty/2021wsdm-unifying-LTR/pretrained/Webscope_C14_Set1/pretrained_fully/trial0/model.h5\"\u001b[0m\u001b[0;34m\u001b[0m\u001b[0;34m\u001b[0m\u001b[0m\n\u001b[0;32m----> 7\u001b[0;31m get_model_params={\"model_params\":model_params,\n\u001b[0m\u001b[1;32m      8\u001b[0m                 \u001b[0;34m\"input_shape\"\u001b[0m\u001b[0;34m:\u001b[0m\u001b[0mdata\u001b[0m\u001b[0;34m.\u001b[0m\u001b[0mtrain\u001b[0m\u001b[0;34m.\u001b[0m\u001b[0mfeature_matrix\u001b[0m\u001b[0;34m.\u001b[0m\u001b[0mshape\u001b[0m\u001b[0;34m,\u001b[0m\u001b[0;34m\u001b[0m\u001b[0;34m\u001b[0m\u001b[0m\n\u001b[1;32m      9\u001b[0m                 \u001b[0;34m\"weight_path\"\u001b[0m\u001b[0;34m:\u001b[0m\u001b[0mdropout_model_weight\u001b[0m\u001b[0;34m,\u001b[0m\u001b[0;34m\u001b[0m\u001b[0;34m\u001b[0m\u001b[0m\n",
      "\u001b[0;31mNameError\u001b[0m: name 'model_params' is not defined"
     ]
    }
   ],
   "source": [
    "# dropout_model_weight=\"/home/ec2-user/documents/uncertainty/2021wsdm-unifying-LTR/local_output_point_wise/Webscope_C14_Set1/direct/n_updates_10/trial_0/24040_steps_model.h5\"\n",
    "# dropout_model_weight=\"/home/ec2-user/documents/uncertainty/2021wsdm-unifying-LTR/local_output_point_wise_good_initial_model/Webscope_C14_Set1/direct/n_updates_10/trial_0/final_model.h5\"\n",
    "\n",
    "dropout_model_weight=\"/home/ec2-user/documents/uncertainty/2021wsdm-unifying-LTR/local_output_point_wise_good_initial_model/Webscope_C14_Set1/direct/n_updates_10/trial_0/372_steps_model.h5\"\n",
    "dropout_model_weight=\"/home/ec2-user/documents/uncertainty/2021wsdm-unifying-LTR/pretrained/Webscope_C14_Set1/supervised/trial1/model.h5\"\n",
    "dropout_model_weight=\"/home/ec2-user/documents/uncertainty/2021wsdm-unifying-LTR/pretrained/Webscope_C14_Set1/pretrained_fully/trial0/model.h5\"\n",
    "get_model_params={\"model_params\":model_params,\n",
    "                \"input_shape\":data.train.feature_matrix.shape,\n",
    "                \"weight_path\":dropout_model_weight,\n",
    "                \"dropout_fixed\":True}\n",
    "model_dropout=nn.get_dropout_model(**get_model_params)\n",
    "# feat=data.train.feature_matrix\n",
    "# scores_gpu=nn.get_score_matrix_by_dropout(feat,model_dropout,10,use_GPU=True)\n",
    "\n",
    "\n"
   ]
  },
  {
   "cell_type": "code",
   "execution_count": 31,
   "metadata": {},
   "outputs": [
    {
     "name": "stdout",
     "output_type": "stream",
     "text": [
      "[0.99883706 0.99883706]\n"
     ]
    }
   ],
   "source": [
    "scores_nogpu=nn.get_score_matrix_by_dropout(feat,model_dropout,10,use_GPU=False)\n",
    "cor_nogpu=nn.get_corre_stat(data.train,scores_nogpu)\n",
    "print(cor_nogpu)"
   ]
  },
  {
   "cell_type": "code",
   "execution_count": 27,
   "metadata": {},
   "outputs": [
    {
     "name": "stdout",
     "output_type": "stream",
     "text": [
      "[0.99907283 0.99907283]\n"
     ]
    }
   ],
   "source": [
    "cor_nogpu=nn.get_corre_stat(data.train,scores_nogpu)\n",
    "print(cor_nogpu)"
   ]
  },
  {
   "cell_type": "code",
   "execution_count": null,
   "metadata": {},
   "outputs": [
    {
     "name": "stdout",
     "output_type": "stream",
     "text": [
      "[0.99813373 0.99813373]\n"
     ]
    }
   ],
   "source": [
    "cor_nogpu=nn.get_corre_stat(data.train,scores_nogpu)\n",
    "print(cor_nogpu)"
   ]
  },
  {
   "cell_type": "code",
   "execution_count": 20,
   "metadata": {},
   "outputs": [
    {
     "name": "stdout",
     "output_type": "stream",
     "text": [
      "[0.33138792 0.07961169]\n"
     ]
    }
   ],
   "source": [
    "cor_gpu=nn.get_corre_stat(data.train,scores_gpu)\n",
    "print(cor_gpu)"
   ]
  },
  {
   "cell_type": "code",
   "execution_count": 16,
   "metadata": {},
   "outputs": [
    {
     "name": "stdout",
     "output_type": "stream",
     "text": [
      "[0.99845532 0.99845532]\n",
      "[0.99182109 0.99059888]\n"
     ]
    }
   ],
   "source": [
    "cor_nogpu=nn.get_corre_stat(data.train,scores_nogpu)\n",
    "print(cor_nogpu)\n",
    "cor_gpu=nn.get_corre_stat(data.train,scores_gpu)\n",
    "print(cor_gpu)"
   ]
  },
  {
   "cell_type": "code",
   "execution_count": null,
   "metadata": {},
   "outputs": [],
   "source": [
    "print(\"fdas\")"
   ]
  },
  {
   "cell_type": "code",
   "execution_count": 18,
   "metadata": {},
   "outputs": [],
   "source": [
    "dropout_model_weight=\"/home/ec2-user/documents/uncertainty/2021wsdm-unifying-LTR/local_output_point_wise/Webscope_C14_Set1/direct/n_updates_10/trial_0/57796_steps_model.h5\"\n",
    "\n",
    "get_model_params={\"model_params\":model_params,\n",
    "                \"input_shape\":data.train.feature_matrix.shape,\n",
    "                \"weight_path\":dropout_model_weight,\n",
    "                \"dropout_fixed\":False}\n",
    "model_dropout=nn.get_dropout_model(**get_model_params)\n",
    "cur_weight=model_dropout.get_weights()\n"
   ]
  },
  {
   "cell_type": "code",
   "execution_count": 1,
   "metadata": {},
   "outputs": [],
   "source": [
    "%load_ext autoreload\n",
    "%autoreload 2"
   ]
  },
  {
   "cell_type": "code",
   "execution_count": null,
   "metadata": {},
   "outputs": [],
   "source": []
  },
  {
   "cell_type": "code",
   "execution_count": 10,
   "metadata": {
    "tags": []
   },
   "outputs": [
    {
     "name": "stdout",
     "output_type": "stream",
     "text": [
      "**************************************************\n",
      "Dropout no shuffle\n"
     ]
    },
    {
     "ename": "NameError",
     "evalue": "name 'data_split' is not defined",
     "output_type": "error",
     "traceback": [
      "\u001b[0;31m---------------------------------------------------------------------------\u001b[0m",
      "\u001b[0;31mNameError\u001b[0m                                 Traceback (most recent call last)",
      "\u001b[0;32m<ipython-input-10-6c7078bfe87a>\u001b[0m in \u001b[0;36m<module>\u001b[0;34m\u001b[0m\n\u001b[1;32m      7\u001b[0m \u001b[0mprint\u001b[0m\u001b[0;34m(\u001b[0m\u001b[0;34m\"Dropout no shuffle\"\u001b[0m\u001b[0;34m)\u001b[0m\u001b[0;34m\u001b[0m\u001b[0;34m\u001b[0m\u001b[0m\n\u001b[1;32m      8\u001b[0m metrics =  pl.datasplit_metrics(\n\u001b[0;32m----> 9\u001b[0;31m                   \u001b[0mdata_split\u001b[0m\u001b[0;34m,\u001b[0m\u001b[0;34m\u001b[0m\u001b[0;34m\u001b[0m\u001b[0m\n\u001b[0m\u001b[1;32m     10\u001b[0m                   \u001b[0mscore_no_shuffle_T\u001b[0m\u001b[0;34m,\u001b[0m\u001b[0;34m\u001b[0m\u001b[0;34m\u001b[0m\u001b[0m\n\u001b[1;32m     11\u001b[0m                   \u001b[0mstacked_alphas\u001b[0m\u001b[0;34m,\u001b[0m\u001b[0;34m\u001b[0m\u001b[0;34m\u001b[0m\u001b[0m\n",
      "\u001b[0;31mNameError\u001b[0m: name 'data_split' is not defined"
     ]
    }
   ],
   "source": [
    "\n",
    "import utils.plackettluce as pl\n",
    "score_no_shuffle=np.zeros_like(scores_dropout)\n",
    "score_no_shuffle[:]=scores_dropout\n",
    "score_no_shuffle_T=score_no_shuffle.T\n",
    "n_samples=100\n",
    "print(\"*\"*50)\n",
    "print(\"Dropout no shuffle\")\n",
    "metrics =  pl.datasplit_metrics(\n",
    "                  data_split,\n",
    "                  score_no_shuffle_T,\n",
    "                  stacked_alphas,\n",
    "                  stacked_betas,\n",
    "                  doc_weights,\n",
    "                  query_norm_factors=norm_factors,\n",
    "                  n_samples=n_samples,intervene_strategy=\"rankings_n_samples\"\n",
    "                )\n",
    "print(metrics)\n",
    "print(\"*\"*50)\n",
    "print(\"\\n\\n\")\n",
    "print(\"*\"*50)\n",
    "print(\"Dropout shuffle\")\n",
    "score_shuffle=np.zeros_like(scores_dropout)\n",
    "score_shuffle[:]=scores_dropout\n",
    "for i in score_shuffle.T:\n",
    "    np.random.shuffle(i)\n",
    "score_shuffle_T=score_shuffle.T\n",
    "n_samples=100\n",
    "print(score_shuffle_T[0,:4])\n",
    "metrics =  pl.datasplit_metrics(\n",
    "                  data_split,\n",
    "                  score_shuffle_T,\n",
    "                  stacked_alphas,\n",
    "                  stacked_betas,\n",
    "                  doc_weights,\n",
    "                  query_norm_factors=norm_factors,\n",
    "                  n_samples=n_samples,intervene_strategy=\"rankings_n_samples\"\n",
    "                )\n",
    "print(metrics)\n",
    "\n",
    "print(\"*\"*50)\n",
    "print(\"\\n\\n\")\n",
    "print(\"*\"*50)\n",
    "print(\"mean score of Dropouts\")\n",
    "score_dropout_mean=np.mean(scores_dropout,axis=0)\n",
    "score_dropout_mean=score_dropout_mean[:,None]\n",
    "n_samples=1\n",
    "print(score_shuffle_T[0,:4])\n",
    "metrics =  pl.datasplit_metrics(\n",
    "                  data_split,\n",
    "                  score_dropout_mean,\n",
    "                  stacked_alphas,\n",
    "                  stacked_betas,\n",
    "                  doc_weights,\n",
    "                  query_norm_factors=norm_factors,\n",
    "                  n_samples=n_samples,intervene_strategy=\"rankings_n_samples\"\n",
    "                )\n",
    "print(metrics)\n",
    "print(\"*\"*50)\n",
    "print(\"\\n\\n\")\n",
    "print(\"*\"*50)\n",
    "print(\"No Dropouts\")\n",
    "n_samples=100\n",
    "scores_ensemble=model_dropout(data.test.feature_matrix).numpy()\n",
    "metrics =  pl.datasplit_metrics(\n",
    "                  data_split,\n",
    "                  scores_ensemble,\n",
    "                  stacked_alphas,\n",
    "                  stacked_betas,\n",
    "                  doc_weights,\n",
    "                  query_norm_factors=norm_factors,\n",
    "                  n_samples=n_samples,intervene_strategy=\"rankings_n_samples\"\n",
    "                )\n",
    "print(metrics)"
   ]
  },
  {
   "cell_type": "code",
   "execution_count": 56,
   "metadata": {},
   "outputs": [
    {
     "name": "stdout",
     "output_type": "stream",
     "text": [
      "{'Webscope_C14_Set1': {'num_folds': 1, 'fold_paths': ['/raid/datasets/shared/Yahoo/'], 'num_relevance_labels': 5, 'num_nonzero_feat': 519, 'num_unique_feat': 501, 'query_normalized': True, 'feature_filter_dim': []}, 'MSLR-WEB30k': {'num_folds': 5, 'fold_paths': ['/raid/datasets/shared/MSLR-WEB30K/Fold1/', '/home/ec2-user/documents/datasets/MSLR-WEB30K/Fold2/', '/home/ec2-user/documents/datasets/MSLR-WEB30K/Fold3/', '/home/ec2-user/documents/datasets/MSLR-WEB30K/Fold4/', '/home/ec2-user/documents/datasets/MSLR-WEB30K/Fold5/'], 'num_relevance_labels': 5, 'num_nonzero_feat': 136, 'num_unique_feat': 131, 'query_normalized': True, 'feature_filter_dim': []}, 'MSLR-WEB30k_beh_rm': {'num_folds': 5, 'fold_paths': ['/raid/datasets/shared/MSLR-WEB30K_rm_clicks/full/Fold1/', '/home/ec2-user/documents/datasets/MSLR-WEB30K/Fold2/', '/home/ec2-user/documents/datasets/MSLR-WEB30K/Fold3/', '/home/ec2-user/documents/datasets/MSLR-WEB30K/Fold4/', '/home/ec2-user/documents/datasets/MSLR-WEB30K/Fold5/'], 'num_relevance_labels': 5, 'num_nonzero_feat': 133, 'num_unique_feat': 128, 'query_normalized': True, 'feature_filter_dim': [134, 135, 136]}, 'MSLR-WEB30k_beh_rm1%': {'num_folds': 5, 'fold_paths': ['/raid/datasets/shared/MSLR-WEB30K_rm_clicks/toyMSLR1%/Fold1/', '/home/ec2-user/documents/datasets/MSLR-WEB30K/Fold2/', '/home/ec2-user/documents/datasets/MSLR-WEB30K/Fold3/', '/home/ec2-user/documents/datasets/MSLR-WEB30K/Fold4/', '/home/ec2-user/documents/datasets/MSLR-WEB30K/Fold5/'], 'num_relevance_labels': 5, 'num_nonzero_feat': 133, 'num_unique_feat': 128, 'query_normalized': True, 'feature_filter_dim': [134, 135, 136]}, 'MSLR-WEB30k_beh_rm10%': {'num_folds': 5, 'fold_paths': ['/raid/datasets/shared/MSLR-WEB30K_rm_clicks/toyMSLR10%/Fold1/', '/home/ec2-user/documents/datasets/MSLR-WEB30K/Fold2/', '/home/ec2-user/documents/datasets/MSLR-WEB30K/Fold3/', '/home/ec2-user/documents/datasets/MSLR-WEB30K/Fold4/', '/home/ec2-user/documents/datasets/MSLR-WEB30K/Fold5/'], 'num_relevance_labels': 5, 'num_nonzero_feat': 133, 'num_unique_feat': 128, 'query_normalized': True, 'feature_filter_dim': [134, 135, 136]}, 'MSLR-WEB10k_beh_rm': {'num_folds': 5, 'fold_paths': ['/raid/datasets/shared/MSLR-WEB10K_rm_clicks/Fold1/', '/home/ec2-user/documents/datasets/MSLR-WEB30K/Fold2/', '/home/ec2-user/documents/datasets/MSLR-WEB30K/Fold3/', '/home/ec2-user/documents/datasets/MSLR-WEB30K/Fold4/', '/home/ec2-user/documents/datasets/MSLR-WEB30K/Fold5/'], 'num_relevance_labels': 5, 'num_nonzero_feat': 133, 'num_unique_feat': 128, 'query_normalized': True, 'feature_filter_dim': [134, 135, 136]}, 'MQ2007': {'num_folds': 5, 'fold_paths': ['/raid/datasets/shared/MQ2007/Fold1/', '/home/ec2-user/documents/datasets/MSLR-WEB30K/Fold2/', '/home/ec2-user/documents/datasets/MSLR-WEB30K/Fold3/', '/home/ec2-user/documents/datasets/MSLR-WEB30K/Fold4/', '/home/ec2-user/documents/datasets/MSLR-WEB30K/Fold5/'], 'num_relevance_labels': 3, 'num_nonzero_feat': 41, 'num_unique_feat': 41, 'query_normalized': True, 'feature_filter_dim': []}, 'MQ2008': {'num_folds': 5, 'fold_paths': ['/raid/datasets/shared/MQ2008/Fold1/', '/home/ec2-user/documents/datasets/MSLR-WEB30K/Fold2/', '/home/ec2-user/documents/datasets/MSLR-WEB30K/Fold3/', '/home/ec2-user/documents/datasets/MSLR-WEB30K/Fold4/', '/home/ec2-user/documents/datasets/MSLR-WEB30K/Fold5/'], 'num_relevance_labels': 3, 'num_nonzero_feat': 40, 'num_unique_feat': 40, 'query_normalized': True, 'feature_filter_dim': []}, 'NP2003': {'num_folds': 5, 'fold_paths': ['/raid/datasets/shared/2003_np_dataset/Fold1/', '/home/ec2-user/documents/datasets/MSLR-WEB30K/Fold2/', '/home/ec2-user/documents/datasets/MSLR-WEB30K/Fold3/', '/home/ec2-user/documents/datasets/MSLR-WEB30K/Fold4/', '/home/ec2-user/documents/datasets/MSLR-WEB30K/Fold5/'], 'num_relevance_labels': 2, 'num_nonzero_feat': 59, 'num_unique_feat': 59, 'query_normalized': True, 'feature_filter_dim': []}, 'NP2004': {'num_folds': 5, 'fold_paths': ['/raid/datasets/shared/2004_np_dataset/Fold1/', '/home/ec2-user/documents/datasets/MSLR-WEB30K/Fold2/', '/home/ec2-user/documents/datasets/MSLR-WEB30K/Fold3/', '/home/ec2-user/documents/datasets/MSLR-WEB30K/Fold4/', '/home/ec2-user/documents/datasets/MSLR-WEB30K/Fold5/'], 'num_relevance_labels': 2, 'num_nonzero_feat': 59, 'num_unique_feat': 59, 'query_normalized': True, 'feature_filter_dim': []}, 'istella-s': {'num_folds': 1, 'fold_paths': ['/raid/datasets/shared/Istella-s/'], 'num_relevance_labels': 5, 'num_nonzero_feat': 220, 'num_unique_feat': 193, 'query_normalized': True, 'feature_filter_dim': []}}\n",
      "filterd and removed  0 in 29 ratio is 0.0\n"
     ]
    }
   ],
   "source": [
    "import utils.dataset as dataset\n",
    "data_setting={\"dataset_info_path\":\"local_dataset_info.txt\",\n",
    "        #  \"dataset\":\"istella-s\",\n",
    "         \"dataset\":\"NP2003\",\n",
    "         \"fold_id\":1 }\n",
    "data=dataset.get_data(**data_setting)\n",
    "true_train_doc_weights = data.train.label_vector\n",
    "true_vali_doc_weights = data.validation.label_vector\n",
    "true_test_doc_weights = data.test.label_vector\n",
    "\n",
    "data.test.filtered_query_sizes(30)\n",
    "# dropout_model_weight=\"/home/ec2-user/documents/uncertainty/2021wsdm-unifying-LTR/local_output_point_wise/istella-s/supervised/trial0/model.h5\"\n",
    "dropout_model_weight=\"/home/ec2-user/documents/uncertainty/2021wsdm-unifying-LTR/local_output_point_wise/Webscope_C14_Set1/supervised/trial0/model.h5\"\n",
    "# dropout_model_weight=\"/home/ec2-user/documents/uncertainty/2021wsdm-unifying-LTR/local_output_point_wise/istella-s/direct/n_updates_10/trial_0/output_final_model.h5\"\n",
    "# dropout_model_weight=\"/home/ec2-user/documents/uncertainty/2021wsdm-unifying-LTR/local_output_point_wise/istella-s/pretrained/trial0/model.h5\"\n",
    "# model_params = {'hidden units': [32, 32],}\n",
    "# get_model_params={\"model_params\":model_params,\n",
    "#                 \"input_shape\":data.train.feature_matrix.shape,\n",
    "#                 \"weight_path\":dropout_model_weight,\n",
    "#                 \"dropout_fixed\":False}\n",
    "# model=nn.get_dropout_model(**get_model_params)\n",
    "\n",
    "\n",
    "# model = nn.init_model_dropout(model_params)\n",
    "# model.build(input_shape=data.train.feature_matrix.shape)\n",
    "\n",
    "# model.load_weights(dropout_model_weight)\n",
    "\n",
    "# cutoff=5\n",
    "# cur_test_ndcg= evl.test_ndcg(\n",
    "#                                 model,\n",
    "#                                 data.test,\n",
    "#                                 true_test_doc_weights,\n",
    "#                                 cutoff\n",
    "#                               )\n",
    "# print(cur_test_ndcg)"
   ]
  },
  {
   "cell_type": "code",
   "execution_count": 57,
   "metadata": {},
   "outputs": [
    {
     "data": {
      "text/plain": [
       "0.0010130674315894914"
      ]
     },
     "execution_count": 57,
     "metadata": {},
     "output_type": "execute_result"
    }
   ],
   "source": [
    "true_train_doc_weights.mean()"
   ]
  },
  {
   "cell_type": "code",
   "execution_count": 58,
   "metadata": {},
   "outputs": [
    {
     "data": {
      "text/plain": [
       "87852"
      ]
     },
     "execution_count": 58,
     "metadata": {},
     "output_type": "execute_result"
    }
   ],
   "source": [
    "len(true_train_doc_weights)"
   ]
  },
  {
   "cell_type": "code",
   "execution_count": 53,
   "metadata": {},
   "outputs": [
    {
     "data": {
      "text/plain": [
       "1170017"
      ]
     },
     "execution_count": 53,
     "metadata": {},
     "output_type": "execute_result"
    }
   ],
   "source": [
    "(true_train_doc_weights==0).sum()"
   ]
  },
  {
   "cell_type": "code",
   "execution_count": 55,
   "metadata": {},
   "outputs": [
    {
     "data": {
      "text/plain": [
       "0.51536741639056"
      ]
     },
     "execution_count": 55,
     "metadata": {},
     "output_type": "execute_result"
    }
   ],
   "source": [
    "1170017/2270258"
   ]
  },
  {
   "cell_type": "code",
   "execution_count": 51,
   "metadata": {},
   "outputs": [
    {
     "data": {
      "text/plain": [
       "89"
      ]
     },
     "execution_count": 51,
     "metadata": {},
     "output_type": "execute_result"
    }
   ],
   "source": [
    "data.train.num_queries()"
   ]
  },
  {
   "cell_type": "code",
   "execution_count": 19,
   "metadata": {},
   "outputs": [],
   "source": [
    "tf.set_random_seed(1)\n",
    "model_params = {'hidden units': [32, 32],}\n",
    "model = nn.init_model_dropout(model_params)\n",
    "model.build(input_shape=data.train.feature_matrix.shape)"
   ]
  },
  {
   "cell_type": "code",
   "execution_count": 22,
   "metadata": {},
   "outputs": [],
   "source": [
    "model.set_weights(model.get_weights())"
   ]
  },
  {
   "cell_type": "code",
   "execution_count": 20,
   "metadata": {},
   "outputs": [
    {
     "data": {
      "text/plain": [
       "[<tf.Variable 'dense_21/kernel:0' shape=(501, 32) dtype=float64, numpy=\n",
       " array([[-0.03797344, -0.09595746, -0.03490393, ...,  0.03982586,\n",
       "         -0.06404979, -0.02692457],\n",
       "        [-0.08131753, -0.04390374, -0.00949303, ...,  0.01966166,\n",
       "          0.06861302,  0.00465875],\n",
       "        [-0.10511024, -0.09768358,  0.07247853, ..., -0.05531353,\n",
       "          0.01284614,  0.08302015],\n",
       "        ...,\n",
       "        [-0.03180451, -0.07719004, -0.08731159, ...,  0.08231643,\n",
       "          0.06764245,  0.04028468],\n",
       "        [ 0.0228986 , -0.02248379,  0.00027828, ...,  0.03409316,\n",
       "          0.09233527,  0.07186204],\n",
       "        [ 0.05632144, -0.05432172, -0.04530755, ...,  0.05011292,\n",
       "         -0.04200404, -0.02599188]])>,\n",
       " <tf.Variable 'dense_21/bias:0' shape=(32,) dtype=float64, numpy=\n",
       " array([0., 0., 0., 0., 0., 0., 0., 0., 0., 0., 0., 0., 0., 0., 0., 0., 0.,\n",
       "        0., 0., 0., 0., 0., 0., 0., 0., 0., 0., 0., 0., 0., 0., 0.])>,\n",
       " <tf.Variable 'dense_22/kernel:0' shape=(32, 32) dtype=float64, numpy=\n",
       " array([[-0.25667201, -0.14190816,  0.00570253, ..., -0.14504076,\n",
       "         -0.06166961, -0.2455456 ],\n",
       "        [-0.15795616,  0.19063554, -0.13728338, ..., -0.12275288,\n",
       "         -0.14073827, -0.05355145],\n",
       "        [-0.21844415,  0.12683354,  0.10352423, ..., -0.1511741 ,\n",
       "         -0.16595846,  0.07628853],\n",
       "        ...,\n",
       "        [-0.20477156,  0.30107996,  0.07137453, ..., -0.00423372,\n",
       "          0.30401849, -0.26923305],\n",
       "        [-0.22667409,  0.22348197,  0.19836561, ..., -0.25251453,\n",
       "         -0.17039568, -0.08171863],\n",
       "        [-0.13914068,  0.19477954, -0.03913263, ...,  0.05614524,\n",
       "         -0.11248191,  0.13116507]])>,\n",
       " <tf.Variable 'dense_22/bias:0' shape=(32,) dtype=float64, numpy=\n",
       " array([0., 0., 0., 0., 0., 0., 0., 0., 0., 0., 0., 0., 0., 0., 0., 0., 0.,\n",
       "        0., 0., 0., 0., 0., 0., 0., 0., 0., 0., 0., 0., 0., 0., 0.])>,\n",
       " <tf.Variable 'dense_23/kernel:0' shape=(32, 1) dtype=float64, numpy=\n",
       " array([[ 0.11446315],\n",
       "        [-0.32592335],\n",
       "        [ 0.12555219],\n",
       "        [-0.06732292],\n",
       "        [ 0.37119752],\n",
       "        [-0.37243107],\n",
       "        [ 0.24598862],\n",
       "        [-0.2463414 ],\n",
       "        [-0.22295964],\n",
       "        [-0.03816027],\n",
       "        [ 0.18865469],\n",
       "        [-0.10061236],\n",
       "        [ 0.07528151],\n",
       "        [ 0.06541435],\n",
       "        [-0.2361203 ],\n",
       "        [-0.21081714],\n",
       "        [ 0.21785765],\n",
       "        [-0.25191292],\n",
       "        [-0.0744825 ],\n",
       "        [-0.31554603],\n",
       "        [-0.37256011],\n",
       "        [-0.34978415],\n",
       "        [ 0.23778814],\n",
       "        [ 0.29097862],\n",
       "        [-0.03944428],\n",
       "        [-0.37934254],\n",
       "        [ 0.30028223],\n",
       "        [-0.18019912],\n",
       "        [ 0.0405066 ],\n",
       "        [ 0.28363927],\n",
       "        [-0.37400818],\n",
       "        [-0.36544674]])>,\n",
       " <tf.Variable 'dense_23/bias:0' shape=(1,) dtype=float64, numpy=array([0.])>]"
      ]
     },
     "execution_count": 20,
     "metadata": {},
     "output_type": "execute_result"
    }
   ],
   "source": [
    "model.weights"
   ]
  },
  {
   "cell_type": "code",
   "execution_count": null,
   "metadata": {},
   "outputs": [],
   "source": [
    "model_params = {'hidden units': [32, 32],}\n",
    "model = nn.init_model_dropout(model_params)\n",
    "logging_model = nn.init_model_dropout(model_params)"
   ]
  },
  {
   "cell_type": "code",
   "execution_count": 2,
   "metadata": {},
   "outputs": [
    {
     "ename": "NameError",
     "evalue": "name 'data' is not defined",
     "output_type": "error",
     "traceback": [
      "\u001b[0;31m---------------------------------------------------------------------------\u001b[0m",
      "\u001b[0;31mNameError\u001b[0m                                 Traceback (most recent call last)",
      "\u001b[0;32m<ipython-input-2-d20efbe47833>\u001b[0m in \u001b[0;36m<module>\u001b[0;34m\u001b[0m\n\u001b[1;32m      4\u001b[0m \u001b[0mmodel_params\u001b[0m\u001b[0;34m[\u001b[0m\u001b[0;34m'hidden units'\u001b[0m\u001b[0;34m]\u001b[0m\u001b[0;34m=\u001b[0m\u001b[0;34m[\u001b[0m\u001b[0;36m32\u001b[0m\u001b[0;34m,\u001b[0m\u001b[0;36m32\u001b[0m\u001b[0;34m]\u001b[0m\u001b[0;34m\u001b[0m\u001b[0;34m\u001b[0m\u001b[0m\n\u001b[1;32m      5\u001b[0m get_model_params={\"model_params\":model_params,\n\u001b[0;32m----> 6\u001b[0;31m                 \u001b[0;34m\"input_shape\"\u001b[0m\u001b[0;34m:\u001b[0m\u001b[0mdata\u001b[0m\u001b[0;34m.\u001b[0m\u001b[0mtrain\u001b[0m\u001b[0;34m.\u001b[0m\u001b[0mfeature_matrix\u001b[0m\u001b[0;34m.\u001b[0m\u001b[0mshape\u001b[0m\u001b[0;34m,\u001b[0m\u001b[0;34m\u001b[0m\u001b[0;34m\u001b[0m\u001b[0m\n\u001b[0m\u001b[1;32m      7\u001b[0m                 \u001b[0;34m\"weight_path\"\u001b[0m\u001b[0;34m:\u001b[0m\u001b[0mdropout_model_weight\u001b[0m\u001b[0;34m,\u001b[0m\u001b[0;34m\u001b[0m\u001b[0;34m\u001b[0m\u001b[0m\n\u001b[1;32m      8\u001b[0m                 \"dropout_fixed\":True}\n",
      "\u001b[0;31mNameError\u001b[0m: name 'data' is not defined"
     ]
    }
   ],
   "source": [
    "# dropout_model_weight=\"/home/ec2-user/documents/uncertainty/2021wsdm-unifying-LTR/local_output_point_wise/istella-s/supervised/trial0/model.h5\"\n",
    "dropout_model_weight=\"/home/ec2-user/documents/uncertainty/2021wsdm-unifying-LTR/local_output_point_wise/istella-s/direct/n_updates_10/trial_4/output_final_model.h5\"\n",
    "model_params={}\n",
    "model_params['hidden units']=[32,32]\n",
    "get_model_params={\"model_params\":model_params,\n",
    "                \"input_shape\":data.train.feature_matrix.shape,\n",
    "                \"weight_path\":dropout_model_weight,\n",
    "                \"dropout_fixed\":True}\n",
    "model_dropout=nn.get_dropout_model(**get_model_params)\n",
    "scores_dropout=nn.get_score_matrix_by_dropout(data.test.feature_matrix,model_dropout,10)\n"
   ]
  },
  {
   "cell_type": "code",
   "execution_count": 123,
   "metadata": {},
   "outputs": [
    {
     "name": "stderr",
     "output_type": "stream",
     "text": [
      "100% (100 of 100) |######################| Elapsed Time: 0:00:00 Time:  0:00:00\n"
     ]
    }
   ],
   "source": [
    "qid=1012\n",
    "data_split=data.train\n",
    "cutoff=10\n",
    "risk_preference_param_n=np.arange(-1000,1000,100)/10\n",
    "qid_feature=data.test.query_values_from_vector(qid,data.test.feature_matrix)\n",
    "# scores_dropout=nn.get_score_matrix_by_dropout(data.test.feature_matrix,model_dropout,10)\n",
    "# score_qid=data_split.query_values_from_vector(qid,scores_dropout) \n",
    "score_qid=nn.get_score_matrix_by_dropout(qid_feature,model_dropout,100)\n",
    "\n",
    "ranks_cur=nn.get_rank_profolio_multiple(score_qid,cutoff,risk_preference_param_n)[0]\n",
    "\n"
   ]
  },
  {
   "cell_type": "code",
   "execution_count": 203,
   "metadata": {},
   "outputs": [
    {
     "data": {
      "image/png": "[encoded data removed]",
      "text/plain": [
       "<Figure size 432x288 with 1 Axes>"
      ]
     },
     "metadata": {
      "needs_background": "light"
     },
     "output_type": "display_data"
    },
    {
     "data": {
      "image/png": "[encoded data removed]",
      "text/plain": [
       "<Figure size 432x288 with 1 Axes>"
      ]
     },
     "metadata": {
      "needs_background": "light"
     },
     "output_type": "display_data"
    }
   ],
   "source": [
    "# scores_dropout=nn.get_score_matrix_by_dropout(data.test.feature_matrix,model_dropout,100)\n",
    "# scores_dropout_test=nn.get_score_matrix_by_dropout(data.test.feature_matrix,model_dropout,100)\n",
    "# risk_preference_param_n=np.arange(-100,100,10)\n",
    "# mean,std=dcg_multi_query_portfolio(scores_dropout,scores_dropout_test,data.test,risk_preference_param_n)\n",
    "plt.plot(risk_preference_param_n,std)\n",
    "plt.xlabel(\"risk averse parameter $b$\")\n",
    "plt.ylabel(\"std of psudeo DCG\")\n",
    "plt.show()\n",
    "plt.show()\n",
    "plt.errorbar(risk_preference_param_n,mean,std)\n",
    "plt.xlabel(\"risk averse parameter $b$\")\n",
    "plt.ylabel(\"psuedo DCG\")\n",
    "plt.show()"
   ]
  },
  {
   "cell_type": "code",
   "execution_count": 196,
   "metadata": {},
   "outputs": [
    {
     "data": {
      "text/plain": [
       "[<matplotlib.lines.Line2D at 0x7f243dc53f98>]"
      ]
     },
     "execution_count": 196,
     "metadata": {},
     "output_type": "execute_result"
    },
    {
     "data": {
      "image/png": "[encoded data removed]",
      "text/plain": [
       "<Figure size 432x288 with 1 Axes>"
      ]
     },
     "metadata": {
      "needs_background": "light"
     },
     "output_type": "display_data"
    }
   ],
   "source": []
  },
  {
   "cell_type": "code",
   "execution_count": 201,
   "metadata": {},
   "outputs": [
    {
     "data": {
      "text/plain": [
       "Text(0, 0.5, 'psuedo DCG')"
      ]
     },
     "execution_count": 201,
     "metadata": {},
     "output_type": "execute_result"
    },
    {
     "data": {
      "image/png": "[encoded data removed]",
      "text/plain": [
       "<Figure size 432x288 with 1 Axes>"
      ]
     },
     "metadata": {
      "needs_background": "light"
     },
     "output_type": "display_data"
    }
   ],
   "source": []
  },
  {
   "cell_type": "code",
   "execution_count": 182,
   "metadata": {},
   "outputs": [],
   "source": [
    "def dcg_multi_query_portfolio(scores_dropout,test_score,data_split,risk_preference_param_n,cutoff=5):\n",
    "    n_query=data_split.num_queries()\n",
    "    ranks_scores_list=[]\n",
    "    for qid in progressbar(range(n_query)):\n",
    "        score_qid=data_split.query_values_from_vector(qid,scores_dropout) \n",
    "        test_score_qid=data_split.query_values_from_vector(qid,test_score) \n",
    "        ranks_cur=nn.get_rank_profolio_multiple(score_qid,cutoff,risk_preference_param_n)[0]\n",
    "        ranks_scores=dcg_single_query_portfolio(ranks_cur,test_score_qid)\n",
    "        ranks_scores_list.append(ranks_scores)\n",
    "    ranks_scores_list=np.array(ranks_scores_list)\n",
    "    print(ranks_scores_list.shape)\n",
    "    print(ranks_scores_list.mean())\n",
    "    q_mean=ranks_scores_list.mean(axis=2)\n",
    "    q_std=ranks_scores_list.std(axis=2)\n",
    "    mean=q_mean.mean(axis=0)\n",
    "    std=q_std.mean(axis=0)\n",
    "    return mean,std\n"
   ]
  },
  {
   "cell_type": "code",
   "execution_count": 181,
   "metadata": {},
   "outputs": [],
   "source": [
    "def dcg_single_query_portfolio(ranks_cur,score_qid):\n",
    "    cutoff=ranks_cur.shape[1]\n",
    "    scores_rank=score_qid[ranks_cur,:]\n",
    "    weight=1/np.log2(np.arange(2,cutoff+2))\n",
    "    weight=weight[None,:,None]\n",
    "    scores_rank=scores_rank*weight\n",
    "    reduce_scores=np.sum(scores_rank,axis=1)\n",
    "    # reduce_mean=reduce_scores.mean(axis=1)\n",
    "    # reduce_std=reduce_scores.std(axis=1)\n",
    "    return reduce_scores"
   ]
  },
  {
   "cell_type": "code",
   "execution_count": 151,
   "metadata": {},
   "outputs": [
    {
     "name": "stderr",
     "output_type": "stream",
     "text": [
      "100% (100 of 100) |######################| Elapsed Time: 0:00:00 Time:  0:00:00\n"
     ]
    },
    {
     "data": {
      "text/plain": [
       "<ErrorbarContainer object of 3 artists>"
      ]
     },
     "execution_count": 151,
     "metadata": {},
     "output_type": "execute_result"
    },
    {
     "data": {
      "image/png": "[encoded data removed]",
      "text/plain": [
       "<Figure size 432x288 with 1 Axes>"
      ]
     },
     "metadata": {
      "needs_background": "light"
     },
     "output_type": "display_data"
    }
   ],
   "source": [
    "qid=200\n",
    "data_split=data.test\n",
    "cutoff=10\n",
    "risk_preference_param_n=np.arange(-1000,1000,100)/10\n",
    "qid_feature=data.test.query_values_from_vector(qid,data.test.feature_matrix)\n",
    "\n",
    "score_qid=nn.get_score_matrix_by_dropout(qid_feature,model_dropout,100)\n",
    "\n",
    "ranks_cur=nn.get_rank_profolio_multiple(score_qid,cutoff,risk_preference_param_n)[0]\n",
    "reduce_scores=dcg_single_query_portfolio(ranks_cur,score_qid)\n",
    "reduce_mean=reduce_scores.mean(axis=1)\n",
    "reduce_std=reduce_scores.std(axis=1)\n",
    "import matplotlib.pyplot as plt\n",
    "plt.errorbar(risk_preference_param_n,reduce_mean,reduce_std)"
   ]
  },
  {
   "cell_type": "code",
   "execution_count": 74,
   "metadata": {},
   "outputs": [],
   "source": [
    "score_qid_expand=score_qid[None,:,:]"
   ]
  },
  {
   "cell_type": "code",
   "execution_count": 87,
   "metadata": {},
   "outputs": [
    {
     "data": {
      "text/plain": [
       "(20, 10, 10)"
      ]
     },
     "execution_count": 87,
     "metadata": {},
     "output_type": "execute_result"
    }
   ],
   "source": [
    "\n",
    "rows=np.ones((5,2)).astype(np.int)\n",
    "score_qid[ranks_cur,:].shape"
   ]
  },
  {
   "cell_type": "code",
   "execution_count": 71,
   "metadata": {},
   "outputs": [
    {
     "data": {
      "text/plain": [
       "(155, 10)"
      ]
     },
     "execution_count": 71,
     "metadata": {},
     "output_type": "execute_result"
    }
   ],
   "source": []
  },
  {
   "cell_type": "code",
   "execution_count": 12,
   "metadata": {},
   "outputs": [
    {
     "data": {
      "text/plain": [
       "<tf.Tensor: id=825, shape=(58, 1), dtype=float64, numpy=\n",
       "array([[-0.03896015],\n",
       "       [-0.03866553],\n",
       "       [-0.02996821],\n",
       "       [-0.06187   ],\n",
       "       [ 0.03018535],\n",
       "       [ 0.03018535],\n",
       "       [ 0.02903518],\n",
       "       [ 0.03309566],\n",
       "       [ 0.03681683],\n",
       "       [ 0.10084533],\n",
       "       [ 0.02945438],\n",
       "       [ 0.06229437],\n",
       "       [ 0.01212918],\n",
       "       [ 0.02447237],\n",
       "       [ 0.0182937 ],\n",
       "       [ 0.03932713],\n",
       "       [ 0.03753968],\n",
       "       [ 0.02572923],\n",
       "       [ 0.15825724],\n",
       "       [ 0.05792584],\n",
       "       [ 0.02210358],\n",
       "       [ 0.05224188],\n",
       "       [ 0.22615198],\n",
       "       [ 0.02373323],\n",
       "       [ 0.04150915],\n",
       "       [ 0.01608965],\n",
       "       [ 0.04546389],\n",
       "       [ 0.01283657],\n",
       "       [ 0.09150845],\n",
       "       [ 0.09988565],\n",
       "       [ 0.12106285],\n",
       "       [-0.01233888],\n",
       "       [ 0.07134896],\n",
       "       [ 0.31577222],\n",
       "       [ 0.53049237],\n",
       "       [ 0.46845167],\n",
       "       [ 0.03555069],\n",
       "       [ 0.05140954],\n",
       "       [ 0.42498637],\n",
       "       [ 0.03324336],\n",
       "       [ 0.52892074],\n",
       "       [ 0.1203384 ],\n",
       "       [ 0.30336393],\n",
       "       [ 0.20541701],\n",
       "       [ 0.17455263],\n",
       "       [ 0.04378847],\n",
       "       [ 0.11984759],\n",
       "       [ 0.16439043],\n",
       "       [ 0.12946983],\n",
       "       [ 0.18899382],\n",
       "       [ 0.0848286 ],\n",
       "       [ 0.23039057],\n",
       "       [ 0.07892151],\n",
       "       [ 0.04271386],\n",
       "       [ 0.06188693],\n",
       "       [ 0.15446362],\n",
       "       [ 0.19362403],\n",
       "       [ 0.51137617]])>"
      ]
     },
     "execution_count": 12,
     "metadata": {},
     "output_type": "execute_result"
    }
   ],
   "source": [
    "qid=11\n",
    "q_feature=data.test.query_values_from_vector(qid,data.test.feature_matrix)\n",
    "model(q_feature)"
   ]
  },
  {
   "cell_type": "code",
   "execution_count": 44,
   "metadata": {},
   "outputs": [
    {
     "name": "stderr",
     "output_type": "stream",
     "text": [
      "100% (10 of 10) |########################| Elapsed Time: 0:00:10 Time:  0:00:10\n",
      "N/A% (0 of 10) |                         | Elapsed Time: 0:00:00 ETA:  --:--:--"
     ]
    },
    {
     "name": "stdout",
     "output_type": "stream",
     "text": [
      "[0.57009778 0.56569571] my dropout\n"
     ]
    },
    {
     "name": "stderr",
     "output_type": "stream",
     "text": [
      "100% (10 of 10) |########################| Elapsed Time: 0:00:10 Time:  0:00:10\n"
     ]
    },
    {
     "name": "stdout",
     "output_type": "stream",
     "text": [
      "[0.11377834 0.11343169] my dropout\n"
     ]
    }
   ],
   "source": [
    "dropout_model_weight=\"/home/ec2-user/documents/uncertainty/2021wsdm-unifying-LTR/local_output_point_wise/Webscope_C14_Set1/supervised/trial0/model.h5\"\n",
    "dropout_model_weight=\"/home/ec2-user/documents/uncertainty/2021wsdm-unifying-LTR/local_output_point_wise/Webscope_C14_Set1/pretrained/trial0/model.h5\"\n",
    "get_model_params={\"model_params\":model_params,\n",
    "                \"input_shape\":data.train.feature_matrix.shape,\n",
    "                \"weight_path\":dropout_model_weight,\n",
    "                \"dropout_fixed\":True}\n",
    "model_dropout=nn.get_dropout_model(**get_model_params)\n",
    "\n",
    "scores_dropout=nn.get_score_matrix_by_dropout(data.test.feature_matrix,model_dropout,10)\n",
    "scores_dropout_T=scores_dropout.T\n",
    "\n",
    "corre_stat=nn.get_corre_stat(data_split,scores_dropout_T)\n",
    "print(corre_stat,\"my dropout\")\n",
    "\n",
    "\n",
    "\n",
    "get_model_params={\"model_params\":model_params,\n",
    "                \"input_shape\":data.train.feature_matrix.shape,\n",
    "                \"weight_path\":dropout_model_weight,\n",
    "                \"dropout_fixed\":False}\n",
    "model_dropout_seed=nn.get_dropout_model(**get_model_params)\n",
    "scores_dropout_seed=nn.get_score_matrix_by_dropout(data.test.feature_matrix,model_dropout_seed,10)\n",
    "scores_dropout_seed_T=scores_dropout_seed.T\n",
    "corre_stat_seed=nn.get_corre_stat(data_split,scores_dropout_seed_T)\n",
    "print(corre_stat_seed,\"my dropout\")\n"
   ]
  },
  {
   "cell_type": "code",
   "execution_count": null,
   "metadata": {},
   "outputs": [],
   "source": []
  },
  {
   "cell_type": "code",
   "execution_count": 113,
   "metadata": {},
   "outputs": [
    {
     "name": "stderr",
     "output_type": "stream",
     "text": [
      "N/A% (0 of 6734) |                       | Elapsed Time: 0:00:00 ETA:  --:--:--"
     ]
    },
    {
     "ename": "ValueError",
     "evalue": "shape mismatch: value array of shape (100,) could not be broadcast to indexing result of shape (100,5)",
     "output_type": "error",
     "traceback": [
      "\u001b[0;31m---------------------------------------------------------------------------\u001b[0m",
      "\u001b[0;31mValueError\u001b[0m                                Traceback (most recent call last)",
      "\u001b[0;32m<ipython-input-113-5553d62afbc7>\u001b[0m in \u001b[0;36m<module>\u001b[0;34m\u001b[0m\n\u001b[1;32m     21\u001b[0m         \u001b[0mscore_profo_qid\u001b[0m\u001b[0;34m=\u001b[0m\u001b[0mdata_split\u001b[0m\u001b[0;34m.\u001b[0m\u001b[0mquery_values_from_vector\u001b[0m\u001b[0;34m(\u001b[0m\u001b[0mqid\u001b[0m\u001b[0;34m,\u001b[0m\u001b[0mscore_profo\u001b[0m\u001b[0;34m)\u001b[0m\u001b[0;34m\u001b[0m\u001b[0;34m\u001b[0m\u001b[0m\n\u001b[1;32m     22\u001b[0m         \u001b[0mrank_len\u001b[0m\u001b[0;34m=\u001b[0m\u001b[0mlen\u001b[0m\u001b[0;34m(\u001b[0m\u001b[0mranks_cur\u001b[0m\u001b[0;34m)\u001b[0m\u001b[0;34m\u001b[0m\u001b[0;34m\u001b[0m\u001b[0m\n\u001b[0;32m---> 23\u001b[0;31m         \u001b[0mscore_profo_qid\u001b[0m\u001b[0;34m[\u001b[0m\u001b[0mranks_cur\u001b[0m\u001b[0;34m]\u001b[0m\u001b[0;34m=\u001b[0m\u001b[0mnp\u001b[0m\u001b[0;34m.\u001b[0m\u001b[0marange\u001b[0m\u001b[0;34m(\u001b[0m\u001b[0mrank_len\u001b[0m\u001b[0;34m+\u001b[0m\u001b[0;36m1\u001b[0m\u001b[0;34m,\u001b[0m\u001b[0;36m1\u001b[0m\u001b[0;34m,\u001b[0m\u001b[0;34m-\u001b[0m\u001b[0;36m1\u001b[0m\u001b[0;34m)\u001b[0m\u001b[0;34m\u001b[0m\u001b[0;34m\u001b[0m\u001b[0m\n\u001b[0m\u001b[1;32m     24\u001b[0m         \u001b[0mweight_profo_qid\u001b[0m\u001b[0;34m=\u001b[0m\u001b[0mdata_split\u001b[0m\u001b[0;34m.\u001b[0m\u001b[0mquery_values_from_vector\u001b[0m\u001b[0;34m(\u001b[0m\u001b[0mqid\u001b[0m\u001b[0;34m,\u001b[0m\u001b[0mtrue_test_doc_weights\u001b[0m\u001b[0;34m)\u001b[0m\u001b[0;34m\u001b[0m\u001b[0;34m\u001b[0m\u001b[0m\n\u001b[1;32m     25\u001b[0m         \u001b[0;32mif\u001b[0m \u001b[0mweight_profo_qid\u001b[0m\u001b[0;34m.\u001b[0m\u001b[0mshape\u001b[0m\u001b[0;34m[\u001b[0m\u001b[0;36m0\u001b[0m\u001b[0;34m]\u001b[0m\u001b[0;34m==\u001b[0m\u001b[0;36m1\u001b[0m\u001b[0;34m:\u001b[0m\u001b[0;34m\u001b[0m\u001b[0;34m\u001b[0m\u001b[0m\n",
      "\u001b[0;31mValueError\u001b[0m: shape mismatch: value array of shape (100,) could not be broadcast to indexing result of shape (100,5)"
     ]
    }
   ],
   "source": [
    "from sklearn.metrics import ndcg_score\n",
    "# risk_preference_params=[-100,-10,-5,-1,-0.5,-0.1,0,0.1,0.5,1,5,10,100]\n",
    "risk_preference_params=np.arange(-10,10,1)/10\n",
    "# risk_preference_params=[1]\n",
    "# scores_dropout=nn.get_score_matrix_by_dropout(data.test.feature_matrix,model_dropout,100)\n",
    "# data_split=data.test\n",
    "# scores_dropout_T=scores_dropout.T\n",
    "# risk_preference_params=[0]\n",
    "metrics_dict={}\n",
    "for risk_preference_param in progressbar(risk_preference_params):\n",
    "    n_doc_total=scores_dropout_T.shape[0]\n",
    "    score_profo=np.ones(n_doc_total)\n",
    "    qids=data_split.num_queries()\n",
    "    cutoff=5\n",
    "    ndcg=[]\n",
    "    cutoff_list=[1,3,5]\n",
    "    for qid in progressbar(range(qids)):\n",
    "        risk_preference_param_n=np.array([risk_preference_param]*100)\n",
    "        ranks_cur=nn.get_rank_profolio_multiple(qid,scores_dropout_T,data_split,cutoff,risk_preference_param_n)\n",
    "        score_qid=data_split.query_values_from_vector(qid,scores_dropout_T) \n",
    "        score_profo_qid=data_split.query_values_from_vector(qid,score_profo)\n",
    "        rank_len=len(ranks_cur)\n",
    "        score_profo_qid[ranks_cur]=np.arange(rank_len+1,1,-1)\n",
    "        weight_profo_qid=data_split.query_values_from_vector(qid,true_test_doc_weights)\n",
    "        if weight_profo_qid.shape[0]==1:\n",
    "            continue\n",
    "        for eval_cutoff in cutoff_list:\n",
    "            ndcg_score_cur=ndcg_score(weight_profo_qid[None,:],score_profo_qid[None,:],k=eval_cutoff)\n",
    "            ndcg.append(ndcg_score_cur)\n",
    "    ndcg=np.array(ndcg)\n",
    "    ndcg=ndcg.reshape((-1,len(cutoff_list)))\n",
    "    ndcg_mean=np.mean(ndcg,axis=0)\n",
    "        # print(np.argsort(-score_profo_qid)[:5])\n",
    "    metrics_dict[risk_preference_param]=ndcg_mean"
   ]
  },
  {
   "cell_type": "code",
   "execution_count": 114,
   "metadata": {},
   "outputs": [
    {
     "data": {
      "text/plain": [
       "array([1, 1, 1, 1, 1, 1, 1, 1, 1, 1, 1, 1, 1, 1, 1, 1, 1, 1, 1, 1, 1, 1,\n",
       "       1, 1, 1, 1, 1, 1, 1, 1, 1, 1, 1, 1, 1, 1, 1, 1, 1, 1, 1, 1, 1, 1,\n",
       "       1, 1, 1, 1, 1, 1, 1, 1, 1, 1, 1, 1, 1, 1, 1, 1, 1, 1, 1, 1, 1, 1,\n",
       "       1, 1, 1, 1, 1, 1, 1, 1, 1, 1, 1, 1, 1, 1, 1, 1, 1, 1, 1, 1, 1, 1,\n",
       "       1, 1, 1, 1, 1, 1, 1, 1, 1, 1, 1, 1])"
      ]
     },
     "execution_count": 114,
     "metadata": {},
     "output_type": "execute_result"
    }
   ],
   "source": [
    "risk_preference_param_n"
   ]
  },
  {
   "cell_type": "code",
   "execution_count": 117,
   "metadata": {},
   "outputs": [
    {
     "name": "stderr",
     "output_type": "stream",
     "text": [
      "100% (6734 of 6734) |####################| Elapsed Time: 0:00:07 Time:  0:00:07\n",
      "100% (1 of 1) |##########################| Elapsed Time: 0:00:07 Time:  0:00:07\n"
     ]
    }
   ],
   "source": [
    "from sklearn.metrics import ndcg_score\n",
    "# risk_preference_params=[-100,-10,-5,-1,-0.5,-0.1,0,0.1,0.5,1,5,10,100]\n",
    "risk_preference_params=np.arange(-10,10,1)/10\n",
    "risk_preference_params=[1]\n",
    "# scores_dropout=nn.get_score_matrix_by_dropout(data.test.feature_matrix,model_dropout,100)\n",
    "# data_split=data.test\n",
    "# scores_dropout_T=scores_dropout.T\n",
    "# risk_preference_params=[0]\n",
    "metrics_dict={}\n",
    "for risk_preference_param in progressbar(risk_preference_params):\n",
    "    n_doc_total=scores_dropout_T.shape[0]\n",
    "    score_profo=np.ones(n_doc_total)\n",
    "    qids=data_split.num_queries()\n",
    "    cutoff=5\n",
    "    ndcg=[]\n",
    "    cutoff_list=[1,3,5]\n",
    "    for qid in progressbar(range(qids)):\n",
    "        risk_preference_param1=np.array([risk_preference_param]*100)\n",
    "        ranks_cur=nn.get_rank_profolio_multiple(qid,scores_dropout_T,data_split,cutoff,risk_preference_param1)\n",
    "        # print(ranks_cur.shape)"
   ]
  },
  {
   "cell_type": "code",
   "execution_count": 16,
   "metadata": {},
   "outputs": [
    {
     "data": {
      "image/png": "[encoded data removed]",
      "text/plain": [
       "<Figure size 432x288 with 1 Axes>"
      ]
     },
     "metadata": {
      "needs_background": "light"
     },
     "output_type": "display_data"
    },
    {
     "data": {
      "image/png": "[encoded data removed]",
      "text/plain": [
       "<Figure size 432x288 with 1 Axes>"
      ]
     },
     "metadata": {
      "needs_background": "light"
     },
     "output_type": "display_data"
    },
    {
     "data": {
      "image/png": "[encoded data removed]",
      "text/plain": [
       "<Figure size 432x288 with 1 Axes>"
      ]
     },
     "metadata": {
      "needs_background": "light"
     },
     "output_type": "display_data"
    }
   ],
   "source": [
    "import matplotlib.pyplot as plt \n",
    "for ind,cutoff in enumerate(cutoff_list):\n",
    "    ndcg_profolio=[metrics_dict[key][ind] for key in  metrics_dict.keys()]\n",
    "    plt.plot(metrics_dict.keys(),ndcg_profolio)\n",
    "    plt.xlabel(\"Risk averse parameters\")\n",
    "    plt.ylabel(\"NDCG@\"+str(cutoff))\n",
    "    plt.title(\"Profolio theory results\")\n",
    "    plt.show()"
   ]
  },
  {
   "cell_type": "code",
   "execution_count": 17,
   "metadata": {},
   "outputs": [
    {
     "data": {
      "text/plain": [
       "{-100: array([0.39538664, 0.4431183 , 0.4906381 ]),\n",
       " -10: array([0.42494292, 0.46620938, 0.51004951]),\n",
       " -5: array([0.46679571, 0.49989038, 0.53957722]),\n",
       " -1: array([0.72519605, 0.72245029, 0.73297094]),\n",
       " -0.5: array([0.73855966, 0.73818625, 0.75275263]),\n",
       " -0.1: array([0.73882023, 0.73863193, 0.75504349]),\n",
       " 0: array([0.73949027, 0.73888495, 0.75528987]),\n",
       " 0.1: array([0.73950268, 0.73916191, 0.75536992]),\n",
       " 0.5: array([0.7322439 , 0.71685179, 0.73206579]),\n",
       " 1: array([0.66159172, 0.6681856 , 0.69204326]),\n",
       " 5: array([0.56628449, 0.60730425, 0.64380473]),\n",
       " 10: array([0.55253623, 0.60025398, 0.63787614]),\n",
       " 100: array([0.54167907, 0.59270583, 0.6329521 ])}"
      ]
     },
     "execution_count": 17,
     "metadata": {},
     "output_type": "execute_result"
    }
   ],
   "source": [
    "metrics_dict"
   ]
  },
  {
   "cell_type": "code",
   "execution_count": null,
   "metadata": {},
   "outputs": [],
   "source": [
    "## I will fixed one qid\n",
    "risk_preference_params=[-100,-10,-5,-1,-0.5,-0.1,0,0.1,0.5,1,5,10,100]\n",
    "# risk_preference_params=[0]\n",
    "metrics_dict={}\n",
    "for risk_preference_param in progressbar(risk_preference_params):\n",
    "    n_doc_total=scores_dropout_T.shape[0]\n",
    "    score_profo=np.ones(n_doc_total)\n",
    "    qids=data_split.num_queries()\n",
    "    cutoff=5\n",
    "    qid=5\n",
    "    ranks_cur=get_rank_profolio(qid,scores_dropout_T,cutoff,risk_preference_param)\n",
    "    score_qid=data_split.query_values_from_vector(qid,scores_dropout_T)\n",
    "    score_qid_mean=np.mean(score_qid,axis=1)\n",
    "    # print(np.argsort(-score_qid_mean)[:5])\n",
    "    # print(ranks_cur)\n",
    "    # print(np.all(np.argsort(-score_qid_mean)[:5]==ranks_cur))\n",
    "    score_profo_qid=data_split.query_values_from_vector(qid,score_profo)\n",
    "    rank_len=len(ranks_cur)\n",
    "    score_profo_qid[ranks_cur]=np.arange(rank_len+1,1,-1)\n",
    "    # print(np.argsort(-score_profo_qid)[:5])\n",
    "    \n",
    "\n",
    "    metrics_dict[risk_preference_param]=metrics"
   ]
  },
  {
   "cell_type": "code",
   "execution_count": 664,
   "metadata": {},
   "outputs": [],
   "source": [
    "# j=np.random.uniform((10**7,500))"
   ]
  },
  {
   "cell_type": "code",
   "execution_count": 595,
   "metadata": {},
   "outputs": [],
   "source": [
    "\n",
    "from utils.nnmodel import init_model_dropout\n",
    "model_params={}\n",
    "model_params['hidden units']=[32,32]\n",
    "model_dropout=init_model_dropout(model_params)\n",
    "model_dropout.build(input_shape=data.train.feature_matrix.shape)\n",
    "dropout_model_weight=\"/home/ec2-user/documents/uncertainty/2021wsdm-unifying-LTR/local_output/settings/supervised/Supervised_dropout_model.h5\"\n",
    "dropout_model_weight=\"/home/ec2-user/documents/uncertainty/2021wsdm-unifying-LTR/local_output/settings/supervised/Supervised_dropout_model.h5\"\n",
    "dropout_model_weight=\"/home/ec2-user/documents/uncertainty/2021wsdm-unifying-LTR/local_output/pretrained_model.h5\"\n",
    "\n",
    "model_dropout.load_weights(dropout_model_weight)\n",
    "# model_dropout.compile(optimizer='adam',\n",
    "#               loss=loss_sigmoid, # Call the loss function with the selected layer\n",
    "#               metrics=[loss_sigmoid])\n",
    "\n"
   ]
  },
  {
   "cell_type": "code",
   "execution_count": 1,
   "metadata": {},
   "outputs": [
    {
     "ename": "ModuleNotFoundError",
     "evalue": "No module named 'BEL'",
     "output_type": "error",
     "traceback": [
      "\u001b[0;31m---------------------------------------------------------------------------\u001b[0m",
      "\u001b[0;31mModuleNotFoundError\u001b[0m                       Traceback (most recent call last)",
      "\u001b[0;32m<ipython-input-1-f4a76f0b8add>\u001b[0m in \u001b[0;36m<module>\u001b[0;34m\u001b[0m\n\u001b[1;32m      3\u001b[0m \u001b[0;32mimport\u001b[0m \u001b[0mmatplotlib\u001b[0m\u001b[0;34m.\u001b[0m\u001b[0mpyplot\u001b[0m \u001b[0;32mas\u001b[0m \u001b[0mplt\u001b[0m\u001b[0;34m\u001b[0m\u001b[0;34m\u001b[0m\u001b[0m\n\u001b[1;32m      4\u001b[0m \u001b[0msys\u001b[0m\u001b[0;34m.\u001b[0m\u001b[0mpath\u001b[0m\u001b[0;34m.\u001b[0m\u001b[0mappend\u001b[0m\u001b[0;34m(\u001b[0m\u001b[0;34m\"/home/ec2-user/my_repo\"\u001b[0m\u001b[0;34m)\u001b[0m\u001b[0;34m\u001b[0m\u001b[0;34m\u001b[0m\u001b[0m\n\u001b[0;32m----> 5\u001b[0;31m \u001b[0;32mfrom\u001b[0m \u001b[0mBEL\u001b[0m\u001b[0;34m.\u001b[0m\u001b[0mutils\u001b[0m \u001b[0;32mimport\u001b[0m \u001b[0mconfigure_logging\u001b[0m\u001b[0;34m\u001b[0m\u001b[0;34m\u001b[0m\u001b[0m\n\u001b[0m\u001b[1;32m      6\u001b[0m \u001b[0mconfigure_logging\u001b[0m\u001b[0;34m(\u001b[0m\u001b[0mlogging\u001b[0m\u001b[0;34m)\u001b[0m\u001b[0;34m\u001b[0m\u001b[0;34m\u001b[0m\u001b[0m\n",
      "\u001b[0;31mModuleNotFoundError\u001b[0m: No module named 'BEL'"
     ]
    }
   ],
   "source": [
    "import logging\n",
    "import sys\n",
    "import matplotlib.pyplot as plt\n",
    "sys.path.append(\"/home/ec2-user/my_repo\")\n",
    "from BEL.utils import configure_logging\n",
    "configure_logging(logging)"
   ]
  },
  {
   "cell_type": "code",
   "execution_count": 115,
   "metadata": {},
   "outputs": [
    {
     "data": {
      "text/plain": [
       "array([38., 40., 43., 45., 48., 51., 55., 59., 63., 68.])"
      ]
     },
     "execution_count": 115,
     "metadata": {},
     "output_type": "execute_result"
    }
   ],
   "source": [
    "item_freq"
   ]
  },
  {
   "cell_type": "code",
   "execution_count": 2,
   "metadata": {},
   "outputs": [],
   "source": [
    "from utils.plackettluce  import ucb_rankings,std_proposional_rankings,ucb_std_rankings\n"
   ]
  },
  {
   "cell_type": "code",
   "execution_count": 3,
   "metadata": {},
   "outputs": [],
   "source": [
    "import numpy as np\n",
    "import utils.nnmodel as nn\n",
    "scores=np.random.uniform(0,1,(20,100))\n",
    "risk_param=np.arange(0,1)/10\n",
    "cutoff=5\n",
    "param_c=100\n",
    "rankings=nn.get_rank_profolio_multiple(scores,cutoff,risk_param)[0]"
   ]
  },
  {
   "cell_type": "code",
   "execution_count": 13,
   "metadata": {},
   "outputs": [
    {
     "data": {
      "text/plain": [
       "(array([[13,  5,  7,  2, 16],\n",
       "        [13,  5,  7,  2, 16],\n",
       "        [13,  5,  7,  2, 16],\n",
       "        [13,  5,  7,  2, 16],\n",
       "        [13,  5,  7,  2, 16],\n",
       "        [13,  5,  7,  2, 16],\n",
       "        [13,  5,  7,  2, 16],\n",
       "        [13,  5,  7,  2, 16],\n",
       "        [13,  5,  7,  2, 16],\n",
       "        [13,  5,  7,  2, 16]]), None, None, None)"
      ]
     },
     "execution_count": 13,
     "metadata": {},
     "output_type": "execute_result"
    }
   ],
   "source": [
    "scores=np.random.uniform(0,1,(20,10))\n",
    "risk_param=0\n",
    "std_proposional_rankings(scores,10,5,param_c=0)"
   ]
  },
  {
   "cell_type": "code",
   "execution_count": 5,
   "metadata": {},
   "outputs": [],
   "source": [
    "%load_ext autoreload\n",
    "%autoreload 2\n"
   ]
  },
  {
   "cell_type": "code",
   "execution_count": 14,
   "metadata": {},
   "outputs": [
    {
     "data": {
      "text/plain": [
       "(array([[13,  5,  7,  2, 16],\n",
       "        [13,  5,  7,  2, 16],\n",
       "        [13,  5,  7,  2, 16],\n",
       "        [13,  5,  7,  2, 16],\n",
       "        [13,  5,  7,  2, 16],\n",
       "        [13,  5,  7,  2, 16],\n",
       "        [13,  5,  7,  2, 16],\n",
       "        [13,  5,  7,  2, 16],\n",
       "        [13,  5,  7,  2, 16],\n",
       "        [13,  5,  7,  2, 16]]), None, None, None)"
      ]
     },
     "execution_count": 14,
     "metadata": {},
     "output_type": "execute_result"
    }
   ],
   "source": [
    "# scores=np.random.uniform(0,1,(20,10))\n",
    "risk_param=0\n",
    "doc_freq=np.array([1]*20)\n",
    "query_freq=np.array([1])\n",
    "ucb_std_rankings(scores,10,5,doc_freq,query_freq,param_c=0)"
   ]
  },
  {
   "cell_type": "code",
   "execution_count": 17,
   "metadata": {},
   "outputs": [],
   "source": [
    "import utils.misc as mis"
   ]
  },
  {
   "cell_type": "code",
   "execution_count": 27,
   "metadata": {},
   "outputs": [],
   "source": [
    "vali=data.validation\n",
    "n_doc=vali.num_docs()\n",
    "score=np.random.randint(-1,3,(n_doc))"
   ]
  },
  {
   "cell_type": "code",
   "execution_count": 28,
   "metadata": {},
   "outputs": [
    {
     "name": "stdout",
     "output_type": "stream",
     "text": [
      "[2 2 2 2 2]\n",
      "[2 2 2 2 2]\n",
      "[2 2 2 2 2]\n",
      "[2 2 2 2 2]\n",
      "[2 2 2 2 2]\n",
      "[2 2 2 2 2]\n",
      "[2 2 2 2 2]\n",
      "[2 2 2 2 2]\n",
      "[2 2 2 2 2]\n",
      "[2 2 2 2 2]\n",
      "[2 2 2 2 2]\n",
      "[2 2 2 2 2]\n",
      "[2 2 2 2 2]\n",
      "[2 2 2 2 2]\n",
      "[2 2 2 2 2]\n",
      "[2 2 2 2 2]\n",
      "[2 2 2 2 2]\n",
      "[2 2 2 2 2]\n",
      "[2 2 2 2 2]\n",
      "[2 2 2 2 2]\n",
      "[2 2 2 2 2]\n",
      "[2 2 2 2 2]\n",
      "[2 2 2 2 2]\n",
      "[2 2 2 2 2]\n",
      "[2 2 2 2 2]\n",
      "[2 2 2 2 2]\n",
      "[2 2 2 2 2]\n",
      "[2 2 2 2 2]\n",
      "[2 2 2 2 2]\n",
      "[2 2 2 2 2]\n",
      "[2 2 2 2 2]\n",
      "[2 2 2 2 2]\n",
      "[2 2 2 2 2]\n",
      "[2 2 2 2 2]\n",
      "[2 2 2 2 2]\n",
      "[2 2 2 2 2]\n",
      "[2 2 2 2 2]\n",
      "[2 2 2 2 2]\n",
      "[2 2 2 2 2]\n",
      "[2 2 2 2 2]\n",
      "[2 2 2 2 2]\n",
      "[2 2 2 2 2]\n",
      "[2 2 2 2 2]\n",
      "[2 2 2 2 2]\n",
      "[2 2 2 2 2]\n",
      "[2 2 2 2 2]\n",
      "[2 2 2 2 2]\n",
      "[2 2 2 2 2]\n",
      "[2 2 2 2 2]\n",
      "[2 2 2 2 2]\n",
      "[2 2 2 2 2]\n",
      "[2 2 2 2 2]\n",
      "[2 2 2 2 2]\n",
      "[2 2 2 2 2]\n",
      "[2 2 2 2 2]\n",
      "[2 2 2 2 2]\n",
      "[2 2 2 2 2]\n",
      "[2 2 2 2 2]\n",
      "[2 2 2 2 2]\n",
      "[2 2 2 2 2]\n",
      "[2 2 2 2 2]\n",
      "[2 2 2 2 2]\n",
      "[2 2 2 2 2]\n",
      "[2 2 2 2 2]\n",
      "[2 2 2 2 2]\n",
      "[2 2 2 2 2]\n",
      "[2 2 2 2 2]\n",
      "[2 2 2 2 2]\n",
      "[2 2 2 2 2]\n",
      "[2 2 2 2 2]\n",
      "[1 2 2 2 2]\n",
      "[]\n"
     ]
    }
   ],
   "source": [
    "mis.test_ips(vali,score=score)"
   ]
  },
  {
   "cell_type": "code",
   "execution_count": 26,
   "metadata": {},
   "outputs": [
    {
     "data": {
      "text/plain": [
       "array([-1,  2,  0, ...,  1, -1,  2])"
      ]
     },
     "execution_count": 26,
     "metadata": {},
     "output_type": "execute_result"
    }
   ],
   "source": [
    "score"
   ]
  },
  {
   "cell_type": "code",
   "execution_count": 60,
   "metadata": {},
   "outputs": [],
   "source": [
    "query_rng=np.random.default_rng(1)"
   ]
  },
  {
   "cell_type": "code",
   "execution_count": null,
   "metadata": {},
   "outputs": [],
   "source": [
    "policy_scores_masked=np.zeros_like(policy_scores_query)\n",
    "policy_scores_masked[:]=policy_scores_query\n",
    "policy_scores_masked[mask_query==0]=-np.inf*flag"
   ]
  },
  {
   "cell_type": "code",
   "execution_count": 68,
   "metadata": {},
   "outputs": [],
   "source": [
    "def mask_items(mask_query,policy_scores_query,flag=1):\n",
    "    policy_scores_masked=np.zeros_like(policy_scores_query)\n",
    "    policy_scores_masked[:]=policy_scores_query\n",
    "    policy_scores_masked[mask_query==0]=-np.inf*flag\n",
    "    return policy_scores_masked\n"
   ]
  },
  {
   "cell_type": "code",
   "execution_count": 69,
   "metadata": {},
   "outputs": [],
   "source": [
    "mask_query=np.random.randint(0,2,10)\n",
    "policy_scores_query=np.random.uniform(0,1,10)"
   ]
  },
  {
   "cell_type": "code",
   "execution_count": 70,
   "metadata": {},
   "outputs": [
    {
     "data": {
      "text/plain": [
       "array([0.78665592,       -inf,       -inf,       -inf, 0.72989563,\n",
       "       0.58672937,       -inf, 0.8851502 ,       -inf, 0.27788456])"
      ]
     },
     "execution_count": 70,
     "metadata": {},
     "output_type": "execute_result"
    }
   ],
   "source": [
    "mask_items(mask_query,policy_scores_query)"
   ]
  },
  {
   "cell_type": "code",
   "execution_count": 80,
   "metadata": {},
   "outputs": [],
   "source": [
    "d=np.zeros((10,10))"
   ]
  },
  {
   "cell_type": "code",
   "execution_count": 81,
   "metadata": {},
   "outputs": [],
   "source": [
    "dd=d[:,9]"
   ]
  },
  {
   "cell_type": "code",
   "execution_count": 82,
   "metadata": {},
   "outputs": [],
   "source": [
    "dd[:]=np.ones(10)"
   ]
  },
  {
   "cell_type": "code",
   "execution_count": 83,
   "metadata": {},
   "outputs": [
    {
     "data": {
      "text/plain": [
       "array([[0., 0., 0., 0., 0., 0., 0., 0., 0., 1.],\n",
       "       [0., 0., 0., 0., 0., 0., 0., 0., 0., 1.],\n",
       "       [0., 0., 0., 0., 0., 0., 0., 0., 0., 1.],\n",
       "       [0., 0., 0., 0., 0., 0., 0., 0., 0., 1.],\n",
       "       [0., 0., 0., 0., 0., 0., 0., 0., 0., 1.],\n",
       "       [0., 0., 0., 0., 0., 0., 0., 0., 0., 1.],\n",
       "       [0., 0., 0., 0., 0., 0., 0., 0., 0., 1.],\n",
       "       [0., 0., 0., 0., 0., 0., 0., 0., 0., 1.],\n",
       "       [0., 0., 0., 0., 0., 0., 0., 0., 0., 1.],\n",
       "       [0., 0., 0., 0., 0., 0., 0., 0., 0., 1.]])"
      ]
     },
     "execution_count": 83,
     "metadata": {},
     "output_type": "execute_result"
    }
   ],
   "source": [
    "d"
   ]
  },
  {
   "cell_type": "code",
   "execution_count": 78,
   "metadata": {},
   "outputs": [],
   "source": [
    "train_ranking_mask=np.random.randint(0,2,100)"
   ]
  },
  {
   "cell_type": "code",
   "execution_count": 79,
   "metadata": {},
   "outputs": [
    {
     "data": {
      "text/plain": [
       "50"
      ]
     },
     "execution_count": 79,
     "metadata": {},
     "output_type": "execute_result"
    }
   ],
   "source": [
    "np.sum(train_ranking_mask==1)"
   ]
  },
  {
   "cell_type": "code",
   "execution_count": 9,
   "metadata": {},
   "outputs": [
    {
     "data": {
      "text/plain": [
       "11.76"
      ]
     },
     "execution_count": 9,
     "metadata": {},
     "output_type": "execute_result"
    }
   ],
   "source": [
    "9.8*1.2"
   ]
  },
  {
   "cell_type": "code",
   "execution_count": 84,
   "metadata": {},
   "outputs": [],
   "source": [
    "from utils.clicks import get_click_model"
   ]
  },
  {
   "cell_type": "code",
   "execution_count": 85,
   "metadata": {},
   "outputs": [],
   "source": [
    "a=get_click_model(\"default\")"
   ]
  },
  {
   "cell_type": "code",
   "execution_count": 88,
   "metadata": {},
   "outputs": [
    {
     "data": {
      "text/plain": [
       "(array([0.35      , 0.53203166, 0.54726198, 0.53700475, 0.52015654]),\n",
       " array([0.65      , 0.25806548, 0.15330808, 0.10606658, 0.07951667]))"
      ]
     },
     "execution_count": 88,
     "metadata": {},
     "output_type": "execute_result"
    }
   ],
   "source": [
    "a(np.arange(5))"
   ]
  },
  {
   "cell_type": "code",
   "execution_count": null,
   "metadata": {},
   "outputs": [],
   "source": [
    "def L2(exposure,rel):\n",
    "    exposure=exposure/exposure.sum()\n",
    "    rel=rel/rel.sum()\n",
    "    return np.abs(exposure-rel)\n",
    "\n",
    "def test_unfairness(exposure,data_split,true_doc_weights,mask):\n",
    "#     feature_matrix=data_split.feature_matrix\n",
    "    # scores=model(feature_matrix)[:,0].numpy()\n",
    "    filtered_queries=data_split.get_filtered_queries()\n",
    "    unfairness_list=[]\n",
    "    for qid in filtered_queries:\n",
    "        q_mask=data_split.query_values_from_vector(qid,mask)\n",
    "        q_exposure=data_split.query_values_from_vector(qid,exposure)\n",
    "        q_rel=data_split.query_values_from_vector(qid,true_doc_weights)\n",
    "        unfairness_list.append(L2(q_exposure,q_rel))\n",
    "    unfairness_list=np.array(unfairness_list)\n",
    "    return np.mean(unfairness_list)"
   ]
  },
  {
   "cell_type": "code",
   "execution_count": null,
   "metadata": {},
   "outputs": [],
   "source": []
  },
  {
   "cell_type": "code",
   "execution_count": 2,
   "metadata": {},
   "outputs": [],
   "source": [
    "import numpy as np"
   ]
  },
  {
   "cell_type": "code",
   "execution_count": 7,
   "metadata": {},
   "outputs": [
    {
     "name": "stdout",
     "output_type": "stream",
     "text": [
      "[1 0 0 1 0 0 1 1 1 0] [1 0 0 0 1 1 0 0 0 0] []\n"
     ]
    }
   ],
   "source": [
    "d=np.random.randint(0,2,(10))\n",
    "m=np.random.randint(0,2,(10))\n",
    "mm=np.setdiff1d(m,d)\n",
    "print(m,d,mm)"
   ]
  },
  {
   "cell_type": "code",
   "execution_count": 23,
   "metadata": {},
   "outputs": [],
   "source": [
    "label=np.random.randint(3,5,(100))\n",
    "clicks=np.random.randint(0,10,(100))\n",
    "shown_test_id=[np.arange(i*10,(i+1)*10) for i in range(5)]"
   ]
  },
  {
   "cell_type": "code",
   "execution_count": 28,
   "metadata": {},
   "outputs": [],
   "source": []
  },
  {
   "cell_type": "code",
   "execution_count": 29,
   "metadata": {},
   "outputs": [
    {
     "name": "stdout",
     "output_type": "stream",
     "text": [
      "[3 5 2 7 5] [0 1 2 3 4 5 6 7 8 9] [3 4 3 4 3 4 4 3 4 3 3 3 3 3 4 4 3 4 4 4 3 3 4 3 3 3 4 3 4 3 4 3 3 4 3 4 4\n",
      " 3 4 4 3 4 4 4 3 4 4 3 3 4 4 4 3 3 3 3 3 3 4 4 4 3 4 4 3 3 3 4 4 4 3 4 3 3\n",
      " 4 3 4 3 3 4 3 4 4 3 3 4 3 3 3 4 3 3 3 4 3 4 4 3 4 4] [8 3 8 5 6 2 7 3 5 3 7 5 1 5 0 5 4 0 7 2 8 5 7 4 4 6 9 0 7 1 1 6 5 9 1 7 9\n",
      " 4 0 6 2 1 4 9 0 6 0 3 9 2 4 5 8 4 6 9 3 3 6 3 0 1 0 2 3 0 7 3 9 5 3 9 5 0\n",
      " 7 1 3 5 1 0 2 8 2 5 2 2 9 8 6 2 3 1 0 4 7 4 8 7 3 4]\n",
      "[0 5 0 7 2] [10 11 12 13 14 15 16 17 18 19] [3 4 3 4 3 4 4 3 4 3 3 3 3 3 4 4 3 4 4 4 3 3 4 3 3 3 4 3 4 3 4 3 3 4 3 4 4\n",
      " 3 4 4 3 4 4 4 3 4 4 3 3 4 4 4 3 3 3 3 3 3 4 4 4 3 4 4 3 3 3 4 4 4 3 4 3 3\n",
      " 4 3 4 3 3 4 3 4 4 3 3 4 3 3 3 4 3 3 3 4 3 4 4 3 4 4] [8 3 8 5 6 2 7 3 5 3 7 5 1 5 0 5 4 0 7 2 8 5 7 4 4 6 9 0 7 1 1 6 5 9 1 7 9\n",
      " 4 0 6 2 1 4 9 0 6 0 3 9 2 4 5 8 4 6 9 3 3 6 3 0 1 0 2 3 0 7 3 9 5 3 9 5 0\n",
      " 7 1 3 5 1 0 2 8 2 5 2 2 9 8 6 2 3 1 0 4 7 4 8 7 3 4]\n",
      "[7 9 7] [20 21 22 23 24 25 26 27 28 29] [3 4 3 4 3 4 4 3 4 3 3 3 3 3 4 4 3 4 4 4 3 3 4 3 3 3 4 3 4 3 4 3 3 4 3 4 4\n",
      " 3 4 4 3 4 4 4 3 4 4 3 3 4 4 4 3 3 3 3 3 3 4 4 4 3 4 4 3 3 3 4 4 4 3 4 3 3\n",
      " 4 3 4 3 3 4 3 4 4 3 3 4 3 3 3 4 3 3 3 4 3 4 4 3 4 4] [8 3 8 5 6 2 7 3 5 3 7 5 1 5 0 5 4 0 7 2 8 5 7 4 4 6 9 0 7 1 1 6 5 9 1 7 9\n",
      " 4 0 6 2 1 4 9 0 6 0 3 9 2 4 5 8 4 6 9 3 3 6 3 0 1 0 2 3 0 7 3 9 5 3 9 5 0\n",
      " 7 1 3 5 1 0 2 8 2 5 2 2 9 8 6 2 3 1 0 4 7 4 8 7 3 4]\n",
      "[1 9 7 9 0 6] [30 31 32 33 34 35 36 37 38 39] [3 4 3 4 3 4 4 3 4 3 3 3 3 3 4 4 3 4 4 4 3 3 4 3 3 3 4 3 4 3 4 3 3 4 3 4 4\n",
      " 3 4 4 3 4 4 4 3 4 4 3 3 4 4 4 3 3 3 3 3 3 4 4 4 3 4 4 3 3 3 4 4 4 3 4 3 3\n",
      " 4 3 4 3 3 4 3 4 4 3 3 4 3 3 3 4 3 3 3 4 3 4 4 3 4 4] [8 3 8 5 6 2 7 3 5 3 7 5 1 5 0 5 4 0 7 2 8 5 7 4 4 6 9 0 7 1 1 6 5 9 1 7 9\n",
      " 4 0 6 2 1 4 9 0 6 0 3 9 2 4 5 8 4 6 9 3 3 6 3 0 1 0 2 3 0 7 3 9 5 3 9 5 0\n",
      " 7 1 3 5 1 0 2 8 2 5 2 2 9 8 6 2 3 1 0 4 7 4 8 7 3 4]\n",
      "[1 4 9 6 0 2] [40 41 42 43 44 45 46 47 48 49] [3 4 3 4 3 4 4 3 4 3 3 3 3 3 4 4 3 4 4 4 3 3 4 3 3 3 4 3 4 3 4 3 3 4 3 4 4\n",
      " 3 4 4 3 4 4 4 3 4 4 3 3 4 4 4 3 3 3 3 3 3 4 4 4 3 4 4 3 3 3 4 4 4 3 4 3 3\n",
      " 4 3 4 3 3 4 3 4 4 3 3 4 3 3 3 4 3 3 3 4 3 4 4 3 4 4] [8 3 8 5 6 2 7 3 5 3 7 5 1 5 0 5 4 0 7 2 8 5 7 4 4 6 9 0 7 1 1 6 5 9 1 7 9\n",
      " 4 0 6 2 1 4 9 0 6 0 3 9 2 4 5 8 4 6 9 3 3 6 3 0 1 0 2 3 0 7 3 9 5 3 9 5 0\n",
      " 7 1 3 5 1 0 2 8 2 5 2 2 9 8 6 2 3 1 0 4 7 4 8 7 3 4]\n",
      "[4.4, 2.8, 7.666666666666667, 5.333333333333333, 3.6666666666666665]\n"
     ]
    }
   ],
   "source": [
    "result=time_stamp_clicks(clicks,label,shown_test_id)\n",
    "print(result)"
   ]
  },
  {
   "cell_type": "code",
   "execution_count": null,
   "metadata": {},
   "outputs": [],
   "source": []
  },
  {
   "cell_type": "code",
   "execution_count": null,
   "metadata": {},
   "outputs": [],
   "source": []
  }
 ],
 "metadata": {
  "kernelspec": {
   "display_name": "Python 3.6.9 64-bit ('ultra_p36': conda)",
   "language": "python",
   "name": "python36964bitultrap36condacee6eee70e5b44b99b9b7bf023422806"
  },
  "language_info": {
   "codemirror_mode": {
    "name": "ipython",
    "version": 3
   },
   "file_extension": ".py",
   "mimetype": "text/x-python",
   "name": "python",
   "nbconvert_exporter": "python",
   "pygments_lexer": "ipython3",
   "version": "3.6.9"
  },
  "metadata": {
   "interpreter": {
    "hash": "87942806cd30108665ba72e4840b0ef515cc836495433c62c16a1c2a6a3d5e84"
   }
  }
 },
 "nbformat": 4,
 "nbformat_minor": 2
}
